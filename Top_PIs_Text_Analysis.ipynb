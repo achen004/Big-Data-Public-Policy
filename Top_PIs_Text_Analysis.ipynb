{
 "cells": [
  {
   "cell_type": "code",
   "execution_count": 32,
   "metadata": {
    "id": "kT1iWXcC6nki",
    "outputId": "0ad2b3d7-d407-4d95-c984-531dbcbd65e2"
   },
   "outputs": [
    {
     "name": "stdout",
     "output_type": "stream",
     "text": [
      "Note: you may need to restart the kernel to use updated packages.\n"
     ]
    },
    {
     "name": "stderr",
     "output_type": "stream",
     "text": [
      "[nltk_data] Downloading package stopwords to\n",
      "[nltk_data]     /Users/dingruiz/nltk_data...\n",
      "[nltk_data]   Package stopwords is already up-to-date!\n"
     ]
    },
    {
     "data": {
      "text/plain": [
       "True"
      ]
     },
     "execution_count": 32,
     "metadata": {},
     "output_type": "execute_result"
    }
   ],
   "source": [
    "import pandas as pd\n",
    "import numpy as np\n",
    "import os\n",
    "import glob\n",
    "import logging\n",
    "import itertools\n",
    "\n",
    "import warnings\n",
    "warnings.filterwarnings('ignore')\n",
    "\n",
    "# import gensim\n",
    "# from gensim.utils import file_or_filename, simple_preprocess\n",
    "# from gensim.corpora.wikicorpus import _extract_pages, filter_wiki\n",
    "# from gensim.parsing.preprocessing import STOPWORDS\n",
    "# logging.basicConfig(format='%(levelname)s : %(message)s', level=logging.INFO)\n",
    "# logging.root.level = logging.INFO  # ipython sometimes messes up the logging setup; restore\n",
    "\n",
    "def head(stream, n=10):\n",
    "    \"\"\"Convenience fnc: return the first `n` elements of the stream, as plain list.\"\"\"\n",
    "    return list(itertools.islice(stream, n))\n",
    "\n",
    "#from gensim.models import CoherenceModel, LdaModel, HdpModel\n",
    "\n",
    "import matplotlib as mplib\n",
    "import matplotlib.pyplot as plt # visualization package 1\n",
    "import seaborn as sns           # visualization package 2\n",
    "import matplotlib.ticker as ticker\n",
    "# so images get plotted in the notebook\n",
    "%matplotlib inline\n",
    "\n",
    "import random\n",
    "\n",
    "%pip install --quiet nltk\n",
    "pd.set_option('display.max_colwidth', 200)\n",
    "pd.set_option('display.max_rows', 200)\n",
    "\n",
    "# text analysis tools\n",
    "import nltk\n",
    "from sklearn.feature_extraction.text import CountVectorizer, TfidfTransformer\n",
    "from sklearn.decomposition import LatentDirichletAllocation\n",
    "from sklearn import preprocessing\n",
    "from nltk import SnowballStemmer\n",
    "import string\n",
    "\n",
    "#downloading stopwords\n",
    "from nltk.corpus import stopwords\n",
    "nltk.download('stopwords')"
   ]
  },
  {
   "cell_type": "code",
   "execution_count": 33,
   "metadata": {
    "id": "JxbWvuiM6nkl"
   },
   "outputs": [],
   "source": [
    "#https://datascienceplus.com/evaluation-of-topic-modeling-topic-coherence/\n",
    "#evaluate coherence\n",
    "translator=str.maketrans(string.punctuation, ' ' * len(string.punctuation))\n",
    "string.punctuation\n",
    "stemmer = SnowballStemmer(\"english\")\n",
    "\n",
    "stop_words = set(stopwords.words('english'))\n",
    "\n",
    "#this will be used in CountVectorizer\n",
    "def tokenize(text):\n",
    "    translator = str.maketrans(string.punctuation, ' ' * len(string.punctuation))  # translator that replaces punctuation with empty spaces\n",
    "    return [stemmer.stem(i) for i in text.translate(translator).split()]  # stemmer and tokenizing into words\n",
    "\n",
    "# Tokenize stop words to match \n",
    "stop_words = [tokenize(s)[0] for s in stop_words]\n",
    "\n",
    "stop = stop_words + ['provid', 'use', 'studi', 'and', 'the', 'was', 'with', 'of', 'has', 'have', 'had', 'will', \n",
    "                     'an', 'may', 'a', 'or', 'be', 'to', 'to the', 'and the', 'embodi', 'may be', 'be',\n",
    "                    'coupl to the', 'coupl', 'coupl to', 'of a', 'first', 'second', 'a first', 'the first', 'a second', 'least',\n",
    "                     'at least', 'at', 'plural', 'plural of', 'present', 'the present', 'invent', 'more']\n",
    "full_stopwords = [tokenize(s)[0] for s in stop]\n",
    "\n",
    "\n",
    "\n",
    "def n_grams_vectorizer(ngram):\n",
    "    vectorizer = CountVectorizer(analyzer=\"word\",        # unit of features are single words rather than characters\n",
    "                                tokenizer=tokenize,      # function to create tokens\n",
    "                                ngram_range=(0,int(ngram)),       # change num of words co-located\n",
    "                                strip_accents='unicode', # remove accent characters\n",
    "                                min_df = 0.05,           # only include words with minimum frequency of 0.05\n",
    "                                max_df = 0.95)           # only include words with maximum frequency of 0.95\n",
    "    return vectorizer\n",
    "\n",
    "def topic_generator(text_list, num_topics):\n",
    "# Creating bag of words\n",
    "    bag_of_words = vectorizer.fit_transform(text_list)  # transform our corpus as a bag of words\n",
    "    features = vectorizer.get_feature_names()                # get features (words)\n",
    "\n",
    "    # Use TfidfTransformer to re-weight bag of words\n",
    "    transformer = TfidfTransformer(norm = None, smooth_idf = True, sublinear_tf = True)\n",
    "    tfidf = transformer.fit_transform(bag_of_words)\n",
    "\n",
    "    # Fitting LDA model\n",
    "    lda = LatentDirichletAllocation(n_components = num_topics, \n",
    "                                    learning_method='online',\n",
    "                                   random_state=42) #adjust n_components\n",
    "    doctopic = lda.fit_transform(tfidf)\n",
    "\n",
    "    # Displaying the top keywords in each topic\n",
    "    ls_keywords = []\n",
    "    for i,topic in enumerate(lda.components_):\n",
    "        word_idx = np.argsort(topic)[::-1][:5]\n",
    "        keywords = ', '.join(features[i] for i in word_idx)\n",
    "        ls_keywords.append(keywords)\n",
    "        print(i, keywords) \n",
    "    return doctopic, ls_keywords"
   ]
  },
  {
   "cell_type": "code",
   "execution_count": 34,
   "metadata": {
    "id": "F7R4f-NT6nkn"
   },
   "outputs": [],
   "source": [
    "path = \"C:/Users/achen/\"\n",
    "\n",
    "patent_2010_2018 = []\n",
    "for year in list(range(2012,2019)):\n",
    "    patent = pd.read_csv('Patents/patents_' + str(year) + '.csv', low_memory=False, skipinitialspace=True) \n",
    "    patent_2010_2018.append(patent)  # append that dataframe to a list\n",
    "\n",
    "# Concatenate all the dataframes together into one dataframe\n",
    "patent_2010_2018_df = pd.concat(patent_2010_2018)\n",
    "patent_2010_2018_df.to_csv('patent_2010_2018_df.csv', encoding='utf8')"
   ]
  },
  {
   "cell_type": "markdown",
   "metadata": {
    "id": "MTrDhVgo6nkn"
   },
   "source": [
    "## If concatenated patent files, start here:"
   ]
  },
  {
   "cell_type": "code",
   "execution_count": 35,
   "metadata": {
    "id": "0dQuroi56nkp",
    "outputId": "835be7df-d1f3-406f-82d5-2bdb5bc8baf5",
    "scrolled": true
   },
   "outputs": [
    {
     "name": "stdout",
     "output_type": "stream",
     "text": [
      "Index(['Unnamed: 0', 'patent_number', 'patent_title', 'patent_abstract',\n",
      "       'patent_num_cited_by_us_patents', 'patent_date', 'app_date',\n",
      "       'patent_firstnamed_inventor_name_first',\n",
      "       'patent_firstnamed_inventor_name_last',\n",
      "       'patent_firstnamed_inventor_city', 'patent_firstnamed_inventor_state',\n",
      "       'patent_firstnamed_inventor_latitude',\n",
      "       'patent_firstnamed_inventor_longitude',\n",
      "       'patent_firstnamed_assignee_organization',\n",
      "       'patent_firstnamed_assignee_city', 'patent_firstnamed_assignee_state',\n",
      "       'patent_firstnamed_assignee_latitude',\n",
      "       'patent_firstnamed_assignee_longitude'],\n",
      "      dtype='object')\n"
     ]
    }
   ],
   "source": [
    "patents_df=pd.read_csv('patent_2010_2018_df.csv', skipinitialspace=True)\n",
    "print(patents_df.columns)\n",
    "patents_df['patent_abstract']=patents_df['patent_abstract'].str.lower()\n",
    "#patents_df['patent_abstract'].isna().sum()  #patent abstracts have 88970 NaN values"
   ]
  },
  {
   "cell_type": "code",
   "execution_count": 36,
   "metadata": {
    "id": "D_TfNMgH6nkp"
   },
   "outputs": [],
   "source": [
    "patents_df['Patent_Year']=pd.to_datetime(patents_df['patent_date']).dt.year\n",
    "patents_df['patent_abstract']=patents_df['patent_abstract'].str.lower()\n",
    "patents_df['patent_title']=patents_df['patent_title'].str.lower()"
   ]
  },
  {
   "cell_type": "code",
   "execution_count": 37,
   "metadata": {
    "id": "Mo7SOCQO6nkq",
    "outputId": "f661db99-0778-42c4-e693-fb66f14dce3b",
    "scrolled": true
   },
   "outputs": [
    {
     "name": "stdout",
     "output_type": "stream",
     "text": [
      "92\n",
      "5334\n"
     ]
    }
   ],
   "source": [
    "#filter patents based on the titles\n",
    "patents_df['patent_title']=patents_df['patent_title'].str.lower()\n",
    "#filter out the abstracts that are NaN, and look at the titles instead\n",
    "patents_title_filter=patents_df[patents_df['patent_abstract'].isna()] \n",
    "RE_patents_df1=patents_title_filter[patents_title_filter['patent_title'].str.contains(' solar | wind power | wind turbine | biomass | biofuel | geothermal')]\n",
    "\n",
    "#filter patents based on the abstracts\n",
    "patents_df['patent_abstract']=patents_df['patent_abstract'].str.lower()\n",
    "upd_pas=patents_df.dropna(subset=['patent_abstract'])\n",
    "RE_patents_df2=upd_pas[upd_pas['patent_abstract'].str.contains(' solar | wind power | wind turbine | biomass | biofuel | geothermal')]\n",
    "\n",
    "print(len(RE_patents_df1)) #based on title\n",
    "print(len(RE_patents_df2)) #based on abstract"
   ]
  },
  {
   "cell_type": "code",
   "execution_count": 38,
   "metadata": {
    "id": "2cZAV3dS6nkq"
   },
   "outputs": [],
   "source": [
    "#RE_patents_df1\n",
    "#RE_patents_df2 #need to use LDA processing; some abstracts just mention a renewable energy type, but may not necessarily have a relation"
   ]
  },
  {
   "cell_type": "code",
   "execution_count": 39,
   "metadata": {
    "id": "tBbvPUME6nkr",
    "outputId": "d877653b-759c-42a4-8f6b-53fe81c9ec04"
   },
   "outputs": [
    {
     "data": {
      "text/html": [
       "<div>\n",
       "<style scoped>\n",
       "    .dataframe tbody tr th:only-of-type {\n",
       "        vertical-align: middle;\n",
       "    }\n",
       "\n",
       "    .dataframe tbody tr th {\n",
       "        vertical-align: top;\n",
       "    }\n",
       "\n",
       "    .dataframe thead th {\n",
       "        text-align: right;\n",
       "    }\n",
       "</style>\n",
       "<table border=\"1\" class=\"dataframe\">\n",
       "  <thead>\n",
       "    <tr style=\"text-align: right;\">\n",
       "      <th></th>\n",
       "      <th>first_name</th>\n",
       "      <th>last_name</th>\n",
       "      <th>number of patents</th>\n",
       "    </tr>\n",
       "  </thead>\n",
       "  <tbody>\n",
       "    <tr>\n",
       "      <th>0</th>\n",
       "      <td>Joseph Broun</td>\n",
       "      <td>Powell</td>\n",
       "      <td>53</td>\n",
       "    </tr>\n",
       "    <tr>\n",
       "      <th>1</th>\n",
       "      <td>Marshall</td>\n",
       "      <td>Medoff</td>\n",
       "      <td>44</td>\n",
       "    </tr>\n",
       "    <tr>\n",
       "      <th>2</th>\n",
       "      <td>Aniket V.</td>\n",
       "      <td>Kale</td>\n",
       "      <td>33</td>\n",
       "    </tr>\n",
       "    <tr>\n",
       "      <th>3</th>\n",
       "      <td>Roy</td>\n",
       "      <td>McAlister</td>\n",
       "      <td>30</td>\n",
       "    </tr>\n",
       "    <tr>\n",
       "      <th>4</th>\n",
       "      <td>Michael C.</td>\n",
       "      <td>Cheiky</td>\n",
       "      <td>29</td>\n",
       "    </tr>\n",
       "    <tr>\n",
       "      <th>5</th>\n",
       "      <td>Gabriel</td>\n",
       "      <td>Harley</td>\n",
       "      <td>19</td>\n",
       "    </tr>\n",
       "    <tr>\n",
       "      <th>6</th>\n",
       "      <td>Kyle L.</td>\n",
       "      <td>Fujdala</td>\n",
       "      <td>19</td>\n",
       "    </tr>\n",
       "    <tr>\n",
       "      <th>7</th>\n",
       "      <td>Mehrdad M.</td>\n",
       "      <td>Moslehi</td>\n",
       "      <td>19</td>\n",
       "    </tr>\n",
       "    <tr>\n",
       "      <th>8</th>\n",
       "      <td>Ming</td>\n",
       "      <td>Qiao</td>\n",
       "      <td>17</td>\n",
       "    </tr>\n",
       "    <tr>\n",
       "      <th>9</th>\n",
       "      <td>David D.</td>\n",
       "      <td>Smith</td>\n",
       "      <td>17</td>\n",
       "    </tr>\n",
       "  </tbody>\n",
       "</table>\n",
       "</div>"
      ],
      "text/plain": [
       "     first_name  last_name  number of patents\n",
       "0  Joseph Broun     Powell                 53\n",
       "1      Marshall     Medoff                 44\n",
       "2     Aniket V.       Kale                 33\n",
       "3           Roy  McAlister                 30\n",
       "4    Michael C.     Cheiky                 29\n",
       "5       Gabriel     Harley                 19\n",
       "6       Kyle L.    Fujdala                 19\n",
       "7    Mehrdad M.    Moslehi                 19\n",
       "8          Ming       Qiao                 17\n",
       "9      David D.      Smith                 17"
      ]
     },
     "execution_count": 39,
     "metadata": {},
     "output_type": "execute_result"
    }
   ],
   "source": [
    "#Look at PIs in dataset with abstracts not nan throughout all years\n",
    "RE_types=['solar', 'wind power | wind turbine','biomass | biofuel','geothermal']\n",
    "PI_patents=RE_patents_df2.groupby(['patent_firstnamed_inventor_name_first','patent_firstnamed_inventor_name_last'])['patent_number'].nunique()\n",
    "PI_df=PI_patents.to_frame().reset_index()\n",
    "PI_df=PI_df.rename(columns={'patent_firstnamed_inventor_name_first':'first_name','patent_firstnamed_inventor_name_last':'last_name','patent_number':'number of patents'})\n",
    "top_10_PIs=PI_df.sort_values(by='number of patents', ascending=False).head(10)\n",
    "top_10_PIs.reset_index(drop=True)"
   ]
  },
  {
   "cell_type": "code",
   "execution_count": 40,
   "metadata": {
    "id": "8QTSPSHp6nkr"
   },
   "outputs": [],
   "source": [
    "#Filter the time periods from the patent abstract data \n",
    "ARRA_patents=RE_patents_df2[RE_patents_df2['Patent_Year'].between(2012,2016)]\n",
    "Post_ARRA_patents=RE_patents_df2[RE_patents_df2['Patent_Year'].between(2017,2018)]"
   ]
  },
  {
   "cell_type": "code",
   "execution_count": 41,
   "metadata": {
    "id": "2X58-6DD6nks",
    "outputId": "a1bdd656-9c05-42a4-cc8e-57fa813b62dc"
   },
   "outputs": [
    {
     "data": {
      "text/html": [
       "<div>\n",
       "<style scoped>\n",
       "    .dataframe tbody tr th:only-of-type {\n",
       "        vertical-align: middle;\n",
       "    }\n",
       "\n",
       "    .dataframe tbody tr th {\n",
       "        vertical-align: top;\n",
       "    }\n",
       "\n",
       "    .dataframe thead th {\n",
       "        text-align: right;\n",
       "    }\n",
       "</style>\n",
       "<table border=\"1\" class=\"dataframe\">\n",
       "  <thead>\n",
       "    <tr style=\"text-align: right;\">\n",
       "      <th></th>\n",
       "      <th>first_name</th>\n",
       "      <th>last_name</th>\n",
       "      <th>number of patents after ARRA</th>\n",
       "    </tr>\n",
       "  </thead>\n",
       "  <tbody>\n",
       "    <tr>\n",
       "      <th>0</th>\n",
       "      <td>Joseph Broun</td>\n",
       "      <td>Powell</td>\n",
       "      <td>36</td>\n",
       "    </tr>\n",
       "    <tr>\n",
       "      <th>1</th>\n",
       "      <td>Aniket V.</td>\n",
       "      <td>Kale</td>\n",
       "      <td>33</td>\n",
       "    </tr>\n",
       "    <tr>\n",
       "      <th>2</th>\n",
       "      <td>Roy</td>\n",
       "      <td>McAlister</td>\n",
       "      <td>26</td>\n",
       "    </tr>\n",
       "    <tr>\n",
       "      <th>3</th>\n",
       "      <td>Marshall</td>\n",
       "      <td>Medoff</td>\n",
       "      <td>24</td>\n",
       "    </tr>\n",
       "    <tr>\n",
       "      <th>4</th>\n",
       "      <td>Michael C.</td>\n",
       "      <td>Cheiky</td>\n",
       "      <td>23</td>\n",
       "    </tr>\n",
       "    <tr>\n",
       "      <th>5</th>\n",
       "      <td>Kyle L.</td>\n",
       "      <td>Fujdala</td>\n",
       "      <td>19</td>\n",
       "    </tr>\n",
       "    <tr>\n",
       "      <th>6</th>\n",
       "      <td>Bulent M.</td>\n",
       "      <td>Basol</td>\n",
       "      <td>16</td>\n",
       "    </tr>\n",
       "    <tr>\n",
       "      <th>7</th>\n",
       "      <td>Mehrdad M.</td>\n",
       "      <td>Moslehi</td>\n",
       "      <td>16</td>\n",
       "    </tr>\n",
       "    <tr>\n",
       "      <th>8</th>\n",
       "      <td>Theodora</td>\n",
       "      <td>Retsina</td>\n",
       "      <td>14</td>\n",
       "    </tr>\n",
       "    <tr>\n",
       "      <th>9</th>\n",
       "      <td>Robert</td>\n",
       "      <td>Bartek</td>\n",
       "      <td>13</td>\n",
       "    </tr>\n",
       "  </tbody>\n",
       "</table>\n",
       "</div>"
      ],
      "text/plain": [
       "     first_name  last_name  number of patents after ARRA\n",
       "0  Joseph Broun     Powell                            36\n",
       "1     Aniket V.       Kale                            33\n",
       "2           Roy  McAlister                            26\n",
       "3      Marshall     Medoff                            24\n",
       "4    Michael C.     Cheiky                            23\n",
       "5       Kyle L.    Fujdala                            19\n",
       "6     Bulent M.      Basol                            16\n",
       "7    Mehrdad M.    Moslehi                            16\n",
       "8      Theodora    Retsina                            14\n",
       "9        Robert     Bartek                            13"
      ]
     },
     "execution_count": 41,
     "metadata": {},
     "output_type": "execute_result"
    }
   ],
   "source": [
    "#Top 10 PIs who obtained patents after ARRA stimulus\n",
    "PI_patents=ARRA_patents.groupby(['patent_firstnamed_inventor_name_first','patent_firstnamed_inventor_name_last'])['patent_number'].nunique()\n",
    "PI_df=PI_patents.to_frame().reset_index()\n",
    "PI_df=PI_df.rename(columns={'patent_firstnamed_inventor_name_first':'first_name','patent_firstnamed_inventor_name_last':'last_name','patent_number':'number of patents after ARRA'})\n",
    "top_10_PIs_ARRA=PI_df.sort_values(by='number of patents after ARRA', ascending=False).head(10)\n",
    "top_10_PIs_ARRA.reset_index(drop=True)"
   ]
  },
  {
   "cell_type": "code",
   "execution_count": 42,
   "metadata": {
    "id": "Z29OIfuZ6nks",
    "outputId": "3e21cae2-7e86-4342-a7fe-51136d8ffaf0"
   },
   "outputs": [
    {
     "data": {
      "text/html": [
       "<div>\n",
       "<style scoped>\n",
       "    .dataframe tbody tr th:only-of-type {\n",
       "        vertical-align: middle;\n",
       "    }\n",
       "\n",
       "    .dataframe tbody tr th {\n",
       "        vertical-align: top;\n",
       "    }\n",
       "\n",
       "    .dataframe thead th {\n",
       "        text-align: right;\n",
       "    }\n",
       "</style>\n",
       "<table border=\"1\" class=\"dataframe\">\n",
       "  <thead>\n",
       "    <tr style=\"text-align: right;\">\n",
       "      <th></th>\n",
       "      <th>first_name</th>\n",
       "      <th>last_name</th>\n",
       "      <th>number of patents after post-ARRA</th>\n",
       "    </tr>\n",
       "  </thead>\n",
       "  <tbody>\n",
       "    <tr>\n",
       "      <th>0</th>\n",
       "      <td>Marshall</td>\n",
       "      <td>Medoff</td>\n",
       "      <td>20</td>\n",
       "    </tr>\n",
       "    <tr>\n",
       "      <th>1</th>\n",
       "      <td>Joseph Broun</td>\n",
       "      <td>Powell</td>\n",
       "      <td>17</td>\n",
       "    </tr>\n",
       "    <tr>\n",
       "      <th>2</th>\n",
       "      <td>Richard Hamilton</td>\n",
       "      <td>Sewell</td>\n",
       "      <td>9</td>\n",
       "    </tr>\n",
       "    <tr>\n",
       "      <th>3</th>\n",
       "      <td>Benjamin</td>\n",
       "      <td>Harvey</td>\n",
       "      <td>8</td>\n",
       "    </tr>\n",
       "    <tr>\n",
       "      <th>4</th>\n",
       "      <td>Alexander W.</td>\n",
       "      <td>Au</td>\n",
       "      <td>8</td>\n",
       "    </tr>\n",
       "    <tr>\n",
       "      <th>5</th>\n",
       "      <td>Thomas P.</td>\n",
       "      <td>Pass</td>\n",
       "      <td>7</td>\n",
       "    </tr>\n",
       "    <tr>\n",
       "      <th>6</th>\n",
       "      <td>Gabriel</td>\n",
       "      <td>Harley</td>\n",
       "      <td>7</td>\n",
       "    </tr>\n",
       "    <tr>\n",
       "      <th>7</th>\n",
       "      <td>Ashok</td>\n",
       "      <td>Chaudhari</td>\n",
       "      <td>6</td>\n",
       "    </tr>\n",
       "    <tr>\n",
       "      <th>8</th>\n",
       "      <td>John Setel</td>\n",
       "      <td>O'Donnell</td>\n",
       "      <td>6</td>\n",
       "    </tr>\n",
       "    <tr>\n",
       "      <th>9</th>\n",
       "      <td>Ming</td>\n",
       "      <td>Qiao</td>\n",
       "      <td>6</td>\n",
       "    </tr>\n",
       "  </tbody>\n",
       "</table>\n",
       "</div>"
      ],
      "text/plain": [
       "         first_name  last_name  number of patents after post-ARRA\n",
       "0          Marshall     Medoff                                 20\n",
       "1      Joseph Broun     Powell                                 17\n",
       "2  Richard Hamilton     Sewell                                  9\n",
       "3          Benjamin     Harvey                                  8\n",
       "4      Alexander W.         Au                                  8\n",
       "5         Thomas P.       Pass                                  7\n",
       "6           Gabriel     Harley                                  7\n",
       "7             Ashok  Chaudhari                                  6\n",
       "8        John Setel  O'Donnell                                  6\n",
       "9              Ming       Qiao                                  6"
      ]
     },
     "execution_count": 42,
     "metadata": {},
     "output_type": "execute_result"
    }
   ],
   "source": [
    "#Top 10 PIs who obtained patents after post-ARRA stimulus\n",
    "PI_patents=Post_ARRA_patents.groupby(['patent_firstnamed_inventor_name_first','patent_firstnamed_inventor_name_last'])['patent_number'].nunique()\n",
    "PI_df=PI_patents.to_frame().reset_index()\n",
    "PI_df=PI_df.rename(columns={'patent_firstnamed_inventor_name_first':'first_name','patent_firstnamed_inventor_name_last':'last_name','patent_number':'number of patents after post-ARRA'})\n",
    "top_10_PIs_post_ARRA=PI_df.sort_values(by='number of patents after post-ARRA', ascending=False).head(10)\n",
    "top_10_PIs_post_ARRA.reset_index(drop=True)"
   ]
  },
  {
   "cell_type": "markdown",
   "metadata": {
    "id": "-0-CavekTGDb"
   },
   "source": [
    "Merge the two dataframes based on the same first name and last name of the PIs. This table image is used on slide 15 of our presentation."
   ]
  },
  {
   "cell_type": "code",
   "execution_count": 43,
   "metadata": {
    "id": "GnmtXiUU6nkt",
    "outputId": "e6eb813f-dd04-44df-b8f9-86c11832557a"
   },
   "outputs": [
    {
     "data": {
      "text/html": [
       "<div>\n",
       "<style scoped>\n",
       "    .dataframe tbody tr th:only-of-type {\n",
       "        vertical-align: middle;\n",
       "    }\n",
       "\n",
       "    .dataframe tbody tr th {\n",
       "        vertical-align: top;\n",
       "    }\n",
       "\n",
       "    .dataframe thead th {\n",
       "        text-align: right;\n",
       "    }\n",
       "</style>\n",
       "<table border=\"1\" class=\"dataframe\">\n",
       "  <thead>\n",
       "    <tr style=\"text-align: right;\">\n",
       "      <th></th>\n",
       "      <th>first_name</th>\n",
       "      <th>last_name</th>\n",
       "      <th>number of patents after ARRA</th>\n",
       "      <th>number of patents after post-ARRA</th>\n",
       "    </tr>\n",
       "  </thead>\n",
       "  <tbody>\n",
       "    <tr>\n",
       "      <th>0</th>\n",
       "      <td>Joseph Broun</td>\n",
       "      <td>Powell</td>\n",
       "      <td>36</td>\n",
       "      <td>17</td>\n",
       "    </tr>\n",
       "    <tr>\n",
       "      <th>1</th>\n",
       "      <td>Marshall</td>\n",
       "      <td>Medoff</td>\n",
       "      <td>24</td>\n",
       "      <td>20</td>\n",
       "    </tr>\n",
       "  </tbody>\n",
       "</table>\n",
       "</div>"
      ],
      "text/plain": [
       "     first_name last_name  number of patents after ARRA  \\\n",
       "0  Joseph Broun    Powell                            36   \n",
       "1      Marshall    Medoff                            24   \n",
       "\n",
       "   number of patents after post-ARRA  \n",
       "0                                 17  \n",
       "1                                 20  "
      ]
     },
     "execution_count": 43,
     "metadata": {},
     "output_type": "execute_result"
    }
   ],
   "source": [
    "merged_tp=pd.merge(top_10_PIs_ARRA, top_10_PIs_post_ARRA, on=['first_name', 'last_name'], how='inner')\n",
    "merged_tp"
   ]
  },
  {
   "cell_type": "markdown",
   "metadata": {
    "id": "npfDKaUD6nkt"
   },
   "source": [
    "We can see that these are the two PIs with the most consistent number of patents generated through the time periods we are investigating"
   ]
  },
  {
   "cell_type": "code",
   "execution_count": 44,
   "metadata": {
    "id": "Xmfe5aJq6nku"
   },
   "outputs": [],
   "source": [
    "JPB_patents_A=ARRA_patents[(ARRA_patents['patent_firstnamed_inventor_name_first']=='Joseph Broun') & (ARRA_patents['patent_firstnamed_inventor_name_last']=='Powell')]\n",
    "JPB_patents_pA=Post_ARRA_patents[(Post_ARRA_patents['patent_firstnamed_inventor_name_first']=='Joseph Broun') & (Post_ARRA_patents['patent_firstnamed_inventor_name_last']=='Powell')]\n",
    "MM_patents_A=ARRA_patents[(ARRA_patents['patent_firstnamed_inventor_name_first']=='Marshall') & (ARRA_patents['patent_firstnamed_inventor_name_last']=='Medoff')]\n",
    "MM_patents_pA=Post_ARRA_patents[(Post_ARRA_patents['patent_firstnamed_inventor_name_first']=='Marshall') & (Post_ARRA_patents['patent_firstnamed_inventor_name_last']=='Medoff')]"
   ]
  },
  {
   "cell_type": "code",
   "execution_count": 45,
   "metadata": {
    "id": "2Nk5cGh16nku"
   },
   "outputs": [],
   "source": [
    "#this function will help transform the detailed topics into a dataframe which we can use to graph \n",
    "def patent_topic_details(input_df):\n",
    "    topics_doc = pd.DataFrame(doctopic, columns = ls_keywords)\n",
    "    #topics_doc.head()\n",
    "    topics_doc.reset_index(drop=True, inplace=True)\n",
    "    input_df.reset_index(drop=True, inplace=True)\n",
    "    topic_patent_abs=pd.concat([topics_doc, input_df], axis=1)\n",
    "    #topic_patent_abs.head(2)\n",
    "    topics_doc.idxmax(axis=1) #this gives the index column name of max score in the column\n",
    "    doc_topics_project_id_with_max = pd.concat([topics_doc.idxmax(axis=1),RE_patents_df2],axis=1).rename(columns={0:'topic'})\n",
    "    #doc_topics_project_id_with_max.head(2)\n",
    "    topic_list=list(doc_topics_project_id_with_max.topic.unique())\n",
    "    patent_counts_dict={}\n",
    "    for t in topic_list:\n",
    "        patent_counts_dict[t]=len(doc_topics_project_id_with_max[doc_topics_project_id_with_max['topic']==t])\n",
    "    patent_counts_df=pd.DataFrame([patent_counts_dict])\n",
    "    patent_counts_df=patent_counts_df.transpose()\n",
    "    patent_counts_df.rename(columns={0:'num_patents'}, inplace=True)\n",
    "    patent_counts_df.sort_values(by='num_patents', inplace=True)\n",
    "    patent_counts_df=patent_counts_df[patent_counts_df['num_patents']!=0]\n",
    "    return patent_counts_df"
   ]
  },
  {
   "cell_type": "markdown",
   "metadata": {
    "id": "qTjk2-tm6nku"
   },
   "source": [
    "Let's first look at the large patent topics after ARRA (2012-2016). This image of topics was used on slide 15 of our presentation."
   ]
  },
  {
   "cell_type": "code",
   "execution_count": 46,
   "metadata": {
    "id": "zjPUBAHy6nkv",
    "outputId": "7df3c3fc-68e7-485b-c4cc-8ffcc5c9d1e4"
   },
   "outputs": [
    {
     "name": "stdout",
     "output_type": "stream",
     "text": [
      "0 plural, plural of, to, assembl, wind\n",
      "1 biomass, and, of, process, in\n",
      "2 solar cell, cell, layer, first, second\n",
      "3 power, system, may, solar, or\n"
     ]
    }
   ],
   "source": [
    "ARRA_patents_abstracts=ARRA_patents['patent_abstract'].values.tolist()\n",
    "vectorizer=n_grams_vectorizer(2) #choose number of n-grams\n",
    "doctopic, ls_keywords=topic_generator(ARRA_patents_abstracts, 4) "
   ]
  },
  {
   "cell_type": "markdown",
   "metadata": {
    "id": "d099jYgt6nkv"
   },
   "source": [
    "Let's now look at the large patent topics after post-ARRA (2017-2018). This image of topics was used on slide 15 of our presentation."
   ]
  },
  {
   "cell_type": "code",
   "execution_count": 47,
   "metadata": {
    "id": "0X7lCuu26nkw",
    "outputId": "0d48b4f4-d2cb-4f2f-b550-f1b94621144a"
   },
   "outputs": [
    {
     "name": "stdout",
     "output_type": "stream",
     "text": [
      "0 power, wind, turbin, system, wind turbin\n",
      "1 biomass, and, to, of, in\n",
      "2 cell, solar cell, layer, substrat, metal\n",
      "3 first, second, panel, solar, solar panel\n"
     ]
    }
   ],
   "source": [
    "Post_ARRA_patents_abstracts=Post_ARRA_patents['patent_abstract'].values.tolist()\n",
    "vectorizer=n_grams_vectorizer(2) #choose number of n-grams\n",
    "doctopic, ls_keywords=topic_generator(Post_ARRA_patents_abstracts, 4) "
   ]
  },
  {
   "cell_type": "markdown",
   "metadata": {
    "id": "8BEvuWJn6nkw"
   },
   "source": [
    "**We can see that the broad topics are approximately the same when comparing the time periods of interest**\n",
    "\n",
    "**Now we wanted to know the details of the patents that the top 2 consistent PIs: JBP and MM produced**"
   ]
  },
  {
   "cell_type": "markdown",
   "metadata": {
    "id": "2Zdj7eQj6nky"
   },
   "source": [
    "JBP after ARRA"
   ]
  },
  {
   "cell_type": "code",
   "execution_count": 48,
   "metadata": {
    "id": "dWvpB8316nkz",
    "outputId": "6858bb37-f078-47c4-a11a-ca2328a3b4c7"
   },
   "outputs": [
    {
     "name": "stdout",
     "output_type": "stream",
     "text": [
      "0 fluid, outlet, communic, fluid communic, in fluid\n",
      "1 biomass solid, cellulos, cellulos biomass, digest, solid\n",
      "2 have, time, catalyst, have a, support\n",
      "3 support, stabil, phase stabil, stabil test, test\n",
      "4 hydrocatalyt, hydrotherm hydrocatalyt, the biomass, that, hydrotherm\n"
     ]
    }
   ],
   "source": [
    "JPB_patents_A_abstracts=JPB_patents_A['patent_abstract'].values.tolist()\n",
    "vectorizer=n_grams_vectorizer(2) #choose number of n-grams\n",
    "doctopic, ls_keywords=topic_generator(JPB_patents_A_abstracts, 5) "
   ]
  },
  {
   "cell_type": "code",
   "execution_count": 51,
   "metadata": {
    "id": "EG8mhXun6nk0",
    "outputId": "767c3bae-734a-4e43-bce5-a6be0f36801c"
   },
   "outputs": [
    {
     "data": {
      "image/png": "[encoded data removed]",
      "text/plain": [
       "<Figure size 432x288 with 1 Axes>"
      ]
     },
     "metadata": {
      "needs_background": "light"
     },
     "output_type": "display_data"
    }
   ],
   "source": [
    "patent_counts_df=patent_topic_details(JPB_patents_A)\n",
    "patent_counts_df.plot(kind='bar', legend=None)\n",
    "plt.ylabel('Number of Patents')\n",
    "plt.savefig('JBP_after_ARRA.png', bbox_inches='tight')\n",
    "plt.show()"
   ]
  },
  {
   "cell_type": "markdown",
   "metadata": {
    "id": "lCQ_TVd56nk0"
   },
   "source": [
    "JBP after post-ARRA"
   ]
  },
  {
   "cell_type": "code",
   "execution_count": 53,
   "metadata": {
    "id": "-Mm3k4176nk1",
    "outputId": "12541633-4e74-4119-95e1-d07631c4f0f9"
   },
   "outputs": [
    {
     "name": "stdout",
     "output_type": "stream",
     "text": [
      "0 further, product, molecular weight, weight compound, unconvert\n",
      "1 continu, the continu, continu liquid, phase, gas\n",
      "2 phase, biomass solid, solid, phenol liquid, the cellulos\n",
      "3 mixtur, product mixtur, least one, reaction, one\n",
      "4 the biomass, hydrocatalyt, hydrotherm hydrocatalyt, hydrotherm, that\n"
     ]
    }
   ],
   "source": [
    "JPB_patents_pA_abstracts=JPB_patents_pA['patent_abstract'].values.tolist()\n",
    "vectorizer=n_grams_vectorizer(2) #choose number of n-grams\n",
    "doctopic, ls_keywords=topic_generator(JPB_patents_pA_abstracts, 5) "
   ]
  },
  {
   "cell_type": "code",
   "execution_count": 54,
   "metadata": {
    "id": "nD4ChC996nk2",
    "outputId": "45256b74-74f7-47cd-fd80-e3b7f58353e5"
   },
   "outputs": [
    {
     "data": {
      "image/png": "[encoded data removed]",
      "text/plain": [
       "<Figure size 432x288 with 1 Axes>"
      ]
     },
     "metadata": {
      "needs_background": "light"
     },
     "output_type": "display_data"
    }
   ],
   "source": [
    "patent_counts_df=patent_topic_details(JPB_patents_pA)\n",
    "patent_counts_df.plot(kind='bar', legend=None)\n",
    "plt.ylabel('Number of Patents')\n",
    "plt.savefig('JBP_after_post_ARRA.png', bbox_inches='tight')\n",
    "plt.show()"
   ]
  },
  {
   "cell_type": "markdown",
   "metadata": {
    "id": "lqmtmzY06nk2"
   },
   "source": [
    "MM after ARRA"
   ]
  },
  {
   "cell_type": "code",
   "execution_count": 55,
   "metadata": {
    "id": "FwHu2qBW6nk3",
    "outputId": "95c1c28b-4660-4670-862e-efd6fbf09886"
   },
   "outputs": [
    {
     "name": "stdout",
     "output_type": "stream",
     "text": [
      "0 cool, conveyor, the biomass, conveyor can, the conveyor\n",
      "1 sand, materi such, materi, and or, or\n",
      "2 feedstock, to produc, biomass feedstock, saccharifi, a\n",
      "3 facil, product facil, transport, ethanol product, made\n",
      "4 the product, product of, of, by ferment, g the\n"
     ]
    }
   ],
   "source": [
    "MM_patents_A_abstracts=MM_patents_A['patent_abstract'].values.tolist()\n",
    "vectorizer=n_grams_vectorizer(2) #choose number of n-grams\n",
    "doctopic, ls_keywords=topic_generator(MM_patents_A_abstracts, 5) "
   ]
  },
  {
   "cell_type": "code",
   "execution_count": 56,
   "metadata": {
    "id": "PwPtkt9i6nk4",
    "outputId": "c3c7c7cb-6093-4ba4-ccb0-a7c0fd274c3d"
   },
   "outputs": [
    {
     "data": {
      "image/png": "[encoded data removed]",
      "text/plain": [
       "<Figure size 432x288 with 1 Axes>"
      ]
     },
     "metadata": {
      "needs_background": "light"
     },
     "output_type": "display_data"
    }
   ],
   "source": [
    "patent_counts_df=patent_topic_details(MM_patents_A)\n",
    "patent_counts_df.plot(kind='bar', legend=None)\n",
    "plt.ylabel('Number of Patents')\n",
    "plt.savefig('MM_after_ARRA.png', bbox_inches='tight')\n",
    "plt.show()"
   ]
  },
  {
   "cell_type": "markdown",
   "metadata": {
    "id": "y2OrJVY26nk4"
   },
   "source": [
    "MM after post-ARRA"
   ]
  },
  {
   "cell_type": "code",
   "execution_count": 57,
   "metadata": {
    "id": "YrTqfUI46nk5",
    "outputId": "fcd40ee1-0ec9-4a47-b75a-47646b552ddd"
   },
   "outputs": [
    {
     "name": "stdout",
     "output_type": "stream",
     "text": [
      "0 ani, biomass materi, a, in, process biomass\n",
      "1 biomass feedstock, feedstock, vessel, saccharifi, a\n",
      "2 facil, acid, product facil, of, or\n",
      "3 prepar, chip, xylos, mix, candi\n",
      "4 conveyor, beam, and or, conveyor can, the conveyor\n"
     ]
    }
   ],
   "source": [
    "MM_patents_pA_abstracts=MM_patents_pA['patent_abstract'].values.tolist()\n",
    "vectorizer=n_grams_vectorizer(2) #choose number of n-grams\n",
    "doctopic, ls_keywords=topic_generator(MM_patents_pA_abstracts, 5) "
   ]
  },
  {
   "cell_type": "code",
   "execution_count": 58,
   "metadata": {
    "id": "h3fQeUKR6nk5",
    "outputId": "6e3d67df-48b4-4ddb-c644-807398ceddae",
    "scrolled": false
   },
   "outputs": [
    {
     "data": {
      "image/png": "[encoded data removed]",
      "text/plain": [
       "<Figure size 432x288 with 1 Axes>"
      ]
     },
     "metadata": {
      "needs_background": "light"
     },
     "output_type": "display_data"
    }
   ],
   "source": [
    "patent_counts_df=patent_topic_details(MM_patents_pA)\n",
    "patent_counts_df.plot(kind='bar', legend=None)\n",
    "plt.ylabel('Number of Patents')\n",
    "plt.savefig('MM_after_post_ARRA.png', bbox_inches='tight')\n",
    "plt.show()"
   ]
  },
  {
   "cell_type": "markdown",
   "metadata": {},
   "source": [
    "we can see most renewable energy related topic of these 2 top PI is biomass. \n",
    "try a different approach that filtering only the biomass related patents"
   ]
  },
  {
   "cell_type": "markdown",
   "metadata": {},
   "source": [
    "# filter these top 2 PI with biomass"
   ]
  },
  {
   "cell_type": "markdown",
   "metadata": {},
   "source": [
    "JBP after ARRA"
   ]
  },
  {
   "cell_type": "code",
   "execution_count": 81,
   "metadata": {},
   "outputs": [
    {
     "name": "stdout",
     "output_type": "stream",
     "text": [
      "0 fluid, outlet, communic, fluid communic, in fluid\n",
      "1 biomass solid, cellulos, cellulos biomass, digest, solid\n",
      "2 have, time, catalyst, have a, support\n",
      "3 support, stabil, phase stabil, stabil test, test\n",
      "4 hydrocatalyt, hydrotherm hydrocatalyt, the biomass, that, hydrotherm\n"
     ]
    }
   ],
   "source": [
    "BIO_JPB_patents_A_abstracts=JPB_patents_A[JPB_patents_A['patent_abstract'].str.contains(\"biomass|bosfuel\")]\n",
    "BIO_JPB_patents_A_abstracts_list = BIO_JPB_patents_A_abstracts['patent_abstract'].values.tolist()\n",
    "vectorizer=n_grams_vectorizer(2) #choose number of n-grams\n",
    "doctopic, ls_keywords=topic_generator(BIO_JPB_patents_A_abstracts_list, 5) "
   ]
  },
  {
   "cell_type": "markdown",
   "metadata": {},
   "source": [
    "view the one of the abstract of JBP in the after ARRA period"
   ]
  },
  {
   "cell_type": "code",
   "execution_count": 94,
   "metadata": {},
   "outputs": [
    {
     "data": {
      "text/plain": [
       "'a process for producing biofuels from biomass is provided by removing sulfur compounds and nitrogen compounds from the biomass by contacting the biomass with a digestive solvent to form a pretreated biomass containing soluble carbohydrates and having less than 35% of the sulfur content and less than 35% of the nitrogen content, based on untreated biomass on a dry mass basis, prior to carrying out aqueous phase reforming and further processing to form a liquid fuel.'"
      ]
     },
     "execution_count": 94,
     "metadata": {},
     "output_type": "execute_result"
    }
   ],
   "source": [
    "BIO_JPB_patents_A_abstracts_list[0]"
   ]
  },
  {
   "cell_type": "markdown",
   "metadata": {},
   "source": [
    "JBP after post ARRA"
   ]
  },
  {
   "cell_type": "code",
   "execution_count": 82,
   "metadata": {},
   "outputs": [
    {
     "name": "stdout",
     "output_type": "stream",
     "text": [
      "0 further, product, molecular weight, weight compound, unconvert\n",
      "1 continu, the continu, continu liquid, phase, gas\n",
      "2 phase, biomass solid, solid, phenol liquid, the cellulos\n",
      "3 mixtur, product mixtur, least one, reaction, one\n",
      "4 the biomass, hydrocatalyt, hydrotherm hydrocatalyt, hydrotherm, that\n"
     ]
    }
   ],
   "source": [
    "BIO_JPB_patents_pA_abstracts=JPB_patents_pA[JPB_patents_pA['patent_abstract'].str.contains(\"biomass|bosfuel\")]\n",
    "BIO_JPB_patents_pA_abstracts_list = BIO_JPB_patents_pA_abstracts['patent_abstract'].values.tolist()\n",
    "vectorizer=n_grams_vectorizer(2) #choose number of n-grams\n",
    "doctopic, ls_keywords=topic_generator(BIO_JPB_patents_pA_abstracts_list, 5) "
   ]
  },
  {
   "cell_type": "markdown",
   "metadata": {},
   "source": [
    "compare the abstract of JBP in the after ARRA period and post ARRA period"
   ]
  },
  {
   "cell_type": "code",
   "execution_count": 95,
   "metadata": {},
   "outputs": [
    {
     "data": {
      "text/plain": [
       "'digestion of cellulosic biomass solids may be complicated by release of lignin therefrom. methods for digesting cellulosic biomass solids may comprise: providing cellulosic biomass solids in a digestion solvent; at least partially converting the cellulosic biomass solids into a phenolics liquid phase comprising lignin, an aqueous phase comprising an alcoholic component derived from the cellulosic biomass solids, and an optional light organics phase; and separating the phenolics liquid phase from the aqueous phase.'"
      ]
     },
     "execution_count": 95,
     "metadata": {},
     "output_type": "execute_result"
    }
   ],
   "source": [
    "BIO_JPB_patents_pA_abstracts_list[0]"
   ]
  },
  {
   "cell_type": "markdown",
   "metadata": {},
   "source": [
    "MM after ARRA"
   ]
  },
  {
   "cell_type": "code",
   "execution_count": 83,
   "metadata": {},
   "outputs": [
    {
     "name": "stdout",
     "output_type": "stream",
     "text": [
      "0 cool, conveyor, the biomass, conveyor can, the conveyor\n",
      "1 sand, materi such, materi, and or, or\n",
      "2 feedstock, to produc, biomass feedstock, saccharifi, a\n",
      "3 facil, product facil, transport, ethanol product, made\n",
      "4 the product, product of, of, by ferment, g the\n"
     ]
    }
   ],
   "source": [
    "BIO_MM_patents_A_abstracts=MM_patents_A[MM_patents_A['patent_abstract'].str.contains(\"biomass|bosfuel\")]\n",
    "BIO_MM_patents_A_abstracts_list = BIO_MM_patents_A_abstracts['patent_abstract'].values.tolist()\n",
    "vectorizer=n_grams_vectorizer(2) #choose number of n-grams\n",
    "doctopic, ls_keywords=topic_generator(BIO_MM_patents_A_abstracts_list, 5) "
   ]
  },
  {
   "cell_type": "markdown",
   "metadata": {},
   "source": [
    "view the one of the abstract of MM in the after ARRA period"
   ]
  },
  {
   "cell_type": "code",
   "execution_count": 96,
   "metadata": {},
   "outputs": [
    {
     "data": {
      "text/plain": [
       "'materials such as biomass (e.g., plant biomass, animal biomass, and municipal waste biomass) and hydrocarbon-containing materials are processed to produce useful products, such as fuels. for example, systems are described that can use feedstock materials, such as cellulosic and/or lignocellulosic materials and/or starchy materials, or oil sands, oil shale, tar sands, bitumen, and coal to produce altered materials such as fuels (e.g., ethanol and/or butanol). the processing includes exposing the materials to an ion beam.'"
      ]
     },
     "execution_count": 96,
     "metadata": {},
     "output_type": "execute_result"
    }
   ],
   "source": [
    "BIO_MM_patents_A_abstracts_list[0]"
   ]
  },
  {
   "cell_type": "markdown",
   "metadata": {},
   "source": [
    "MM after post ARRA"
   ]
  },
  {
   "cell_type": "code",
   "execution_count": 84,
   "metadata": {},
   "outputs": [
    {
     "name": "stdout",
     "output_type": "stream",
     "text": [
      "0 ani, biomass materi, a, in, process biomass\n",
      "1 biomass feedstock, feedstock, vessel, saccharifi, a\n",
      "2 facil, acid, product facil, of, or\n",
      "3 prepar, chip, xylos, mix, candi\n",
      "4 conveyor, beam, and or, conveyor can, the conveyor\n"
     ]
    }
   ],
   "source": [
    "BIO_MM_patents_pA_abstracts=MM_patents_pA[MM_patents_pA['patent_abstract'].str.contains(\"biomass|bosfuel\")]\n",
    "BIO_MM_patents_pA_abstracts_list = BIO_MM_patents_pA_abstracts['patent_abstract'].values.tolist()\n",
    "vectorizer=n_grams_vectorizer(2) #choose number of n-grams\n",
    "doctopic, ls_keywords=topic_generator(BIO_MM_patents_pA_abstracts_list, 5) "
   ]
  },
  {
   "cell_type": "markdown",
   "metadata": {},
   "source": [
    "compare the abstract of MM in the after ARRA period and post ARRA period"
   ]
  },
  {
   "cell_type": "code",
   "execution_count": 99,
   "metadata": {},
   "outputs": [
    {
     "data": {
      "text/plain": [
       "'biomass feedstocks (e.g., plant biomass, animal biomass, and municipal waste biomass) are processed to produce useful products, such as fuels. for example, systems are described that can convert feedstock materials to a sugar solution, which can then be fermented to produce ethanol. biomass feedstock is saccharified in a vessel by operation of a jet mixer, the vessel also containing a fluid medium and a saccharifying agent.'"
      ]
     },
     "execution_count": 99,
     "metadata": {},
     "output_type": "execute_result"
    }
   ],
   "source": [
    "BIO_MM_patents_pA_abstracts_list[0]"
   ]
  },
  {
   "cell_type": "markdown",
   "metadata": {
    "id": "f9L9e2FP6nk7"
   },
   "source": [
    "## Linked Grant and Patent Datasets (renewables)\n",
    "**LDA Exploration Analysis**"
   ]
  },
  {
   "cell_type": "code",
   "execution_count": null,
   "metadata": {
    "id": "TX1jbB0G6nk7"
   },
   "outputs": [],
   "source": [
    "#need to do LDA, tokenization method on patent abstracts and form topics\n",
    "#do LDA on both the linked data set and nonlinked dataset\n",
    "merged_df=pd.read_csv('2010_2018_mergedclimate_patent_grants.csv', skipinitialspace=True)\n",
    "merged_df.head()"
   ]
  },
  {
   "cell_type": "code",
   "execution_count": null,
   "metadata": {
    "id": "vrMAZ2Zg6nk8"
   },
   "outputs": [],
   "source": [
    "patent_abstract_list=merged_df['patent_abstract'].values.tolist()\n",
    "patent_abstract_list[3]"
   ]
  },
  {
   "cell_type": "code",
   "execution_count": null,
   "metadata": {
    "id": "SU3cTQZu6nk8"
   },
   "outputs": [],
   "source": [
    "vectorizer = CountVectorizer(analyzer=\"word\",        # unit of features are single words rather than characters\n",
    "                            tokenizer=tokenize,      # function to create tokens\n",
    "                            ngram_range=(0,1),       # unigrams - single words\n",
    "                            strip_accents='unicode', # remove accent characters\n",
    "                            min_df = 0.05,           # only include words with minimum frequency of 0.05\n",
    "                            max_df = 0.95)           # only include words with maximum frequency of 0.95"
   ]
  },
  {
   "cell_type": "code",
   "execution_count": null,
   "metadata": {
    "id": "jlgMUfVw6nk9"
   },
   "outputs": [],
   "source": [
    "#remove punctuation\n",
    "patent_abstract_list[3].translate(translator)"
   ]
  },
  {
   "cell_type": "code",
   "execution_count": null,
   "metadata": {
    "id": "9Tx0XQii6nk9"
   },
   "outputs": [],
   "source": [
    "#LDA TF-IDF model process to generate topics\n",
    "#how to optimize the n_grams and n_components for more meaningful topics?\n",
    "#solar seems to be appearing a lot\n",
    "stop = stop_words + ['provid', 'use', 'studi', 'and', 'the', 'was', 'with', 'of', 'has', 'have', 'had', 'will', \n",
    "                     'an', 'may', 'a', 'or', 'be', 'to', 'to the', 'and the', 'embodi', 'may be',\n",
    "                    'coupl to the', 'coupl', 'coupl to', 'of a']\n",
    "full_stopwords = [tokenize(s)[0] for s in stop]\n",
    "\n",
    "translator=str.maketrans(string.punctuation, ' ' * len(string.punctuation))\n",
    "string.punctuation\n",
    "stemmer = SnowballStemmer(\"english\")\n",
    "vectorizer = CountVectorizer(analyzer=\"word\",        # unit of features are single words rather than characters\n",
    "                            tokenizer=tokenize,      # function to create tokens\n",
    "                            ngram_range=(0,10),       # change num of words co-located\n",
    "                            strip_accents='unicode', # remove accent characters\n",
    "                            min_df = 0.05,           # only include words with minimum frequency of 0.05\n",
    "                            max_df = 0.95)           # only include words with maximum frequency of 0.95\n",
    "\n",
    "# Creating bag of words\n",
    "bag_of_words = vectorizer.fit_transform(patent_abstract_list)  # transform our corpus as a bag of words\n",
    "features = vectorizer.get_feature_names()                # get features (words)\n",
    "\n",
    "# Use TfidfTransformer to re-weight bag of words\n",
    "transformer = TfidfTransformer(norm = None, smooth_idf = True, sublinear_tf = True)\n",
    "tfidf = transformer.fit_transform(bag_of_words)\n",
    "\n",
    "# Fitting LDA model\n",
    "lda = LatentDirichletAllocation(n_components = 9, learning_method='online') #adjust n_components\n",
    "doctopic = lda.fit_transform(tfidf)\n",
    "\n",
    "# Displaying the top keywords in each topic\n",
    "ls_keywords = []\n",
    "for i,topic in enumerate(lda.components_):\n",
    "    word_idx = np.argsort(topic)[::-1][:5]\n",
    "    keywords = ', '.join(features[i] for i in word_idx)\n",
    "    ls_keywords.append(keywords)\n",
    "    print(i, keywords)"
   ]
  },
  {
   "cell_type": "markdown",
   "metadata": {
    "id": "2V9_0vRw6nk-"
   },
   "source": [
    "## Interpretability optimization of Topic Modeling\n",
    "\n",
    "Extra exploration"
   ]
  },
  {
   "cell_type": "code",
   "execution_count": null,
   "metadata": {
    "id": "19evCu-36nk-"
   },
   "outputs": [],
   "source": [
    "patent_abstract_LL=merged_df['patent_abstract'].to_list()\n",
    "#form a list of tokenized abstracts; tokenize function generates a list of words\n",
    "pa_LL=[tokenize(x) for x in patent_abstract_LL]\n",
    "id2word=gensim.corpora.Dictionary(pa_LL) #dictionary\n",
    "corpus=[id2word.doc2bow(text) for text in pa_LL]\n",
    "lda_model=gensim.models.LdaModel(corpus=corpus, num_topics=10)"
   ]
  },
  {
   "cell_type": "code",
   "execution_count": null,
   "metadata": {
    "id": "0FpSytMH6nk_",
    "scrolled": false
   },
   "outputs": [],
   "source": [
    "goodLdaModel = LdaModel(corpus=corpus, id2word=id2word, iterations=50, num_topics=10)\n",
    "badLdaModel = LdaModel(corpus=corpus, id2word=id2word, iterations=12, num_topics=10)"
   ]
  },
  {
   "cell_type": "code",
   "execution_count": null,
   "metadata": {
    "id": "NbNt6O-L6nk_"
   },
   "outputs": [],
   "source": [
    "#coherence = u_mass or c_v \n",
    "#https://radimrehurek.com/gensim/models/coherencemodel.html \n",
    "goodcm = CoherenceModel(model=goodLdaModel, corpus=corpus, dictionary=id2word, coherence='u_mass')\n",
    "badcm = CoherenceModel(model=badLdaModel, corpus=corpus, dictionary=id2word, coherence='u_mass')"
   ]
  },
  {
   "cell_type": "code",
   "execution_count": null,
   "metadata": {
    "id": "OwdzSJES6nlA"
   },
   "outputs": [],
   "source": [
    "print(goodcm)"
   ]
  },
  {
   "cell_type": "code",
   "execution_count": null,
   "metadata": {
    "id": "biIdFcRD6nlA"
   },
   "outputs": [],
   "source": [
    "try:\n",
    "    raise ImportError\n",
    "    import pyLDAvis.gensim\n",
    "    CAN_VISUALIZE = True\n",
    "    pyLDAvis.enable_notebook()\n",
    "    from IPython.display import display\n",
    "except ImportError:\n",
    "    ValueError(\"SKIP: please install pyLDAvis\")\n",
    "    CAN_VISUALIZE = False"
   ]
  },
  {
   "cell_type": "code",
   "execution_count": null,
   "metadata": {
    "id": "EpYJGxHc6nlB"
   },
   "outputs": [],
   "source": [
    "if CAN_VISUALIZE:\n",
    "    prepared = pyLDAvis.gensim.prepare(goodLdaModel, corpus, id2word)\n",
    "    display(pyLDAvis.display(prepared))\n",
    "if CAN_VISUALIZE:\n",
    "    prepared = pyLDAvis.gensim.prepare(badLdaModel, corpus, id2word)\n",
    "    display(pyLDAvis.display(prepared))"
   ]
  },
  {
   "cell_type": "code",
   "execution_count": null,
   "metadata": {
    "id": "D4R1Iazo6nlB"
   },
   "outputs": [],
   "source": [
    "print('goodcm:', goodcm.get_coherence())\n",
    "print('badcm:', badcm.get_coherence())"
   ]
  },
  {
   "cell_type": "code",
   "execution_count": null,
   "metadata": {
    "id": "UVGip2R26nlC"
   },
   "outputs": [],
   "source": [
    "#if this method done on the original patents dataframe without pre-filtering it may give too broad of topics \n",
    "ngram = list(range(2,11)) \n",
    "num_topics = list(range(5,20))\n",
    "\n",
    "for n in ngram:\n",
    "    for t in num_topics: \n",
    "        vectorizer=n_grams_vectorizer(n)\n",
    "        ls_keywords=topic_generator(patent_abstract_list, t)\n",
    "        topics_doc = pd.DataFrame(doctopic, columns = ls_keywords)"
   ]
  },
  {
   "cell_type": "code",
   "execution_count": null,
   "metadata": {
    "id": "cGXADyJw6nlD",
    "outputId": "337cc50f-94d4-4bba-abf7-4e5102498909"
   },
   "outputs": [
    {
     "name": "stderr",
     "output_type": "stream",
     "text": [
      "INFO : adding document #0 to Dictionary(0 unique tokens: [])\n",
      "INFO : built Dictionary(1036 unique tokens: ['a', 'an', 'and', 'around', 'articul']...) from 94 documents (total 10735 corpus positions)\n",
      "INFO : Dictionary lifecycle event {'msg': \"built Dictionary(1036 unique tokens: ['a', 'an', 'and', 'around', 'articul']...) from 94 documents (total 10735 corpus positions)\", 'datetime': '2022-03-14T18:39:30.189426', 'gensim': '4.1.2', 'python': '3.8.5 (default, Sep  3 2020, 21:29:08) [MSC v.1916 64 bit (AMD64)]', 'platform': 'Windows-10-10.0.19041-SP0', 'event': 'created'}\n",
      "INFO : using symmetric alpha at 0.2\n",
      "INFO : using symmetric eta at 0.2\n",
      "INFO : using serial LDA version on this node\n",
      "INFO : running online (single-pass) LDA training, 5 topics, 1 passes over the supplied corpus of 94 documents, updating model once every 94 documents, evaluating perplexity every 94 documents, iterating 50x with a convergence threshold of 0.001000\n",
      "WARNING : too few updates, training might not converge; consider increasing the number of passes or iterations to improve accuracy\n",
      "INFO : -7.801 per-word bound, 223.0 perplexity estimate based on a held-out corpus of 94 documents with 10735 words\n",
      "INFO : PROGRESS: pass 0, at document #94/94\n",
      "INFO : topic #0 (0.200): 0.063*\"a\" + 0.063*\"the\" + 0.031*\"and\" + 0.031*\"of\" + 0.023*\"to\" + 0.012*\"an\" + 0.012*\"in\" + 0.011*\"is\" + 0.011*\"for\" + 0.010*\"be\"\n",
      "INFO : topic #1 (0.200): 0.068*\"a\" + 0.055*\"the\" + 0.037*\"and\" + 0.026*\"of\" + 0.015*\"to\" + 0.014*\"an\" + 0.013*\"for\" + 0.011*\"in\" + 0.011*\"includ\" + 0.009*\"power\"\n",
      "INFO : topic #2 (0.200): 0.081*\"a\" + 0.058*\"the\" + 0.035*\"of\" + 0.030*\"and\" + 0.023*\"to\" + 0.016*\"layer\" + 0.013*\"includ\" + 0.013*\"in\" + 0.012*\"window\" + 0.011*\"solar\"\n",
      "INFO : topic #3 (0.200): 0.041*\"solar\" + 0.027*\"polym\" + 0.027*\"in\" + 0.026*\"devic\" + 0.025*\"effici\" + 0.025*\"convers\" + 0.024*\"that\" + 0.023*\"2\" + 0.022*\"and\" + 0.019*\"the\"\n",
      "INFO : topic #4 (0.200): 0.070*\"the\" + 0.044*\"a\" + 0.036*\"of\" + 0.036*\"and\" + 0.022*\"to\" + 0.016*\"an\" + 0.012*\"includ\" + 0.012*\"solar\" + 0.011*\"for\" + 0.010*\"plural\"\n",
      "INFO : topic diff=2.382327, rho=1.000000\n",
      "INFO : LdaModel lifecycle event {'msg': 'trained LdaModel(num_terms=1036, num_topics=5, decay=0.5, chunksize=2000) in 0.24s', 'datetime': '2022-03-14T18:39:30.446380', 'gensim': '4.1.2', 'python': '3.8.5 (default, Sep  3 2020, 21:29:08) [MSC v.1916 64 bit (AMD64)]', 'platform': 'Windows-10-10.0.19041-SP0', 'event': 'created'}\n",
      "INFO : adding document #0 to Dictionary(0 unique tokens: [])\n",
      "INFO : built Dictionary(1036 unique tokens: ['a', 'an', 'and', 'around', 'articul']...) from 94 documents (total 10735 corpus positions)\n",
      "INFO : Dictionary lifecycle event {'msg': \"built Dictionary(1036 unique tokens: ['a', 'an', 'and', 'around', 'articul']...) from 94 documents (total 10735 corpus positions)\", 'datetime': '2022-03-14T18:39:30.683427', 'gensim': '4.1.2', 'python': '3.8.5 (default, Sep  3 2020, 21:29:08) [MSC v.1916 64 bit (AMD64)]', 'platform': 'Windows-10-10.0.19041-SP0', 'event': 'created'}\n",
      "INFO : using symmetric alpha at 0.16666666666666666\n",
      "INFO : using symmetric eta at 0.16666666666666666\n",
      "INFO : using serial LDA version on this node\n",
      "INFO : running online (single-pass) LDA training, 6 topics, 1 passes over the supplied corpus of 94 documents, updating model once every 94 documents, evaluating perplexity every 94 documents, iterating 50x with a convergence threshold of 0.001000\n",
      "WARNING : too few updates, training might not converge; consider increasing the number of passes or iterations to improve accuracy\n",
      "INFO : -7.954 per-word bound, 248.0 perplexity estimate based on a held-out corpus of 94 documents with 10735 words\n",
      "INFO : PROGRESS: pass 0, at document #94/94\n",
      "INFO : topic #5 (0.167): 0.065*\"the\" + 0.059*\"a\" + 0.027*\"of\" + 0.024*\"and\" + 0.022*\"to\" + 0.018*\"cell\" + 0.015*\"solar\" + 0.014*\"an\" + 0.011*\"or\" + 0.011*\"that\"\n",
      "INFO : topic #3 (0.167): 0.056*\"the\" + 0.048*\"a\" + 0.033*\"and\" + 0.021*\"to\" + 0.016*\"in\" + 0.016*\"of\" + 0.014*\"solar\" + 0.013*\"for\" + 0.011*\"an\" + 0.010*\"power\"\n",
      "INFO : topic #2 (0.167): 0.053*\"the\" + 0.051*\"of\" + 0.048*\"a\" + 0.040*\"and\" + 0.018*\"to\" + 0.018*\"solar\" + 0.013*\"in\" + 0.011*\"an\" + 0.010*\"devic\" + 0.009*\"be\"\n",
      "INFO : topic #0 (0.167): 0.081*\"the\" + 0.069*\"a\" + 0.032*\"and\" + 0.027*\"of\" + 0.023*\"to\" + 0.017*\"includ\" + 0.012*\"in\" + 0.012*\"an\" + 0.010*\"for\" + 0.010*\"is\"\n",
      "INFO : topic #1 (0.167): 0.073*\"a\" + 0.034*\"the\" + 0.031*\"and\" + 0.017*\"to\" + 0.016*\"of\" + 0.015*\"in\" + 0.012*\"power\" + 0.011*\"solar\" + 0.010*\"may\" + 0.010*\"be\"\n",
      "INFO : topic diff=2.680776, rho=1.000000\n",
      "INFO : LdaModel lifecycle event {'msg': 'trained LdaModel(num_terms=1036, num_topics=6, decay=0.5, chunksize=2000) in 0.21s', 'datetime': '2022-03-14T18:39:30.911379', 'gensim': '4.1.2', 'python': '3.8.5 (default, Sep  3 2020, 21:29:08) [MSC v.1916 64 bit (AMD64)]', 'platform': 'Windows-10-10.0.19041-SP0', 'event': 'created'}\n",
      "INFO : adding document #0 to Dictionary(0 unique tokens: [])\n",
      "INFO : built Dictionary(1036 unique tokens: ['a', 'an', 'and', 'around', 'articul']...) from 94 documents (total 10735 corpus positions)\n",
      "INFO : Dictionary lifecycle event {'msg': \"built Dictionary(1036 unique tokens: ['a', 'an', 'and', 'around', 'articul']...) from 94 documents (total 10735 corpus positions)\", 'datetime': '2022-03-14T18:39:31.142423', 'gensim': '4.1.2', 'python': '3.8.5 (default, Sep  3 2020, 21:29:08) [MSC v.1916 64 bit (AMD64)]', 'platform': 'Windows-10-10.0.19041-SP0', 'event': 'created'}\n",
      "INFO : using symmetric alpha at 0.14285714285714285\n",
      "INFO : using symmetric eta at 0.14285714285714285\n",
      "INFO : using serial LDA version on this node\n",
      "INFO : running online (single-pass) LDA training, 7 topics, 1 passes over the supplied corpus of 94 documents, updating model once every 94 documents, evaluating perplexity every 94 documents, iterating 50x with a convergence threshold of 0.001000\n",
      "WARNING : too few updates, training might not converge; consider increasing the number of passes or iterations to improve accuracy\n",
      "INFO : -8.102 per-word bound, 274.7 perplexity estimate based on a held-out corpus of 94 documents with 10735 words\n",
      "INFO : PROGRESS: pass 0, at document #94/94\n",
      "INFO : topic #1 (0.143): 0.078*\"a\" + 0.059*\"the\" + 0.036*\"and\" + 0.031*\"of\" + 0.019*\"an\" + 0.017*\"to\" + 0.015*\"includ\" + 0.012*\"for\" + 0.010*\"layer\" + 0.010*\"in\"\n",
      "INFO : topic #6 (0.143): 0.077*\"a\" + 0.070*\"the\" + 0.047*\"of\" + 0.031*\"and\" + 0.015*\"includ\" + 0.014*\"to\" + 0.013*\"first\" + 0.013*\"layer\" + 0.012*\"an\" + 0.011*\"for\"\n",
      "INFO : topic #4 (0.143): 0.030*\"and\" + 0.028*\"a\" + 0.025*\"the\" + 0.023*\"of\" + 0.022*\"power\" + 0.015*\"to\" + 0.015*\"in\" + 0.010*\"may\" + 0.010*\"or\" + 0.010*\"be\"\n",
      "INFO : topic #0 (0.143): 0.039*\"solar\" + 0.032*\"and\" + 0.030*\"the\" + 0.028*\"in\" + 0.025*\"devic\" + 0.025*\"that\" + 0.022*\"polym\" + 0.021*\"convers\" + 0.021*\"effici\" + 0.021*\"use\"\n",
      "INFO : topic #2 (0.143): 0.046*\"the\" + 0.039*\"and\" + 0.031*\"a\" + 0.027*\"of\" + 0.015*\"cell\" + 0.014*\"solar\" + 0.013*\"2\" + 0.012*\"to\" + 0.012*\"for\" + 0.011*\"in\"\n",
      "INFO : topic diff=3.212756, rho=1.000000\n",
      "INFO : LdaModel lifecycle event {'msg': 'trained LdaModel(num_terms=1036, num_topics=7, decay=0.5, chunksize=2000) in 0.22s', 'datetime': '2022-03-14T18:39:31.374426', 'gensim': '4.1.2', 'python': '3.8.5 (default, Sep  3 2020, 21:29:08) [MSC v.1916 64 bit (AMD64)]', 'platform': 'Windows-10-10.0.19041-SP0', 'event': 'created'}\n",
      "INFO : adding document #0 to Dictionary(0 unique tokens: [])\n",
      "INFO : built Dictionary(1036 unique tokens: ['a', 'an', 'and', 'around', 'articul']...) from 94 documents (total 10735 corpus positions)\n",
      "INFO : Dictionary lifecycle event {'msg': \"built Dictionary(1036 unique tokens: ['a', 'an', 'and', 'around', 'articul']...) from 94 documents (total 10735 corpus positions)\", 'datetime': '2022-03-14T18:39:31.596423', 'gensim': '4.1.2', 'python': '3.8.5 (default, Sep  3 2020, 21:29:08) [MSC v.1916 64 bit (AMD64)]', 'platform': 'Windows-10-10.0.19041-SP0', 'event': 'created'}\n",
      "INFO : using symmetric alpha at 0.125\n",
      "INFO : using symmetric eta at 0.125\n",
      "INFO : using serial LDA version on this node\n",
      "INFO : running online (single-pass) LDA training, 8 topics, 1 passes over the supplied corpus of 94 documents, updating model once every 94 documents, evaluating perplexity every 94 documents, iterating 50x with a convergence threshold of 0.001000\n",
      "WARNING : too few updates, training might not converge; consider increasing the number of passes or iterations to improve accuracy\n",
      "INFO : -8.285 per-word bound, 312.0 perplexity estimate based on a held-out corpus of 94 documents with 10735 words\n",
      "INFO : PROGRESS: pass 0, at document #94/94\n",
      "INFO : topic #3 (0.125): 0.051*\"the\" + 0.031*\"a\" + 0.019*\"of\" + 0.013*\"and\" + 0.013*\"to\" + 0.013*\"for\" + 0.012*\"than\" + 0.012*\"air\" + 0.012*\"craft\" + 0.012*\"lighter\"\n",
      "INFO : topic #7 (0.125): 0.059*\"a\" + 0.059*\"the\" + 0.041*\"and\" + 0.022*\"of\" + 0.018*\"to\" + 0.018*\"solar\" + 0.017*\"in\" + 0.012*\"for\" + 0.011*\"that\" + 0.010*\"use\"\n",
      "INFO : topic #1 (0.125): 0.070*\"the\" + 0.056*\"a\" + 0.041*\"and\" + 0.029*\"of\" + 0.020*\"to\" + 0.013*\"an\" + 0.012*\"includ\" + 0.012*\"in\" + 0.010*\"solar\" + 0.010*\"cell\"\n",
      "INFO : topic #6 (0.125): 0.076*\"a\" + 0.025*\"power\" + 0.025*\"and\" + 0.025*\"to\" + 0.018*\"the\" + 0.018*\"in\" + 0.015*\"of\" + 0.014*\"includ\" + 0.011*\"suppli\" + 0.011*\"point\"\n",
      "INFO : topic #5 (0.125): 0.069*\"the\" + 0.067*\"a\" + 0.048*\"of\" + 0.023*\"to\" + 0.019*\"and\" + 0.018*\"solar\" + 0.017*\"cell\" + 0.015*\"an\" + 0.013*\"light\" + 0.011*\"electrod\"\n",
      "INFO : topic diff=3.801552, rho=1.000000\n",
      "INFO : LdaModel lifecycle event {'msg': 'trained LdaModel(num_terms=1036, num_topics=8, decay=0.5, chunksize=2000) in 0.22s', 'datetime': '2022-03-14T18:39:31.832391', 'gensim': '4.1.2', 'python': '3.8.5 (default, Sep  3 2020, 21:29:08) [MSC v.1916 64 bit (AMD64)]', 'platform': 'Windows-10-10.0.19041-SP0', 'event': 'created'}\n",
      "INFO : adding document #0 to Dictionary(0 unique tokens: [])\n",
      "INFO : built Dictionary(1036 unique tokens: ['a', 'an', 'and', 'around', 'articul']...) from 94 documents (total 10735 corpus positions)\n",
      "INFO : Dictionary lifecycle event {'msg': \"built Dictionary(1036 unique tokens: ['a', 'an', 'and', 'around', 'articul']...) from 94 documents (total 10735 corpus positions)\", 'datetime': '2022-03-14T18:39:32.081381', 'gensim': '4.1.2', 'python': '3.8.5 (default, Sep  3 2020, 21:29:08) [MSC v.1916 64 bit (AMD64)]', 'platform': 'Windows-10-10.0.19041-SP0', 'event': 'created'}\n",
      "INFO : using symmetric alpha at 0.1111111111111111\n",
      "INFO : using symmetric eta at 0.1111111111111111\n",
      "INFO : using serial LDA version on this node\n",
      "INFO : running online (single-pass) LDA training, 9 topics, 1 passes over the supplied corpus of 94 documents, updating model once every 94 documents, evaluating perplexity every 94 documents, iterating 50x with a convergence threshold of 0.001000\n",
      "WARNING : too few updates, training might not converge; consider increasing the number of passes or iterations to improve accuracy\n",
      "INFO : -8.450 per-word bound, 349.8 perplexity estimate based on a held-out corpus of 94 documents with 10735 words\n",
      "INFO : PROGRESS: pass 0, at document #94/94\n",
      "INFO : topic #3 (0.111): 0.074*\"the\" + 0.039*\"a\" + 0.035*\"and\" + 0.028*\"of\" + 0.019*\"solar\" + 0.019*\"to\" + 0.019*\"cell\" + 0.013*\"that\" + 0.012*\"layer\" + 0.012*\"light\"\n",
      "INFO : topic #6 (0.111): 0.041*\"a\" + 0.039*\"the\" + 0.030*\"and\" + 0.026*\"in\" + 0.025*\"solar\" + 0.021*\"of\" + 0.019*\"to\" + 0.012*\"2\" + 0.011*\"polym\" + 0.011*\"includ\"\n",
      "INFO : topic #5 (0.111): 0.087*\"a\" + 0.070*\"the\" + 0.033*\"and\" + 0.031*\"of\" + 0.024*\"to\" + 0.016*\"includ\" + 0.012*\"is\" + 0.012*\"in\" + 0.011*\"an\" + 0.010*\"layer\"\n",
      "INFO : topic #2 (0.111): 0.023*\"nanotub\" + 0.017*\"a\" + 0.015*\"of\" + 0.015*\"solar\" + 0.014*\"and\" + 0.013*\"the\" + 0.013*\"to\" + 0.012*\"cell\" + 0.012*\"with\" + 0.011*\"tio2\"\n",
      "INFO : topic #7 (0.111): 0.056*\"the\" + 0.047*\"a\" + 0.036*\"and\" + 0.026*\"of\" + 0.016*\"to\" + 0.016*\"for\" + 0.012*\"2\" + 0.010*\"an\" + 0.010*\"are\" + 0.010*\"embodi\"\n",
      "INFO : topic diff=4.537532, rho=1.000000\n",
      "INFO : LdaModel lifecycle event {'msg': 'trained LdaModel(num_terms=1036, num_topics=9, decay=0.5, chunksize=2000) in 0.23s', 'datetime': '2022-03-14T18:39:32.339425', 'gensim': '4.1.2', 'python': '3.8.5 (default, Sep  3 2020, 21:29:08) [MSC v.1916 64 bit (AMD64)]', 'platform': 'Windows-10-10.0.19041-SP0', 'event': 'created'}\n",
      "INFO : adding document #0 to Dictionary(0 unique tokens: [])\n",
      "INFO : built Dictionary(1036 unique tokens: ['a', 'an', 'and', 'around', 'articul']...) from 94 documents (total 10735 corpus positions)\n",
      "INFO : Dictionary lifecycle event {'msg': \"built Dictionary(1036 unique tokens: ['a', 'an', 'and', 'around', 'articul']...) from 94 documents (total 10735 corpus positions)\", 'datetime': '2022-03-14T18:39:32.559428', 'gensim': '4.1.2', 'python': '3.8.5 (default, Sep  3 2020, 21:29:08) [MSC v.1916 64 bit (AMD64)]', 'platform': 'Windows-10-10.0.19041-SP0', 'event': 'created'}\n",
      "INFO : using symmetric alpha at 0.1\n",
      "INFO : using symmetric eta at 0.1\n",
      "INFO : using serial LDA version on this node\n",
      "INFO : running online (single-pass) LDA training, 10 topics, 1 passes over the supplied corpus of 94 documents, updating model once every 94 documents, evaluating perplexity every 94 documents, iterating 50x with a convergence threshold of 0.001000\n",
      "WARNING : too few updates, training might not converge; consider increasing the number of passes or iterations to improve accuracy\n",
      "INFO : -8.644 per-word bound, 400.1 perplexity estimate based on a held-out corpus of 94 documents with 10735 words\n",
      "INFO : PROGRESS: pass 0, at document #94/94\n",
      "INFO : topic #6 (0.100): 0.044*\"solar\" + 0.035*\"convers\" + 0.034*\"devic\" + 0.033*\"in\" + 0.030*\"polym\" + 0.030*\"effici\" + 0.029*\"that\" + 0.024*\"and\" + 0.023*\"the\" + 0.020*\"can\"\n",
      "INFO : topic #0 (0.100): 0.071*\"the\" + 0.041*\"a\" + 0.019*\"and\" + 0.014*\"in\" + 0.014*\"of\" + 0.013*\"to\" + 0.012*\"includ\" + 0.012*\"oxid\" + 0.010*\"method\" + 0.009*\"an\"\n",
      "INFO : topic #8 (0.100): 0.065*\"the\" + 0.046*\"a\" + 0.038*\"and\" + 0.027*\"of\" + 0.017*\"to\" + 0.017*\"an\" + 0.015*\"2\" + 0.014*\"solar\" + 0.012*\"cell\" + 0.010*\"for\"\n",
      "INFO : topic #2 (0.100): 0.073*\"a\" + 0.059*\"the\" + 0.027*\"of\" + 0.021*\"and\" + 0.021*\"to\" + 0.015*\"an\" + 0.014*\"solar\" + 0.014*\"includ\" + 0.014*\"oxid\" + 0.013*\"is\"\n",
      "INFO : topic #5 (0.100): 0.058*\"a\" + 0.053*\"the\" + 0.042*\"and\" + 0.024*\"of\" + 0.021*\"to\" + 0.019*\"in\" + 0.016*\"solar\" + 0.012*\"use\" + 0.011*\"for\" + 0.009*\"may\"\n",
      "INFO : topic diff=5.092216, rho=1.000000\n",
      "INFO : LdaModel lifecycle event {'msg': 'trained LdaModel(num_terms=1036, num_topics=10, decay=0.5, chunksize=2000) in 0.27s', 'datetime': '2022-03-14T18:39:32.855425', 'gensim': '4.1.2', 'python': '3.8.5 (default, Sep  3 2020, 21:29:08) [MSC v.1916 64 bit (AMD64)]', 'platform': 'Windows-10-10.0.19041-SP0', 'event': 'created'}\n",
      "INFO : adding document #0 to Dictionary(0 unique tokens: [])\n",
      "INFO : built Dictionary(1036 unique tokens: ['a', 'an', 'and', 'around', 'articul']...) from 94 documents (total 10735 corpus positions)\n",
      "INFO : Dictionary lifecycle event {'msg': \"built Dictionary(1036 unique tokens: ['a', 'an', 'and', 'around', 'articul']...) from 94 documents (total 10735 corpus positions)\", 'datetime': '2022-03-14T18:39:33.087421', 'gensim': '4.1.2', 'python': '3.8.5 (default, Sep  3 2020, 21:29:08) [MSC v.1916 64 bit (AMD64)]', 'platform': 'Windows-10-10.0.19041-SP0', 'event': 'created'}\n",
      "INFO : using symmetric alpha at 0.09090909090909091\n",
      "INFO : using symmetric eta at 0.09090909090909091\n",
      "INFO : using serial LDA version on this node\n",
      "INFO : running online (single-pass) LDA training, 11 topics, 1 passes over the supplied corpus of 94 documents, updating model once every 94 documents, evaluating perplexity every 94 documents, iterating 50x with a convergence threshold of 0.001000\n",
      "WARNING : too few updates, training might not converge; consider increasing the number of passes or iterations to improve accuracy\n",
      "INFO : -8.785 per-word bound, 441.1 perplexity estimate based on a held-out corpus of 94 documents with 10735 words\n",
      "INFO : PROGRESS: pass 0, at document #94/94\n",
      "INFO : topic #4 (0.091): 0.003*\"a\" + 0.003*\"sensor\" + 0.002*\"side\" + 0.002*\"microwav\" + 0.002*\"and\" + 0.002*\"measur\" + 0.002*\"for\" + 0.002*\"patient\" + 0.002*\"the\" + 0.002*\"s\"\n",
      "INFO : topic #7 (0.091): 0.047*\"a\" + 0.034*\"and\" + 0.031*\"the\" + 0.024*\"of\" + 0.023*\"to\" + 0.018*\"nanotub\" + 0.018*\"process\" + 0.014*\"for\" + 0.013*\"high\" + 0.012*\"fabric\"\n",
      "INFO : topic #0 (0.091): 0.038*\"2\" + 0.035*\"4\" + 0.016*\"6\" + 0.016*\"b\" + 0.016*\"diyl\" + 0.015*\"3\" + 0.014*\"5\" + 0.012*\"1\" + 0.011*\"b′\" + 0.010*\"benzo\"\n",
      "INFO : topic #8 (0.091): 0.079*\"the\" + 0.064*\"a\" + 0.039*\"of\" + 0.038*\"and\" + 0.021*\"to\" + 0.014*\"in\" + 0.012*\"solar\" + 0.012*\"an\" + 0.010*\"includ\" + 0.010*\"for\"\n",
      "INFO : topic #10 (0.091): 0.019*\"the\" + 0.019*\"to\" + 0.016*\"magnet\" + 0.016*\"a\" + 0.014*\"bismuth\" + 0.013*\"invent\" + 0.013*\"present\" + 0.013*\"titan\" + 0.012*\"nanocub\" + 0.011*\"with\"\n",
      "INFO : topic diff=6.351388, rho=1.000000\n",
      "INFO : LdaModel lifecycle event {'msg': 'trained LdaModel(num_terms=1036, num_topics=11, decay=0.5, chunksize=2000) in 0.29s', 'datetime': '2022-03-14T18:39:33.385426', 'gensim': '4.1.2', 'python': '3.8.5 (default, Sep  3 2020, 21:29:08) [MSC v.1916 64 bit (AMD64)]', 'platform': 'Windows-10-10.0.19041-SP0', 'event': 'created'}\n",
      "INFO : adding document #0 to Dictionary(0 unique tokens: [])\n",
      "INFO : built Dictionary(1036 unique tokens: ['a', 'an', 'and', 'around', 'articul']...) from 94 documents (total 10735 corpus positions)\n",
      "INFO : Dictionary lifecycle event {'msg': \"built Dictionary(1036 unique tokens: ['a', 'an', 'and', 'around', 'articul']...) from 94 documents (total 10735 corpus positions)\", 'datetime': '2022-03-14T18:39:33.670250', 'gensim': '4.1.2', 'python': '3.8.5 (default, Sep  3 2020, 21:29:08) [MSC v.1916 64 bit (AMD64)]', 'platform': 'Windows-10-10.0.19041-SP0', 'event': 'created'}\n",
      "INFO : using symmetric alpha at 0.08333333333333333\n",
      "INFO : using symmetric eta at 0.08333333333333333\n",
      "INFO : using serial LDA version on this node\n",
      "INFO : running online (single-pass) LDA training, 12 topics, 1 passes over the supplied corpus of 94 documents, updating model once every 94 documents, evaluating perplexity every 94 documents, iterating 50x with a convergence threshold of 0.001000\n",
      "WARNING : too few updates, training might not converge; consider increasing the number of passes or iterations to improve accuracy\n",
      "INFO : -9.017 per-word bound, 518.1 perplexity estimate based on a held-out corpus of 94 documents with 10735 words\n",
      "INFO : PROGRESS: pass 0, at document #94/94\n",
      "INFO : topic #5 (0.083): 0.057*\"the\" + 0.042*\"and\" + 0.035*\"of\" + 0.034*\"a\" + 0.022*\"to\" + 0.012*\"magnet\" + 0.011*\"in\" + 0.010*\"power\" + 0.010*\"an\" + 0.008*\"wind\"\n",
      "INFO : topic #7 (0.083): 0.044*\"the\" + 0.031*\"of\" + 0.023*\"a\" + 0.019*\"process\" + 0.019*\"and\" + 0.014*\"to\" + 0.012*\"be\" + 0.012*\"nanotub\" + 0.012*\"high\" + 0.011*\"or\"\n",
      "INFO : topic #0 (0.083): 0.046*\"a\" + 0.045*\"the\" + 0.038*\"and\" + 0.026*\"of\" + 0.025*\"to\" + 0.017*\"an\" + 0.017*\"for\" + 0.013*\"or\" + 0.012*\"in\" + 0.012*\"nanotub\"\n",
      "INFO : topic #1 (0.083): 0.044*\"the\" + 0.039*\"and\" + 0.037*\"a\" + 0.022*\"in\" + 0.021*\"of\" + 0.021*\"power\" + 0.018*\"be\" + 0.018*\"may\" + 0.018*\"to\" + 0.015*\"control\"\n",
      "INFO : topic #11 (0.083): 0.037*\"the\" + 0.031*\"and\" + 0.031*\"to\" + 0.028*\"a\" + 0.018*\"energi\" + 0.018*\"of\" + 0.017*\"process\" + 0.016*\"in\" + 0.016*\"for\" + 0.013*\"use\"\n",
      "INFO : topic diff=6.282661, rho=1.000000\n",
      "INFO : LdaModel lifecycle event {'msg': 'trained LdaModel(num_terms=1036, num_topics=12, decay=0.5, chunksize=2000) in 0.22s', 'datetime': '2022-03-14T18:39:33.911738', 'gensim': '4.1.2', 'python': '3.8.5 (default, Sep  3 2020, 21:29:08) [MSC v.1916 64 bit (AMD64)]', 'platform': 'Windows-10-10.0.19041-SP0', 'event': 'created'}\n",
      "INFO : adding document #0 to Dictionary(0 unique tokens: [])\n",
      "INFO : built Dictionary(1036 unique tokens: ['a', 'an', 'and', 'around', 'articul']...) from 94 documents (total 10735 corpus positions)\n",
      "INFO : Dictionary lifecycle event {'msg': \"built Dictionary(1036 unique tokens: ['a', 'an', 'and', 'around', 'articul']...) from 94 documents (total 10735 corpus positions)\", 'datetime': '2022-03-14T18:39:34.117765', 'gensim': '4.1.2', 'python': '3.8.5 (default, Sep  3 2020, 21:29:08) [MSC v.1916 64 bit (AMD64)]', 'platform': 'Windows-10-10.0.19041-SP0', 'event': 'created'}\n",
      "INFO : using symmetric alpha at 0.07692307692307693\n",
      "INFO : using symmetric eta at 0.07692307692307693\n",
      "INFO : using serial LDA version on this node\n",
      "INFO : running online (single-pass) LDA training, 13 topics, 1 passes over the supplied corpus of 94 documents, updating model once every 94 documents, evaluating perplexity every 94 documents, iterating 50x with a convergence threshold of 0.001000\n",
      "WARNING : too few updates, training might not converge; consider increasing the number of passes or iterations to improve accuracy\n",
      "INFO : -9.229 per-word bound, 600.1 perplexity estimate based on a held-out corpus of 94 documents with 10735 words\n",
      "INFO : PROGRESS: pass 0, at document #94/94\n",
      "INFO : topic #11 (0.077): 0.094*\"a\" + 0.062*\"the\" + 0.034*\"layer\" + 0.028*\"and\" + 0.023*\"metal\" + 0.021*\"of\" + 0.019*\"includ\" + 0.018*\"oxid\" + 0.016*\"window\" + 0.014*\"to\"\n",
      "INFO : topic #1 (0.077): 0.068*\"the\" + 0.034*\"a\" + 0.033*\"and\" + 0.029*\"solar\" + 0.022*\"of\" + 0.019*\"to\" + 0.015*\"that\" + 0.015*\"in\" + 0.013*\"for\" + 0.012*\"devic\"\n",
      "INFO : topic #0 (0.077): 0.032*\"and\" + 0.031*\"in\" + 0.027*\"the\" + 0.023*\"solar\" + 0.021*\"power\" + 0.017*\"may\" + 0.016*\"be\" + 0.015*\"of\" + 0.014*\"to\" + 0.013*\"effici\"\n",
      "INFO : topic #6 (0.077): 0.057*\"the\" + 0.050*\"a\" + 0.039*\"to\" + 0.035*\"and\" + 0.023*\"of\" + 0.014*\"solar\" + 0.012*\"an\" + 0.012*\"includ\" + 0.011*\"cell\" + 0.011*\"in\"\n",
      "INFO : topic #3 (0.077): 0.014*\"a\" + 0.008*\"power\" + 0.007*\"and\" + 0.006*\"the\" + 0.006*\"exampl\" + 0.005*\"to\" + 0.005*\"load\" + 0.005*\"in\" + 0.005*\"anoth\" + 0.005*\"suppli\"\n",
      "INFO : topic diff=7.294849, rho=1.000000\n",
      "INFO : LdaModel lifecycle event {'msg': 'trained LdaModel(num_terms=1036, num_topics=13, decay=0.5, chunksize=2000) in 0.25s', 'datetime': '2022-03-14T18:39:34.379767', 'gensim': '4.1.2', 'python': '3.8.5 (default, Sep  3 2020, 21:29:08) [MSC v.1916 64 bit (AMD64)]', 'platform': 'Windows-10-10.0.19041-SP0', 'event': 'created'}\n",
      "INFO : adding document #0 to Dictionary(0 unique tokens: [])\n",
      "INFO : built Dictionary(1036 unique tokens: ['a', 'an', 'and', 'around', 'articul']...) from 94 documents (total 10735 corpus positions)\n",
      "INFO : Dictionary lifecycle event {'msg': \"built Dictionary(1036 unique tokens: ['a', 'an', 'and', 'around', 'articul']...) from 94 documents (total 10735 corpus positions)\", 'datetime': '2022-03-14T18:39:34.634719', 'gensim': '4.1.2', 'python': '3.8.5 (default, Sep  3 2020, 21:29:08) [MSC v.1916 64 bit (AMD64)]', 'platform': 'Windows-10-10.0.19041-SP0', 'event': 'created'}\n",
      "INFO : using symmetric alpha at 0.07142857142857142\n",
      "INFO : using symmetric eta at 0.07142857142857142\n",
      "INFO : using serial LDA version on this node\n",
      "INFO : running online (single-pass) LDA training, 14 topics, 1 passes over the supplied corpus of 94 documents, updating model once every 94 documents, evaluating perplexity every 94 documents, iterating 50x with a convergence threshold of 0.001000\n",
      "WARNING : too few updates, training might not converge; consider increasing the number of passes or iterations to improve accuracy\n",
      "INFO : -9.417 per-word bound, 683.7 perplexity estimate based on a held-out corpus of 94 documents with 10735 words\n",
      "INFO : PROGRESS: pass 0, at document #94/94\n",
      "INFO : topic #1 (0.071): 0.058*\"the\" + 0.049*\"of\" + 0.047*\"a\" + 0.035*\"and\" + 0.028*\"layer\" + 0.025*\"metal\" + 0.022*\"process\" + 0.016*\"window\" + 0.014*\"includ\" + 0.013*\"provid\"\n",
      "INFO : topic #8 (0.071): 0.038*\"the\" + 0.036*\"and\" + 0.034*\"a\" + 0.032*\"of\" + 0.020*\"to\" + 0.014*\"for\" + 0.013*\"in\" + 0.012*\"be\" + 0.012*\"or\" + 0.012*\"process\"\n",
      "INFO : topic #12 (0.071): 0.064*\"the\" + 0.053*\"a\" + 0.027*\"of\" + 0.022*\"and\" + 0.022*\"to\" + 0.016*\"one\" + 0.016*\"an\" + 0.015*\"includ\" + 0.015*\"first\" + 0.014*\"plural\"\n",
      "INFO : topic #13 (0.071): 0.060*\"a\" + 0.053*\"the\" + 0.024*\"to\" + 0.022*\"of\" + 0.020*\"and\" + 0.015*\"in\" + 0.013*\"with\" + 0.013*\"power\" + 0.011*\"control\" + 0.010*\"receiv\"\n",
      "INFO : topic #4 (0.071): 0.056*\"a\" + 0.043*\"and\" + 0.034*\"the\" + 0.028*\"to\" + 0.023*\"of\" + 0.017*\"in\" + 0.017*\"for\" + 0.014*\"an\" + 0.013*\"includ\" + 0.013*\"nanobeam\"\n",
      "INFO : topic diff=8.063287, rho=1.000000\n",
      "INFO : LdaModel lifecycle event {'msg': 'trained LdaModel(num_terms=1036, num_topics=14, decay=0.5, chunksize=2000) in 0.27s', 'datetime': '2022-03-14T18:39:34.916728', 'gensim': '4.1.2', 'python': '3.8.5 (default, Sep  3 2020, 21:29:08) [MSC v.1916 64 bit (AMD64)]', 'platform': 'Windows-10-10.0.19041-SP0', 'event': 'created'}\n",
      "INFO : adding document #0 to Dictionary(0 unique tokens: [])\n",
      "INFO : built Dictionary(1036 unique tokens: ['a', 'an', 'and', 'around', 'articul']...) from 94 documents (total 10735 corpus positions)\n",
      "INFO : Dictionary lifecycle event {'msg': \"built Dictionary(1036 unique tokens: ['a', 'an', 'and', 'around', 'articul']...) from 94 documents (total 10735 corpus positions)\", 'datetime': '2022-03-14T18:39:35.170722', 'gensim': '4.1.2', 'python': '3.8.5 (default, Sep  3 2020, 21:29:08) [MSC v.1916 64 bit (AMD64)]', 'platform': 'Windows-10-10.0.19041-SP0', 'event': 'created'}\n",
      "INFO : using symmetric alpha at 0.06666666666666667\n",
      "INFO : using symmetric eta at 0.06666666666666667\n",
      "INFO : using serial LDA version on this node\n",
      "INFO : running online (single-pass) LDA training, 15 topics, 1 passes over the supplied corpus of 94 documents, updating model once every 94 documents, evaluating perplexity every 94 documents, iterating 50x with a convergence threshold of 0.001000\n",
      "WARNING : too few updates, training might not converge; consider increasing the number of passes or iterations to improve accuracy\n",
      "INFO : -9.627 per-word bound, 790.5 perplexity estimate based on a held-out corpus of 94 documents with 10735 words\n",
      "INFO : PROGRESS: pass 0, at document #94/94\n",
      "INFO : topic #10 (0.067): 0.039*\"and\" + 0.037*\"a\" + 0.031*\"the\" + 0.027*\"for\" + 0.025*\"to\" + 0.022*\"of\" + 0.011*\"use\" + 0.011*\"an\" + 0.010*\"energi\" + 0.009*\"in\"\n",
      "INFO : topic #5 (0.067): 0.093*\"the\" + 0.049*\"a\" + 0.028*\"of\" + 0.027*\"and\" + 0.025*\"to\" + 0.019*\"solar\" + 0.017*\"light\" + 0.013*\"for\" + 0.012*\"that\" + 0.012*\"receiv\"\n",
      "INFO : topic #7 (0.067): 0.063*\"a\" + 0.032*\"the\" + 0.022*\"to\" + 0.017*\"control\" + 0.016*\"of\" + 0.016*\"in\" + 0.013*\"an\" + 0.012*\"power\" + 0.011*\"for\" + 0.011*\"energi\"\n",
      "INFO : topic #6 (0.067): 0.027*\"solar\" + 0.017*\"effici\" + 0.017*\"in\" + 0.016*\"polym\" + 0.016*\"devic\" + 0.015*\"convers\" + 0.015*\"that\" + 0.010*\"conjug\" + 0.010*\"optic\" + 0.010*\"semiconduct\"\n",
      "INFO : topic #11 (0.067): 0.002*\"point\" + 0.002*\"power\" + 0.002*\"be\" + 0.002*\"of\" + 0.002*\"and\" + 0.002*\"may\" + 0.002*\"the\" + 0.002*\"in\" + 0.001*\"perturb\" + 0.001*\"maximum\"\n",
      "INFO : topic diff=9.290616, rho=1.000000\n",
      "INFO : LdaModel lifecycle event {'msg': 'trained LdaModel(num_terms=1036, num_topics=15, decay=0.5, chunksize=2000) in 0.27s', 'datetime': '2022-03-14T18:39:35.458770', 'gensim': '4.1.2', 'python': '3.8.5 (default, Sep  3 2020, 21:29:08) [MSC v.1916 64 bit (AMD64)]', 'platform': 'Windows-10-10.0.19041-SP0', 'event': 'created'}\n",
      "INFO : adding document #0 to Dictionary(0 unique tokens: [])\n",
      "INFO : built Dictionary(1036 unique tokens: ['a', 'an', 'and', 'around', 'articul']...) from 94 documents (total 10735 corpus positions)\n",
      "INFO : Dictionary lifecycle event {'msg': \"built Dictionary(1036 unique tokens: ['a', 'an', 'and', 'around', 'articul']...) from 94 documents (total 10735 corpus positions)\", 'datetime': '2022-03-14T18:39:35.683765', 'gensim': '4.1.2', 'python': '3.8.5 (default, Sep  3 2020, 21:29:08) [MSC v.1916 64 bit (AMD64)]', 'platform': 'Windows-10-10.0.19041-SP0', 'event': 'created'}\n",
      "INFO : using symmetric alpha at 0.0625\n",
      "INFO : using symmetric eta at 0.0625\n",
      "INFO : using serial LDA version on this node\n",
      "INFO : running online (single-pass) LDA training, 16 topics, 1 passes over the supplied corpus of 94 documents, updating model once every 94 documents, evaluating perplexity every 94 documents, iterating 50x with a convergence threshold of 0.001000\n",
      "WARNING : too few updates, training might not converge; consider increasing the number of passes or iterations to improve accuracy\n",
      "INFO : -9.858 per-word bound, 928.2 perplexity estimate based on a held-out corpus of 94 documents with 10735 words\n",
      "INFO : PROGRESS: pass 0, at document #94/94\n",
      "INFO : topic #1 (0.062): 0.010*\"2\" + 0.007*\"4\" + 0.004*\"b\" + 0.004*\"5\" + 0.004*\"benzo\" + 0.003*\"and\" + 0.003*\"6\" + 0.003*\"3\" + 0.003*\"a\" + 0.003*\"diyl\"\n",
      "INFO : topic #12 (0.062): 0.081*\"a\" + 0.064*\"the\" + 0.050*\"of\" + 0.028*\"and\" + 0.020*\"to\" + 0.014*\"includ\" + 0.012*\"in\" + 0.011*\"an\" + 0.011*\"layer\" + 0.010*\"solar\"\n",
      "INFO : topic #14 (0.062): 0.053*\"a\" + 0.044*\"the\" + 0.031*\"and\" + 0.029*\"of\" + 0.023*\"to\" + 0.014*\"method\" + 0.014*\"for\" + 0.011*\"wind\" + 0.011*\"magnet\" + 0.010*\"includ\"\n",
      "INFO : topic #0 (0.062): 0.085*\"the\" + 0.066*\"a\" + 0.038*\"and\" + 0.025*\"of\" + 0.022*\"to\" + 0.022*\"solar\" + 0.018*\"cell\" + 0.015*\"light\" + 0.015*\"receiv\" + 0.014*\"an\"\n",
      "INFO : topic #5 (0.062): 0.073*\"a\" + 0.054*\"the\" + 0.031*\"and\" + 0.025*\"of\" + 0.024*\"to\" + 0.016*\"includ\" + 0.013*\"solar\" + 0.013*\"in\" + 0.012*\"layer\" + 0.012*\"that\"\n",
      "INFO : topic diff=9.265587, rho=1.000000\n",
      "INFO : LdaModel lifecycle event {'msg': 'trained LdaModel(num_terms=1036, num_topics=16, decay=0.5, chunksize=2000) in 0.24s', 'datetime': '2022-03-14T18:39:35.939765', 'gensim': '4.1.2', 'python': '3.8.5 (default, Sep  3 2020, 21:29:08) [MSC v.1916 64 bit (AMD64)]', 'platform': 'Windows-10-10.0.19041-SP0', 'event': 'created'}\n",
      "INFO : adding document #0 to Dictionary(0 unique tokens: [])\n",
      "INFO : built Dictionary(1036 unique tokens: ['a', 'an', 'and', 'around', 'articul']...) from 94 documents (total 10735 corpus positions)\n",
      "INFO : Dictionary lifecycle event {'msg': \"built Dictionary(1036 unique tokens: ['a', 'an', 'and', 'around', 'articul']...) from 94 documents (total 10735 corpus positions)\", 'datetime': '2022-03-14T18:39:36.174722', 'gensim': '4.1.2', 'python': '3.8.5 (default, Sep  3 2020, 21:29:08) [MSC v.1916 64 bit (AMD64)]', 'platform': 'Windows-10-10.0.19041-SP0', 'event': 'created'}\n",
      "INFO : using symmetric alpha at 0.058823529411764705\n",
      "INFO : using symmetric eta at 0.058823529411764705\n",
      "INFO : using serial LDA version on this node\n",
      "INFO : running online (single-pass) LDA training, 17 topics, 1 passes over the supplied corpus of 94 documents, updating model once every 94 documents, evaluating perplexity every 94 documents, iterating 50x with a convergence threshold of 0.001000\n",
      "WARNING : too few updates, training might not converge; consider increasing the number of passes or iterations to improve accuracy\n",
      "INFO : -10.096 per-word bound, 1094.6 perplexity estimate based on a held-out corpus of 94 documents with 10735 words\n",
      "INFO : PROGRESS: pass 0, at document #94/94\n",
      "INFO : topic #12 (0.059): 0.072*\"the\" + 0.057*\"a\" + 0.045*\"and\" + 0.024*\"solar\" + 0.022*\"to\" + 0.021*\"of\" + 0.019*\"cell\" + 0.017*\"an\" + 0.013*\"power\" + 0.013*\"light\"\n",
      "INFO : topic #14 (0.059): 0.043*\"the\" + 0.033*\"nanotub\" + 0.030*\"of\" + 0.027*\"and\" + 0.027*\"process\" + 0.024*\"a\" + 0.020*\"high\" + 0.020*\"fabric\" + 0.020*\"plasma\" + 0.017*\"to\"\n",
      "INFO : topic #2 (0.059): 0.023*\"the\" + 0.022*\"aerostat\" + 0.014*\"and\" + 0.013*\"a\" + 0.011*\"an\" + 0.010*\"of\" + 0.010*\"to\" + 0.009*\"tether\" + 0.009*\"allow\" + 0.008*\"system\"\n",
      "INFO : topic #0 (0.059): 0.086*\"the\" + 0.048*\"a\" + 0.038*\"of\" + 0.032*\"and\" + 0.022*\"to\" + 0.019*\"in\" + 0.014*\"for\" + 0.013*\"an\" + 0.010*\"power\" + 0.009*\"receiv\"\n",
      "INFO : topic #9 (0.059): 0.027*\"the\" + 0.023*\"a\" + 0.020*\"2\" + 0.020*\"and\" + 0.016*\"to\" + 0.015*\"in\" + 0.013*\"of\" + 0.011*\"includ\" + 0.011*\"with\" + 0.010*\"receiv\"\n",
      "INFO : topic diff=9.905668, rho=1.000000\n",
      "INFO : LdaModel lifecycle event {'msg': 'trained LdaModel(num_terms=1036, num_topics=17, decay=0.5, chunksize=2000) in 0.23s', 'datetime': '2022-03-14T18:39:36.415722', 'gensim': '4.1.2', 'python': '3.8.5 (default, Sep  3 2020, 21:29:08) [MSC v.1916 64 bit (AMD64)]', 'platform': 'Windows-10-10.0.19041-SP0', 'event': 'created'}\n",
      "INFO : adding document #0 to Dictionary(0 unique tokens: [])\n",
      "INFO : built Dictionary(1036 unique tokens: ['a', 'an', 'and', 'around', 'articul']...) from 94 documents (total 10735 corpus positions)\n",
      "INFO : Dictionary lifecycle event {'msg': \"built Dictionary(1036 unique tokens: ['a', 'an', 'and', 'around', 'articul']...) from 94 documents (total 10735 corpus positions)\", 'datetime': '2022-03-14T18:39:36.671726', 'gensim': '4.1.2', 'python': '3.8.5 (default, Sep  3 2020, 21:29:08) [MSC v.1916 64 bit (AMD64)]', 'platform': 'Windows-10-10.0.19041-SP0', 'event': 'created'}\n",
      "INFO : using symmetric alpha at 0.05555555555555555\n",
      "INFO : using symmetric eta at 0.05555555555555555\n",
      "INFO : using serial LDA version on this node\n",
      "INFO : running online (single-pass) LDA training, 18 topics, 1 passes over the supplied corpus of 94 documents, updating model once every 94 documents, evaluating perplexity every 94 documents, iterating 50x with a convergence threshold of 0.001000\n",
      "WARNING : too few updates, training might not converge; consider increasing the number of passes or iterations to improve accuracy\n",
      "INFO : -10.300 per-word bound, 1260.7 perplexity estimate based on a held-out corpus of 94 documents with 10735 words\n",
      "INFO : PROGRESS: pass 0, at document #94/94\n",
      "INFO : topic #14 (0.056): 0.039*\"the\" + 0.028*\"a\" + 0.024*\"of\" + 0.023*\"to\" + 0.014*\"and\" + 0.014*\"for\" + 0.013*\"bismuth\" + 0.011*\"in\" + 0.011*\"nanocub\" + 0.011*\"titan\"\n",
      "INFO : topic #17 (0.056): 0.059*\"a\" + 0.043*\"of\" + 0.042*\"the\" + 0.033*\"and\" + 0.019*\"to\" + 0.016*\"an\" + 0.015*\"first\" + 0.014*\"second\" + 0.011*\"plural\" + 0.010*\"control\"\n",
      "INFO : topic #6 (0.056): 0.039*\"2\" + 0.037*\"4\" + 0.023*\"b\" + 0.019*\"5\" + 0.018*\"diyl\" + 0.017*\"3\" + 0.017*\"6\" + 0.013*\"dithiophen\" + 0.011*\"b′\" + 0.011*\"the\"\n",
      "INFO : topic #5 (0.056): 0.062*\"a\" + 0.032*\"the\" + 0.025*\"of\" + 0.025*\"to\" + 0.022*\"and\" + 0.012*\"in\" + 0.011*\"an\" + 0.010*\"at\" + 0.009*\"system\" + 0.009*\"are\"\n",
      "INFO : topic #12 (0.056): 0.059*\"a\" + 0.037*\"the\" + 0.033*\"and\" + 0.030*\"of\" + 0.022*\"in\" + 0.018*\"to\" + 0.017*\"solar\" + 0.013*\"or\" + 0.013*\"power\" + 0.013*\"for\"\n",
      "INFO : topic diff=11.186275, rho=1.000000\n",
      "INFO : LdaModel lifecycle event {'msg': 'trained LdaModel(num_terms=1036, num_topics=18, decay=0.5, chunksize=2000) in 0.26s', 'datetime': '2022-03-14T18:39:36.949764', 'gensim': '4.1.2', 'python': '3.8.5 (default, Sep  3 2020, 21:29:08) [MSC v.1916 64 bit (AMD64)]', 'platform': 'Windows-10-10.0.19041-SP0', 'event': 'created'}\n",
      "INFO : adding document #0 to Dictionary(0 unique tokens: [])\n",
      "INFO : built Dictionary(1036 unique tokens: ['a', 'an', 'and', 'around', 'articul']...) from 94 documents (total 10735 corpus positions)\n",
      "INFO : Dictionary lifecycle event {'msg': \"built Dictionary(1036 unique tokens: ['a', 'an', 'and', 'around', 'articul']...) from 94 documents (total 10735 corpus positions)\", 'datetime': '2022-03-14T18:39:37.202764', 'gensim': '4.1.2', 'python': '3.8.5 (default, Sep  3 2020, 21:29:08) [MSC v.1916 64 bit (AMD64)]', 'platform': 'Windows-10-10.0.19041-SP0', 'event': 'created'}\n",
      "INFO : using symmetric alpha at 0.05263157894736842\n",
      "INFO : using symmetric eta at 0.05263157894736842\n",
      "INFO : using serial LDA version on this node\n",
      "INFO : running online (single-pass) LDA training, 19 topics, 1 passes over the supplied corpus of 94 documents, updating model once every 94 documents, evaluating perplexity every 94 documents, iterating 50x with a convergence threshold of 0.001000\n",
      "WARNING : too few updates, training might not converge; consider increasing the number of passes or iterations to improve accuracy\n",
      "INFO : -10.552 per-word bound, 1501.4 perplexity estimate based on a held-out corpus of 94 documents with 10735 words\n",
      "INFO : PROGRESS: pass 0, at document #94/94\n",
      "INFO : topic #11 (0.053): 0.087*\"the\" + 0.052*\"a\" + 0.043*\"and\" + 0.033*\"of\" + 0.021*\"to\" + 0.015*\"in\" + 0.014*\"includ\" + 0.012*\"for\" + 0.012*\"first\" + 0.010*\"method\"\n",
      "INFO : topic #3 (0.053): 0.030*\"a\" + 0.023*\"the\" + 0.020*\"of\" + 0.017*\"to\" + 0.015*\"and\" + 0.013*\"bismuth\" + 0.012*\"titan\" + 0.012*\"nanocub\" + 0.011*\"2\" + 0.010*\"with\"\n",
      "INFO : topic #10 (0.053): 0.029*\"solar\" + 0.022*\"in\" + 0.020*\"that\" + 0.020*\"devic\" + 0.019*\"polym\" + 0.019*\"effici\" + 0.019*\"convers\" + 0.019*\"the\" + 0.016*\"and\" + 0.015*\"a\"\n",
      "INFO : topic #6 (0.053): 0.064*\"the\" + 0.048*\"a\" + 0.031*\"and\" + 0.022*\"of\" + 0.017*\"film\" + 0.016*\"to\" + 0.015*\"is\" + 0.015*\"cell\" + 0.014*\"solar\" + 0.012*\"an\"\n",
      "INFO : topic #12 (0.053): 0.068*\"the\" + 0.042*\"a\" + 0.030*\"magnet\" + 0.025*\"that\" + 0.022*\"to\" + 0.021*\"solar\" + 0.021*\"and\" + 0.019*\"assembl\" + 0.019*\"use\" + 0.019*\"cell\"\n",
      "INFO : topic diff=11.613883, rho=1.000000\n",
      "INFO : LdaModel lifecycle event {'msg': 'trained LdaModel(num_terms=1036, num_topics=19, decay=0.5, chunksize=2000) in 0.28s', 'datetime': '2022-03-14T18:39:37.501768', 'gensim': '4.1.2', 'python': '3.8.5 (default, Sep  3 2020, 21:29:08) [MSC v.1916 64 bit (AMD64)]', 'platform': 'Windows-10-10.0.19041-SP0', 'event': 'created'}\n"
     ]
    },
    {
     "name": "stdout",
     "output_type": "stream",
     "text": [
      "best t:  6 best coherence val: -1.285336736468702\n"
     ]
    }
   ],
   "source": [
    "t_val=[]\n",
    "coherence_val=[]\n",
    "for t in num_topics:    \n",
    "    patent_abstract_LL=merged_df['patent_abstract'].to_list()\n",
    "    #form a list of tokenized abstracts; tokenize function generates a list of words\n",
    "    pa_LL=[tokenize(x) for x in patent_abstract_LL]\n",
    "    id2word=gensim.corpora.Dictionary(pa_LL) #dictionary\n",
    "    corpus=[id2word.doc2bow(text) for text in pa_LL]\n",
    "    x_LdaModel = LdaModel(corpus=corpus, id2word=id2word, iterations=50, num_topics=t)\n",
    "    x_cm = CoherenceModel(model=x_LdaModel, corpus=corpus, dictionary=id2word, coherence='u_mass')\n",
    "    t_val.append(t)\n",
    "    coherence_val.append(x_cm.get_coherence())\n",
    "max_coherence_val_idx=np.argmax(coherence_val)\n",
    "max_coherence=coherence_val[max_coherence_val_idx]\n",
    "best_t=t_val[max_coherence_val_idx]\n",
    "print('best t: ',best_t, 'best coherence val:', max_coherence)"
   ]
  },
  {
   "cell_type": "code",
   "execution_count": null,
   "metadata": {
    "id": "mVq0jSRg6nlD"
   },
   "outputs": [],
   "source": [
    "#idea is maybe to get LDA topics of patents, and then see the linkage they have with the grants\n",
    "#change this with LDA version of patents \n",
    "RE_text=pd.read_csv('RE_topics_project_id_with_max.csv', skipinitialspace=True)\n",
    "\n",
    "wanted_topics=[\n",
    " 'grid, smart, power, control, electr',\n",
    " 'solar, solar cell, cell, photovolta, light',\n",
    " 'biomass, fuel, biofuel, product, foundat intellectu',\n",
    " 'polici, climat, chang, econom, health',\n",
    " 'energi effici, effici, commerci, hardwar, small',\n",
    " 'wireless, storag, energi storag, mobil, batteri',\n",
    " 'wind, turbin, farm, crop, long term',\n",
    " 'membran, treatment, heat, water, separ']\n",
    "\n",
    "RE_df_list=[]\n",
    "#further filtering done to be specific\n",
    "for t in wanted_topics:\n",
    "    RE_df_list.append(RE_text[(RE_text['topic']==t) & \n",
    "                              (RE_text['PROJECT_TITLE'].str.contains('ENERGY')) &\n",
    "                               (RE_text['ABSTRACT'].str.contains('renewable | sustainable'))])\n",
    "full_RE_df=pd.concat(RE_df_list)\n",
    "\n",
    "REs_df=full_RE_df.copy()\n",
    "#Spread of Total Funding per year\n",
    "#specify topic\n",
    "for w_t in wanted_topics:\n",
    "    REs_current_df=REs_df[REs_df['topic']==w_t]\n",
    "    spfcRE_df=REs_current_df.groupby('FY')['FY_TOTAL_COST'].sum().to_frame().reset_index()\n",
    "    g=sns.barplot(x='FY', y='FY_TOTAL_COST', data=spfcRE_df, color='orange')\n",
    "    g.set_xticklabels(labels=g.get_xticklabels(), rotation = 35)\n",
    "    f = ticker.ScalarFormatter(useOffset=False, useMathText=True)\n",
    "    mapper = lambda x,pos : \"${}$\".format(f._formatSciNotation('%1.10e' % x))\n",
    "    plt.gca().yaxis.set_major_formatter(ticker.FuncFormatter(mapper))\n",
    "    plt.title('topic: '+str(w_t)+' | across fiscal years')\n",
    "    plt.show()"
   ]
  }
 ],
 "metadata": {
  "colab": {
   "collapsed_sections": [],
   "name": "Top_PIs_Text_Analysis.ipynb",
   "provenance": []
  },
  "kernelspec": {
   "display_name": "Python 3 (ipykernel)",
   "language": "python",
   "name": "python3"
  },
  "language_info": {
   "codemirror_mode": {
    "name": "ipython",
    "version": 3
   },
   "file_extension": ".py",
   "mimetype": "text/x-python",
   "name": "python",
   "nbconvert_exporter": "python",
   "pygments_lexer": "ipython3",
   "version": "3.8.12"
  }
 },
 "nbformat": 4,
 "nbformat_minor": 1
}

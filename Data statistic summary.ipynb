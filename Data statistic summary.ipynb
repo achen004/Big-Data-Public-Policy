{
 "cells": [
  {
   "cell_type": "markdown",
   "metadata": {},
   "source": [
    "# Data Exploration: Federal RePORTER"
   ]
  },
  {
   "cell_type": "markdown",
   "metadata": {},
   "source": [
    "Written by: Daniela Hochfellner"
   ]
  },
  {
   "cell_type": "markdown",
   "metadata": {},
   "source": [
    "## Import necessary libraries"
   ]
  },
  {
   "cell_type": "code",
   "execution_count": 3,
   "metadata": {},
   "outputs": [],
   "source": [
    "import pandas as pd"
   ]
  },
  {
   "cell_type": "markdown",
   "metadata": {},
   "source": [
    "# Grant statistic summary"
   ]
  },
  {
   "cell_type": "markdown",
   "metadata": {},
   "source": [
    "# loading data"
   ]
  },
  {
   "cell_type": "code",
   "execution_count": 4,
   "metadata": {},
   "outputs": [],
   "source": [
    "grants_2009_2018 = []\n",
    "years = [2009, 2010, 2011, 2012, 2013, 2014, 2015, 2016, 2017, 2018]\n",
    "for year in years:\n",
    "    grant = pd.read_csv('Grants_Projects/FedRePORTER_PRJ_C_FY' + str(year) + '.csv', low_memory=False, skipinitialspace=True) \n",
    "    grants_2009_2018.append(grant)  # append that dataframe to a list\n",
    "\n",
    "# Concatenate all the dataframes together into one dataframe\n",
    "grants_2009_2018 = pd.concat(grants_2009_2018)"
   ]
  },
  {
   "cell_type": "code",
   "execution_count": 5,
   "metadata": {},
   "outputs": [],
   "source": [
    "patents_2010_2018 = []\n",
    "years = [2010, 2011, 2012, 2013, 2014, 2015, 2016, 2017, 2018]\n",
    "for year in years:\n",
    "    pt = pd.read_csv('Patents/patents_' + str(year) + '.csv', low_memory=False, skipinitialspace=True) \n",
    "    patents_2010_2018.append(pt)  # append that dataframe to a list\n",
    "\n",
    "# Concatenate all the dataframes together into one dataframe\n",
    "patents_2010_2018 = pd.concat(patents_2010_2018)"
   ]
  },
  {
   "cell_type": "code",
   "execution_count": 6,
   "metadata": {},
   "outputs": [],
   "source": [
    "\n",
    "abst = []\n",
    "years = [2009, 2010, 2011, 2012, 2013, 2014, 2015, 2016, 2017, 2018]\n",
    "for year in years:\n",
    "    ab = pd.read_csv('Grants_Abstracts/FedRePORTER_PRJABS_C_FY' + str(year) + '.csv', low_memory=False, skipinitialspace=True) \n",
    "    abst.append(ab)  # append that dataframe to a list\n",
    "\n",
    "# Concatenate all the dataframes together into one dataframe\n",
    "abs_2010_2018 = pd.concat(abst)"
   ]
  },
  {
   "cell_type": "markdown",
   "metadata": {},
   "source": [
    "# merge grant data with abstract"
   ]
  },
  {
   "cell_type": "code",
   "execution_count": 7,
   "metadata": {},
   "outputs": [],
   "source": [
    "grants_abstract_2009_2018 = grants_2009_2018.merge(abs_2010_2018, how='inner', left_on = 'PROJECT_ID', right_on = 'PROJECT_ID')"
   ]
  },
  {
   "cell_type": "code",
   "execution_count": 8,
   "metadata": {},
   "outputs": [],
   "source": [
    "test=grants_abstract_2009_2018.dropna(subset=['ABSTRACT','CONTACT_PI_PROJECT_LEADER'])"
   ]
  },
  {
   "cell_type": "code",
   "execution_count": 9,
   "metadata": {},
   "outputs": [
    {
     "data": {
      "text/plain": [
       "9049"
      ]
     },
     "execution_count": 9,
     "metadata": {},
     "output_type": "execute_result"
    }
   ],
   "source": [
    "RE = test[test['ABSTRACT'].str.contains('solar | wind power | wind turbine | biomass | biofuel | geothermal')]\n",
    "len(RE)"
   ]
  },
  {
   "cell_type": "code",
   "execution_count": 10,
   "metadata": {},
   "outputs": [
    {
     "data": {
      "text/plain": [
       "Index(['PROJECT_ID', 'PROJECT_TERMS', 'PROJECT_TITLE', 'DEPARTMENT', 'AGENCY',\n",
       "       'IC_CENTER', 'PROJECT_NUMBER', 'PROJECT_START_DATE', 'PROJECT_END_DATE',\n",
       "       'CONTACT_PI_PROJECT_LEADER', 'OTHER_PIS', 'CONGRESSIONAL_DISTRICT',\n",
       "       'DUNS_NUMBER', 'ORGANIZATION_NAME', 'ORGANIZATION_CITY',\n",
       "       'ORGANIZATION_STATE', 'ORGANIZATION_ZIP', 'ORGANIZATION_COUNTRY',\n",
       "       'BUDGET_START_DATE', 'BUDGET_END_DATE', 'CFDA_CODE', 'FY',\n",
       "       'FY_TOTAL_COST', 'FY_TOTAL_COST_SUB_PROJECTS', 'ABSTRACT'],\n",
       "      dtype='object')"
      ]
     },
     "execution_count": 10,
     "metadata": {},
     "output_type": "execute_result"
    }
   ],
   "source": [
    "RE.columns"
   ]
  },
  {
   "cell_type": "markdown",
   "metadata": {},
   "source": [
    "# project received the most funds"
   ]
  },
  {
   "cell_type": "code",
   "execution_count": 11,
   "metadata": {},
   "outputs": [
    {
     "data": {
      "text/html": [
       "<div>\n",
       "<style scoped>\n",
       "    .dataframe tbody tr th:only-of-type {\n",
       "        vertical-align: middle;\n",
       "    }\n",
       "\n",
       "    .dataframe tbody tr th {\n",
       "        vertical-align: top;\n",
       "    }\n",
       "\n",
       "    .dataframe thead th {\n",
       "        text-align: right;\n",
       "    }\n",
       "</style>\n",
       "<table border=\"1\" class=\"dataframe\">\n",
       "  <thead>\n",
       "    <tr style=\"text-align: right;\">\n",
       "      <th></th>\n",
       "      <th>AGENCY</th>\n",
       "      <th>FY_TOTAL_COST</th>\n",
       "      <th>PROJECT_START_DATE</th>\n",
       "      <th>PROJECT_TITLE</th>\n",
       "    </tr>\n",
       "  </thead>\n",
       "  <tbody>\n",
       "    <tr>\n",
       "      <th>129229</th>\n",
       "      <td>NSF</td>\n",
       "      <td>146000000.0</td>\n",
       "      <td>1/1/2010</td>\n",
       "      <td>ADVANCED TECHNOLOGY SOLAR TELESCOPE (ATST) CON...</td>\n",
       "    </tr>\n",
       "    <tr>\n",
       "      <th>129330</th>\n",
       "      <td>NSF</td>\n",
       "      <td>38611244.0</td>\n",
       "      <td>10/1/2009</td>\n",
       "      <td>DEVELOPING THE PRELIMINARY DESIGN FOR THE DEEP...</td>\n",
       "    </tr>\n",
       "    <tr>\n",
       "      <th>213574</th>\n",
       "      <td>NIFA</td>\n",
       "      <td>23600000.0</td>\n",
       "      <td>2/1/2010</td>\n",
       "      <td>NORTHWEST ADVANCED RENEWABLES ALLIANCE (NARA):...</td>\n",
       "    </tr>\n",
       "    <tr>\n",
       "      <th>128557</th>\n",
       "      <td>NSF</td>\n",
       "      <td>20000000.0</td>\n",
       "      <td>1/1/2010</td>\n",
       "      <td>ADVANCED TECHNOLOGY SOLAR TELESCOPE (ATST) CON...</td>\n",
       "    </tr>\n",
       "    <tr>\n",
       "      <th>213580</th>\n",
       "      <td>NIFA</td>\n",
       "      <td>19818025.0</td>\n",
       "      <td>2/1/2010</td>\n",
       "      <td>AGRO-ECOSYSTEM APPROACH TO SUSTAINABLE BIOFUEL...</td>\n",
       "    </tr>\n",
       "    <tr>\n",
       "      <th>...</th>\n",
       "      <td>...</td>\n",
       "      <td>...</td>\n",
       "      <td>...</td>\n",
       "      <td>...</td>\n",
       "    </tr>\n",
       "    <tr>\n",
       "      <th>871785</th>\n",
       "      <td>VA</td>\n",
       "      <td>NaN</td>\n",
       "      <td>4/1/2018</td>\n",
       "      <td>TARGETING THE MELANOCORTIN 1 RECEPTOR BY SELEC...</td>\n",
       "    </tr>\n",
       "    <tr>\n",
       "      <th>895189</th>\n",
       "      <td>NIH</td>\n",
       "      <td>NaN</td>\n",
       "      <td>NaN</td>\n",
       "      <td>PROJECT 5: REMEDIATION OF CONTAMINATED GROUNDW...</td>\n",
       "    </tr>\n",
       "    <tr>\n",
       "      <th>905278</th>\n",
       "      <td>NIH</td>\n",
       "      <td>NaN</td>\n",
       "      <td>NaN</td>\n",
       "      <td>PROJECT 1: NUCLEOTIDE EXCISION REPAIR</td>\n",
       "    </tr>\n",
       "    <tr>\n",
       "      <th>929817</th>\n",
       "      <td>NSF</td>\n",
       "      <td>NaN</td>\n",
       "      <td>7/15/2018</td>\n",
       "      <td>COLLABORATIVE RESEARCH: MODELING THE NONLINEAR...</td>\n",
       "    </tr>\n",
       "    <tr>\n",
       "      <th>935479</th>\n",
       "      <td>NSF</td>\n",
       "      <td>NaN</td>\n",
       "      <td>1/1/2018</td>\n",
       "      <td>CAREER: PUSHING THE EXTREMES OF HEAT CONDUCTIO...</td>\n",
       "    </tr>\n",
       "  </tbody>\n",
       "</table>\n",
       "<p>9049 rows × 4 columns</p>\n",
       "</div>"
      ],
      "text/plain": [
       "       AGENCY  FY_TOTAL_COST PROJECT_START_DATE  \\\n",
       "129229    NSF    146000000.0           1/1/2010   \n",
       "129330    NSF     38611244.0          10/1/2009   \n",
       "213574   NIFA     23600000.0           2/1/2010   \n",
       "128557    NSF     20000000.0           1/1/2010   \n",
       "213580   NIFA     19818025.0           2/1/2010   \n",
       "...       ...            ...                ...   \n",
       "871785     VA            NaN           4/1/2018   \n",
       "895189    NIH            NaN                NaN   \n",
       "905278    NIH            NaN                NaN   \n",
       "929817    NSF            NaN          7/15/2018   \n",
       "935479    NSF            NaN           1/1/2018   \n",
       "\n",
       "                                            PROJECT_TITLE  \n",
       "129229  ADVANCED TECHNOLOGY SOLAR TELESCOPE (ATST) CON...  \n",
       "129330  DEVELOPING THE PRELIMINARY DESIGN FOR THE DEEP...  \n",
       "213574  NORTHWEST ADVANCED RENEWABLES ALLIANCE (NARA):...  \n",
       "128557  ADVANCED TECHNOLOGY SOLAR TELESCOPE (ATST) CON...  \n",
       "213580  AGRO-ECOSYSTEM APPROACH TO SUSTAINABLE BIOFUEL...  \n",
       "...                                                   ...  \n",
       "871785  TARGETING THE MELANOCORTIN 1 RECEPTOR BY SELEC...  \n",
       "895189  PROJECT 5: REMEDIATION OF CONTAMINATED GROUNDW...  \n",
       "905278              PROJECT 1: NUCLEOTIDE EXCISION REPAIR  \n",
       "929817  COLLABORATIVE RESEARCH: MODELING THE NONLINEAR...  \n",
       "935479  CAREER: PUSHING THE EXTREMES OF HEAT CONDUCTIO...  \n",
       "\n",
       "[9049 rows x 4 columns]"
      ]
     },
     "execution_count": 11,
     "metadata": {},
     "output_type": "execute_result"
    }
   ],
   "source": [
    "RE.sort_values(by ='FY_TOTAL_COST', ascending = False)[['AGENCY','FY_TOTAL_COST','PROJECT_START_DATE',\"PROJECT_TITLE\"]]"
   ]
  },
  {
   "cell_type": "markdown",
   "metadata": {},
   "source": [
    "# State info"
   ]
  },
  {
   "cell_type": "code",
   "execution_count": 12,
   "metadata": {},
   "outputs": [
    {
     "data": {
      "text/plain": [
       "count     8861\n",
       "unique      54\n",
       "top         CA\n",
       "freq      1050\n",
       "Name: ORGANIZATION_STATE, dtype: object"
      ]
     },
     "execution_count": 12,
     "metadata": {},
     "output_type": "execute_result"
    }
   ],
   "source": [
    "RE['ORGANIZATION_STATE'].describe()"
   ]
  },
  {
   "cell_type": "markdown",
   "metadata": {},
   "source": [
    "# Institution info"
   ]
  },
  {
   "cell_type": "code",
   "execution_count": 13,
   "metadata": {},
   "outputs": [
    {
     "data": {
      "text/html": [
       "<div>\n",
       "<style scoped>\n",
       "    .dataframe tbody tr th:only-of-type {\n",
       "        vertical-align: middle;\n",
       "    }\n",
       "\n",
       "    .dataframe tbody tr th {\n",
       "        vertical-align: top;\n",
       "    }\n",
       "\n",
       "    .dataframe thead th {\n",
       "        text-align: right;\n",
       "    }\n",
       "</style>\n",
       "<table border=\"1\" class=\"dataframe\">\n",
       "  <thead>\n",
       "    <tr style=\"text-align: right;\">\n",
       "      <th></th>\n",
       "      <th>FY_TOTAL_COST</th>\n",
       "    </tr>\n",
       "    <tr>\n",
       "      <th>ORGANIZATION_NAME</th>\n",
       "      <th></th>\n",
       "    </tr>\n",
       "  </thead>\n",
       "  <tbody>\n",
       "    <tr>\n",
       "      <th>ASSOCIATION OF UNIVERSITIES FOR RESEARCH IN ASTRONOMY INC</th>\n",
       "      <td>187428212.0</td>\n",
       "    </tr>\n",
       "    <tr>\n",
       "      <th>US FOREST SERVICE</th>\n",
       "      <td>99957643.0</td>\n",
       "    </tr>\n",
       "    <tr>\n",
       "      <th>AGRICULTURAL RESEARCH SERVICE</th>\n",
       "      <td>90884928.0</td>\n",
       "    </tr>\n",
       "    <tr>\n",
       "      <th>UNIVERSITY OF CALIFORNIA BERKELEY</th>\n",
       "      <td>78361320.0</td>\n",
       "    </tr>\n",
       "    <tr>\n",
       "      <th>UNIVERSITY OF MICHIGAN AT ANN ARBOR</th>\n",
       "      <td>56775171.0</td>\n",
       "    </tr>\n",
       "    <tr>\n",
       "      <th>...</th>\n",
       "      <td>...</td>\n",
       "    </tr>\n",
       "    <tr>\n",
       "      <th>CROP IMPROVEMENT/UTILIZATION RESEARCH</th>\n",
       "      <td>0.0</td>\n",
       "    </tr>\n",
       "    <tr>\n",
       "      <th>VIRGINIA POLYTECHNIC INSTITUTE</th>\n",
       "      <td>0.0</td>\n",
       "    </tr>\n",
       "    <tr>\n",
       "      <th>DANA-FARBER CANCER INSTITUTE</th>\n",
       "      <td>0.0</td>\n",
       "    </tr>\n",
       "    <tr>\n",
       "      <th>VETERANS AFFAIRS MED CTR SAN FRANCISCO</th>\n",
       "      <td>0.0</td>\n",
       "    </tr>\n",
       "    <tr>\n",
       "      <th>UNIVERSITY OF CALIFORNIA, DAVIS</th>\n",
       "      <td>0.0</td>\n",
       "    </tr>\n",
       "  </tbody>\n",
       "</table>\n",
       "<p>1219 rows × 1 columns</p>\n",
       "</div>"
      ],
      "text/plain": [
       "                                                    FY_TOTAL_COST\n",
       "ORGANIZATION_NAME                                                \n",
       "ASSOCIATION OF UNIVERSITIES FOR RESEARCH IN AST...    187428212.0\n",
       "US FOREST SERVICE                                      99957643.0\n",
       "AGRICULTURAL RESEARCH SERVICE                          90884928.0\n",
       "UNIVERSITY OF CALIFORNIA BERKELEY                      78361320.0\n",
       "UNIVERSITY OF MICHIGAN AT ANN ARBOR                    56775171.0\n",
       "...                                                           ...\n",
       "CROP IMPROVEMENT/UTILIZATION RESEARCH                         0.0\n",
       "VIRGINIA POLYTECHNIC INSTITUTE                                0.0\n",
       "DANA-FARBER CANCER INSTITUTE                                  0.0\n",
       "VETERANS AFFAIRS MED CTR SAN FRANCISCO                        0.0\n",
       "UNIVERSITY OF CALIFORNIA, DAVIS                               0.0\n",
       "\n",
       "[1219 rows x 1 columns]"
      ]
     },
     "execution_count": 13,
     "metadata": {},
     "output_type": "execute_result"
    }
   ],
   "source": [
    "RE_ins = RE.groupby('ORGANIZATION_NAME').agg({'FY_TOTAL_COST':'sum'}).\\\n",
    "sort_values(by='FY_TOTAL_COST',ascending=False)\n",
    "RE_ins"
   ]
  },
  {
   "cell_type": "markdown",
   "metadata": {},
   "source": [
    "# Agency info"
   ]
  },
  {
   "cell_type": "code",
   "execution_count": 14,
   "metadata": {},
   "outputs": [
    {
     "data": {
      "text/html": [
       "<div>\n",
       "<style scoped>\n",
       "    .dataframe tbody tr th:only-of-type {\n",
       "        vertical-align: middle;\n",
       "    }\n",
       "\n",
       "    .dataframe tbody tr th {\n",
       "        vertical-align: top;\n",
       "    }\n",
       "\n",
       "    .dataframe thead th {\n",
       "        text-align: right;\n",
       "    }\n",
       "</style>\n",
       "<table border=\"1\" class=\"dataframe\">\n",
       "  <thead>\n",
       "    <tr style=\"text-align: right;\">\n",
       "      <th></th>\n",
       "      <th>FY_TOTAL_COST</th>\n",
       "    </tr>\n",
       "    <tr>\n",
       "      <th>AGENCY</th>\n",
       "      <th></th>\n",
       "    </tr>\n",
       "  </thead>\n",
       "  <tbody>\n",
       "    <tr>\n",
       "      <th>NSF</th>\n",
       "      <td>2.313487e+09</td>\n",
       "    </tr>\n",
       "    <tr>\n",
       "      <th>NIFA</th>\n",
       "      <td>3.336677e+08</td>\n",
       "    </tr>\n",
       "    <tr>\n",
       "      <th>NIH</th>\n",
       "      <td>2.452777e+08</td>\n",
       "    </tr>\n",
       "    <tr>\n",
       "      <th>ARS</th>\n",
       "      <td>1.365819e+08</td>\n",
       "    </tr>\n",
       "    <tr>\n",
       "      <th>FS</th>\n",
       "      <td>9.995764e+07</td>\n",
       "    </tr>\n",
       "  </tbody>\n",
       "</table>\n",
       "</div>"
      ],
      "text/plain": [
       "        FY_TOTAL_COST\n",
       "AGENCY               \n",
       "NSF      2.313487e+09\n",
       "NIFA     3.336677e+08\n",
       "NIH      2.452777e+08\n",
       "ARS      1.365819e+08\n",
       "FS       9.995764e+07"
      ]
     },
     "execution_count": 14,
     "metadata": {},
     "output_type": "execute_result"
    }
   ],
   "source": [
    "RE_agency = RE.groupby('AGENCY').agg({'FY_TOTAL_COST':'sum'}).\\\n",
    "sort_values(by='FY_TOTAL_COST',ascending=False)\n",
    "RE_agency.head(5)"
   ]
  },
  {
   "cell_type": "markdown",
   "metadata": {},
   "source": [
    "# PI info"
   ]
  },
  {
   "cell_type": "code",
   "execution_count": 15,
   "metadata": {},
   "outputs": [
    {
     "data": {
      "text/html": [
       "<div>\n",
       "<style scoped>\n",
       "    .dataframe tbody tr th:only-of-type {\n",
       "        vertical-align: middle;\n",
       "    }\n",
       "\n",
       "    .dataframe tbody tr th {\n",
       "        vertical-align: top;\n",
       "    }\n",
       "\n",
       "    .dataframe thead th {\n",
       "        text-align: right;\n",
       "    }\n",
       "</style>\n",
       "<table border=\"1\" class=\"dataframe\">\n",
       "  <thead>\n",
       "    <tr style=\"text-align: right;\">\n",
       "      <th></th>\n",
       "      <th>FY_TOTAL_COST</th>\n",
       "    </tr>\n",
       "    <tr>\n",
       "      <th>CONTACT_PI_PROJECT_LEADER</th>\n",
       "      <th></th>\n",
       "    </tr>\n",
       "  </thead>\n",
       "  <tbody>\n",
       "    <tr>\n",
       "      <th>KEIL, STEPHEN L</th>\n",
       "      <td>169100000.0</td>\n",
       "    </tr>\n",
       "    <tr>\n",
       "      <th>LESKO, KEVIN T</th>\n",
       "      <td>38611244.0</td>\n",
       "    </tr>\n",
       "    <tr>\n",
       "      <th>CAVALIERI, RALPH</th>\n",
       "      <td>23600000.0</td>\n",
       "    </tr>\n",
       "    <tr>\n",
       "      <th>BUFFINGTON, JOHN M</th>\n",
       "      <td>21412999.0</td>\n",
       "    </tr>\n",
       "    <tr>\n",
       "      <th>MOORE, KENNETH J</th>\n",
       "      <td>20316403.0</td>\n",
       "    </tr>\n",
       "    <tr>\n",
       "      <th>...</th>\n",
       "      <td>...</td>\n",
       "    </tr>\n",
       "    <tr>\n",
       "      <th>EMILIANO, ANASTACIO</th>\n",
       "      <td>0.0</td>\n",
       "    </tr>\n",
       "    <tr>\n",
       "      <th>ULERY, A.</th>\n",
       "      <td>0.0</td>\n",
       "    </tr>\n",
       "    <tr>\n",
       "      <th>BHATTACHARYA, DE, .</th>\n",
       "      <td>0.0</td>\n",
       "    </tr>\n",
       "    <tr>\n",
       "      <th>ENGELBERTH, A. S.</th>\n",
       "      <td>0.0</td>\n",
       "    </tr>\n",
       "    <tr>\n",
       "      <th>DAY, M. E.</th>\n",
       "      <td>0.0</td>\n",
       "    </tr>\n",
       "  </tbody>\n",
       "</table>\n",
       "<p>6623 rows × 1 columns</p>\n",
       "</div>"
      ],
      "text/plain": [
       "                           FY_TOTAL_COST\n",
       "CONTACT_PI_PROJECT_LEADER               \n",
       "KEIL, STEPHEN L              169100000.0\n",
       "LESKO, KEVIN T                38611244.0\n",
       "CAVALIERI, RALPH              23600000.0\n",
       "BUFFINGTON, JOHN M            21412999.0\n",
       "MOORE, KENNETH J              20316403.0\n",
       "...                                  ...\n",
       "EMILIANO, ANASTACIO                  0.0\n",
       "ULERY, A.                            0.0\n",
       "BHATTACHARYA, DE, .                  0.0\n",
       "ENGELBERTH, A. S.                    0.0\n",
       "DAY, M. E.                           0.0\n",
       "\n",
       "[6623 rows x 1 columns]"
      ]
     },
     "execution_count": 15,
     "metadata": {},
     "output_type": "execute_result"
    }
   ],
   "source": [
    "RE_PI = RE.groupby('CONTACT_PI_PROJECT_LEADER').agg({'FY_TOTAL_COST':'sum'}).\\\n",
    "sort_values(by='FY_TOTAL_COST',ascending=False)\n",
    "RE_PI"
   ]
  },
  {
   "cell_type": "code",
   "execution_count": 16,
   "metadata": {},
   "outputs": [
    {
     "data": {
      "text/plain": [
       "count    7.943000e+03\n",
       "mean     4.054394e+05\n",
       "std      1.843456e+06\n",
       "min      1.000000e+00\n",
       "25%      1.194165e+05\n",
       "50%      2.490000e+05\n",
       "75%      4.050835e+05\n",
       "max      1.460000e+08\n",
       "Name: FY_TOTAL_COST, dtype: float64"
      ]
     },
     "execution_count": 16,
     "metadata": {},
     "output_type": "execute_result"
    }
   ],
   "source": [
    "RE['FY_TOTAL_COST'].describe()"
   ]
  },
  {
   "cell_type": "markdown",
   "metadata": {},
   "source": [
    "# Text selecting of renewable energy"
   ]
  },
  {
   "cell_type": "code",
   "execution_count": 17,
   "metadata": {},
   "outputs": [],
   "source": [
    "geo = test[test['ABSTRACT'].str.contains('geothermal')]\n",
    "bio = test[test['ABSTRACT'].str.contains('biomass | biofuel')]\n",
    "wind = test[test['ABSTRACT'].str.contains('wind power | wind turbine')]\n",
    "solar = test[test['ABSTRACT'].str.contains('solar')]"
   ]
  },
  {
   "cell_type": "code",
   "execution_count": 18,
   "metadata": {},
   "outputs": [
    {
     "data": {
      "text/plain": [
       "10430"
      ]
     },
     "execution_count": 18,
     "metadata": {},
     "output_type": "execute_result"
    }
   ],
   "source": [
    "len(geo)+len(solar)+len(wind)+len(bio)"
   ]
  },
  {
   "cell_type": "markdown",
   "metadata": {},
   "source": [
    "# statistic summary"
   ]
  },
  {
   "cell_type": "markdown",
   "metadata": {},
   "source": [
    "# solar"
   ]
  },
  {
   "cell_type": "code",
   "execution_count": 19,
   "metadata": {},
   "outputs": [
    {
     "data": {
      "text/html": [
       "<div>\n",
       "<style scoped>\n",
       "    .dataframe tbody tr th:only-of-type {\n",
       "        vertical-align: middle;\n",
       "    }\n",
       "\n",
       "    .dataframe tbody tr th {\n",
       "        vertical-align: top;\n",
       "    }\n",
       "\n",
       "    .dataframe thead th {\n",
       "        text-align: right;\n",
       "    }\n",
       "</style>\n",
       "<table border=\"1\" class=\"dataframe\">\n",
       "  <thead>\n",
       "    <tr style=\"text-align: right;\">\n",
       "      <th></th>\n",
       "      <th>CONTACT_PI_PROJECT_LEADER</th>\n",
       "      <th>DEPARTMENT</th>\n",
       "      <th>AGENCY</th>\n",
       "      <th>ORGANIZATION_CITY</th>\n",
       "      <th>ORGANIZATION_STATE</th>\n",
       "      <th>ORGANIZATION_COUNTRY</th>\n",
       "    </tr>\n",
       "  </thead>\n",
       "  <tbody>\n",
       "    <tr>\n",
       "      <th>count</th>\n",
       "      <td>5430</td>\n",
       "      <td>5430</td>\n",
       "      <td>5430</td>\n",
       "      <td>5336</td>\n",
       "      <td>5318</td>\n",
       "      <td>5343</td>\n",
       "    </tr>\n",
       "    <tr>\n",
       "      <th>unique</th>\n",
       "      <td>3859</td>\n",
       "      <td>8</td>\n",
       "      <td>10</td>\n",
       "      <td>477</td>\n",
       "      <td>53</td>\n",
       "      <td>10</td>\n",
       "    </tr>\n",
       "    <tr>\n",
       "      <th>top</th>\n",
       "      <td>KATIYAR, SANTOSH KUMAR</td>\n",
       "      <td>NSF</td>\n",
       "      <td>NSF</td>\n",
       "      <td>BOULDER</td>\n",
       "      <td>CA</td>\n",
       "      <td>UNITED STATES</td>\n",
       "    </tr>\n",
       "    <tr>\n",
       "      <th>freq</th>\n",
       "      <td>15</td>\n",
       "      <td>4396</td>\n",
       "      <td>4396</td>\n",
       "      <td>169</td>\n",
       "      <td>718</td>\n",
       "      <td>5318</td>\n",
       "    </tr>\n",
       "  </tbody>\n",
       "</table>\n",
       "</div>"
      ],
      "text/plain": [
       "       CONTACT_PI_PROJECT_LEADER DEPARTMENT AGENCY ORGANIZATION_CITY  \\\n",
       "count                       5430       5430   5430              5336   \n",
       "unique                      3859          8     10               477   \n",
       "top       KATIYAR, SANTOSH KUMAR        NSF    NSF           BOULDER   \n",
       "freq                          15       4396   4396               169   \n",
       "\n",
       "       ORGANIZATION_STATE ORGANIZATION_COUNTRY  \n",
       "count                5318                 5343  \n",
       "unique                 53                   10  \n",
       "top                    CA        UNITED STATES  \n",
       "freq                  718                 5318  "
      ]
     },
     "execution_count": 19,
     "metadata": {},
     "output_type": "execute_result"
    }
   ],
   "source": [
    "solar[['CONTACT_PI_PROJECT_LEADER','DEPARTMENT',\\\n",
    "       'AGENCY','ORGANIZATION_CITY','ORGANIZATION_STATE','ORGANIZATION_COUNTRY']].describe()"
   ]
  },
  {
   "cell_type": "code",
   "execution_count": 20,
   "metadata": {},
   "outputs": [
    {
     "data": {
      "text/plain": [
       "1957320165.0"
      ]
     },
     "execution_count": 20,
     "metadata": {},
     "output_type": "execute_result"
    }
   ],
   "source": [
    "solar['FY_TOTAL_COST'].sum()"
   ]
  },
  {
   "cell_type": "code",
   "execution_count": 21,
   "metadata": {},
   "outputs": [
    {
     "data": {
      "text/html": [
       "<div>\n",
       "<style scoped>\n",
       "    .dataframe tbody tr th:only-of-type {\n",
       "        vertical-align: middle;\n",
       "    }\n",
       "\n",
       "    .dataframe tbody tr th {\n",
       "        vertical-align: top;\n",
       "    }\n",
       "\n",
       "    .dataframe thead th {\n",
       "        text-align: right;\n",
       "    }\n",
       "</style>\n",
       "<table border=\"1\" class=\"dataframe\">\n",
       "  <thead>\n",
       "    <tr style=\"text-align: right;\">\n",
       "      <th></th>\n",
       "      <th>FY_TOTAL_COST</th>\n",
       "    </tr>\n",
       "    <tr>\n",
       "      <th>AGENCY</th>\n",
       "      <th></th>\n",
       "    </tr>\n",
       "  </thead>\n",
       "  <tbody>\n",
       "    <tr>\n",
       "      <th>NSF</th>\n",
       "      <td>770825622.0</td>\n",
       "    </tr>\n",
       "    <tr>\n",
       "      <th>NIFA</th>\n",
       "      <td>383979044.0</td>\n",
       "    </tr>\n",
       "    <tr>\n",
       "      <th>ARS</th>\n",
       "      <td>147142595.0</td>\n",
       "    </tr>\n",
       "    <tr>\n",
       "      <th>NIH</th>\n",
       "      <td>142997612.0</td>\n",
       "    </tr>\n",
       "    <tr>\n",
       "      <th>FS</th>\n",
       "      <td>103009402.0</td>\n",
       "    </tr>\n",
       "  </tbody>\n",
       "</table>\n",
       "</div>"
      ],
      "text/plain": [
       "        FY_TOTAL_COST\n",
       "AGENCY               \n",
       "NSF       770825622.0\n",
       "NIFA      383979044.0\n",
       "ARS       147142595.0\n",
       "NIH       142997612.0\n",
       "FS        103009402.0"
      ]
     },
     "execution_count": 21,
     "metadata": {},
     "output_type": "execute_result"
    }
   ],
   "source": [
    "bio.groupby('AGENCY').agg({'FY_TOTAL_COST':'sum'}).\\\n",
    "sort_values(by='FY_TOTAL_COST',ascending=False).head(5)\n"
   ]
  },
  {
   "cell_type": "code",
   "execution_count": 22,
   "metadata": {},
   "outputs": [
    {
     "data": {
      "text/html": [
       "<div>\n",
       "<style scoped>\n",
       "    .dataframe tbody tr th:only-of-type {\n",
       "        vertical-align: middle;\n",
       "    }\n",
       "\n",
       "    .dataframe tbody tr th {\n",
       "        vertical-align: top;\n",
       "    }\n",
       "\n",
       "    .dataframe thead th {\n",
       "        text-align: right;\n",
       "    }\n",
       "</style>\n",
       "<table border=\"1\" class=\"dataframe\">\n",
       "  <thead>\n",
       "    <tr style=\"text-align: right;\">\n",
       "      <th></th>\n",
       "      <th>FY_TOTAL_COST</th>\n",
       "    </tr>\n",
       "  </thead>\n",
       "  <tbody>\n",
       "    <tr>\n",
       "      <th>count</th>\n",
       "      <td>5.226000e+03</td>\n",
       "    </tr>\n",
       "    <tr>\n",
       "      <th>mean</th>\n",
       "      <td>3.745350e+05</td>\n",
       "    </tr>\n",
       "    <tr>\n",
       "      <th>std</th>\n",
       "      <td>2.164032e+06</td>\n",
       "    </tr>\n",
       "    <tr>\n",
       "      <th>min</th>\n",
       "      <td>1.000000e+00</td>\n",
       "    </tr>\n",
       "    <tr>\n",
       "      <th>25%</th>\n",
       "      <td>1.146040e+05</td>\n",
       "    </tr>\n",
       "    <tr>\n",
       "      <th>50%</th>\n",
       "      <td>2.348805e+05</td>\n",
       "    </tr>\n",
       "    <tr>\n",
       "      <th>75%</th>\n",
       "      <td>3.860150e+05</td>\n",
       "    </tr>\n",
       "    <tr>\n",
       "      <th>max</th>\n",
       "      <td>1.460000e+08</td>\n",
       "    </tr>\n",
       "  </tbody>\n",
       "</table>\n",
       "</div>"
      ],
      "text/plain": [
       "       FY_TOTAL_COST\n",
       "count   5.226000e+03\n",
       "mean    3.745350e+05\n",
       "std     2.164032e+06\n",
       "min     1.000000e+00\n",
       "25%     1.146040e+05\n",
       "50%     2.348805e+05\n",
       "75%     3.860150e+05\n",
       "max     1.460000e+08"
      ]
     },
     "execution_count": 22,
     "metadata": {},
     "output_type": "execute_result"
    }
   ],
   "source": [
    "solar[['FY_TOTAL_COST']].describe()"
   ]
  },
  {
   "cell_type": "markdown",
   "metadata": {},
   "source": [
    "# wind"
   ]
  },
  {
   "cell_type": "code",
   "execution_count": 23,
   "metadata": {},
   "outputs": [
    {
     "data": {
      "text/html": [
       "<div>\n",
       "<style scoped>\n",
       "    .dataframe tbody tr th:only-of-type {\n",
       "        vertical-align: middle;\n",
       "    }\n",
       "\n",
       "    .dataframe tbody tr th {\n",
       "        vertical-align: top;\n",
       "    }\n",
       "\n",
       "    .dataframe thead th {\n",
       "        text-align: right;\n",
       "    }\n",
       "</style>\n",
       "<table border=\"1\" class=\"dataframe\">\n",
       "  <thead>\n",
       "    <tr style=\"text-align: right;\">\n",
       "      <th></th>\n",
       "      <th>CONTACT_PI_PROJECT_LEADER</th>\n",
       "      <th>DEPARTMENT</th>\n",
       "      <th>AGENCY</th>\n",
       "      <th>ORGANIZATION_CITY</th>\n",
       "      <th>ORGANIZATION_STATE</th>\n",
       "      <th>ORGANIZATION_COUNTRY</th>\n",
       "    </tr>\n",
       "  </thead>\n",
       "  <tbody>\n",
       "    <tr>\n",
       "      <th>count</th>\n",
       "      <td>429</td>\n",
       "      <td>429</td>\n",
       "      <td>429</td>\n",
       "      <td>421</td>\n",
       "      <td>421</td>\n",
       "      <td>421</td>\n",
       "    </tr>\n",
       "    <tr>\n",
       "      <th>unique</th>\n",
       "      <td>341</td>\n",
       "      <td>5</td>\n",
       "      <td>5</td>\n",
       "      <td>157</td>\n",
       "      <td>45</td>\n",
       "      <td>1</td>\n",
       "    </tr>\n",
       "    <tr>\n",
       "      <th>top</th>\n",
       "      <td>MENEVEAU, CHARLES V</td>\n",
       "      <td>NSF</td>\n",
       "      <td>NSF</td>\n",
       "      <td>BLACKSBURG</td>\n",
       "      <td>TX</td>\n",
       "      <td>UNITED STATES</td>\n",
       "    </tr>\n",
       "    <tr>\n",
       "      <th>freq</th>\n",
       "      <td>5</td>\n",
       "      <td>385</td>\n",
       "      <td>385</td>\n",
       "      <td>12</td>\n",
       "      <td>55</td>\n",
       "      <td>421</td>\n",
       "    </tr>\n",
       "  </tbody>\n",
       "</table>\n",
       "</div>"
      ],
      "text/plain": [
       "       CONTACT_PI_PROJECT_LEADER DEPARTMENT AGENCY ORGANIZATION_CITY  \\\n",
       "count                        429        429    429               421   \n",
       "unique                       341          5      5               157   \n",
       "top          MENEVEAU, CHARLES V        NSF    NSF        BLACKSBURG   \n",
       "freq                           5        385    385                12   \n",
       "\n",
       "       ORGANIZATION_STATE ORGANIZATION_COUNTRY  \n",
       "count                 421                  421  \n",
       "unique                 45                    1  \n",
       "top                    TX        UNITED STATES  \n",
       "freq                   55                  421  "
      ]
     },
     "execution_count": 23,
     "metadata": {},
     "output_type": "execute_result"
    }
   ],
   "source": [
    "wind[['CONTACT_PI_PROJECT_LEADER','DEPARTMENT',\\\n",
    "       'AGENCY','ORGANIZATION_CITY','ORGANIZATION_STATE','ORGANIZATION_COUNTRY']].describe()"
   ]
  },
  {
   "cell_type": "code",
   "execution_count": 24,
   "metadata": {},
   "outputs": [
    {
     "data": {
      "text/html": [
       "<div>\n",
       "<style scoped>\n",
       "    .dataframe tbody tr th:only-of-type {\n",
       "        vertical-align: middle;\n",
       "    }\n",
       "\n",
       "    .dataframe tbody tr th {\n",
       "        vertical-align: top;\n",
       "    }\n",
       "\n",
       "    .dataframe thead th {\n",
       "        text-align: right;\n",
       "    }\n",
       "</style>\n",
       "<table border=\"1\" class=\"dataframe\">\n",
       "  <thead>\n",
       "    <tr style=\"text-align: right;\">\n",
       "      <th></th>\n",
       "      <th>FY_TOTAL_COST</th>\n",
       "    </tr>\n",
       "  </thead>\n",
       "  <tbody>\n",
       "    <tr>\n",
       "      <th>count</th>\n",
       "      <td>4.120000e+02</td>\n",
       "    </tr>\n",
       "    <tr>\n",
       "      <th>mean</th>\n",
       "      <td>2.970710e+05</td>\n",
       "    </tr>\n",
       "    <tr>\n",
       "      <th>std</th>\n",
       "      <td>2.934846e+05</td>\n",
       "    </tr>\n",
       "    <tr>\n",
       "      <th>min</th>\n",
       "      <td>5.044000e+03</td>\n",
       "    </tr>\n",
       "    <tr>\n",
       "      <th>25%</th>\n",
       "      <td>1.417478e+05</td>\n",
       "    </tr>\n",
       "    <tr>\n",
       "      <th>50%</th>\n",
       "      <td>2.450710e+05</td>\n",
       "    </tr>\n",
       "    <tr>\n",
       "      <th>75%</th>\n",
       "      <td>3.581695e+05</td>\n",
       "    </tr>\n",
       "    <tr>\n",
       "      <th>max</th>\n",
       "      <td>2.446349e+06</td>\n",
       "    </tr>\n",
       "  </tbody>\n",
       "</table>\n",
       "</div>"
      ],
      "text/plain": [
       "       FY_TOTAL_COST\n",
       "count   4.120000e+02\n",
       "mean    2.970710e+05\n",
       "std     2.934846e+05\n",
       "min     5.044000e+03\n",
       "25%     1.417478e+05\n",
       "50%     2.450710e+05\n",
       "75%     3.581695e+05\n",
       "max     2.446349e+06"
      ]
     },
     "execution_count": 24,
     "metadata": {},
     "output_type": "execute_result"
    }
   ],
   "source": [
    "wind[['FY_TOTAL_COST']].describe()"
   ]
  },
  {
   "cell_type": "code",
   "execution_count": null,
   "metadata": {},
   "outputs": [],
   "source": []
  },
  {
   "cell_type": "markdown",
   "metadata": {},
   "source": [
    "# biomass"
   ]
  },
  {
   "cell_type": "code",
   "execution_count": 25,
   "metadata": {},
   "outputs": [
    {
     "data": {
      "text/html": [
       "<div>\n",
       "<style scoped>\n",
       "    .dataframe tbody tr th:only-of-type {\n",
       "        vertical-align: middle;\n",
       "    }\n",
       "\n",
       "    .dataframe tbody tr th {\n",
       "        vertical-align: top;\n",
       "    }\n",
       "\n",
       "    .dataframe thead th {\n",
       "        text-align: right;\n",
       "    }\n",
       "</style>\n",
       "<table border=\"1\" class=\"dataframe\">\n",
       "  <thead>\n",
       "    <tr style=\"text-align: right;\">\n",
       "      <th></th>\n",
       "      <th>CONTACT_PI_PROJECT_LEADER</th>\n",
       "      <th>DEPARTMENT</th>\n",
       "      <th>AGENCY</th>\n",
       "      <th>ORGANIZATION_CITY</th>\n",
       "      <th>ORGANIZATION_STATE</th>\n",
       "      <th>ORGANIZATION_COUNTRY</th>\n",
       "    </tr>\n",
       "  </thead>\n",
       "  <tbody>\n",
       "    <tr>\n",
       "      <th>count</th>\n",
       "      <td>4236</td>\n",
       "      <td>4236</td>\n",
       "      <td>4236</td>\n",
       "      <td>4168</td>\n",
       "      <td>4151</td>\n",
       "      <td>4171</td>\n",
       "    </tr>\n",
       "    <tr>\n",
       "      <th>unique</th>\n",
       "      <td>3233</td>\n",
       "      <td>6</td>\n",
       "      <td>8</td>\n",
       "      <td>449</td>\n",
       "      <td>54</td>\n",
       "      <td>9</td>\n",
       "    </tr>\n",
       "    <tr>\n",
       "      <th>top</th>\n",
       "      <td>WARD, TONY JOHN</td>\n",
       "      <td>NSF</td>\n",
       "      <td>NSF</td>\n",
       "      <td>MADISON</td>\n",
       "      <td>CA</td>\n",
       "      <td>UNITED STATES</td>\n",
       "    </tr>\n",
       "    <tr>\n",
       "      <th>freq</th>\n",
       "      <td>10</td>\n",
       "      <td>1932</td>\n",
       "      <td>1932</td>\n",
       "      <td>145</td>\n",
       "      <td>381</td>\n",
       "      <td>4151</td>\n",
       "    </tr>\n",
       "  </tbody>\n",
       "</table>\n",
       "</div>"
      ],
      "text/plain": [
       "       CONTACT_PI_PROJECT_LEADER DEPARTMENT AGENCY ORGANIZATION_CITY  \\\n",
       "count                       4236       4236   4236              4168   \n",
       "unique                      3233          6      8               449   \n",
       "top              WARD, TONY JOHN        NSF    NSF           MADISON   \n",
       "freq                          10       1932   1932               145   \n",
       "\n",
       "       ORGANIZATION_STATE ORGANIZATION_COUNTRY  \n",
       "count                4151                 4171  \n",
       "unique                 54                    9  \n",
       "top                    CA        UNITED STATES  \n",
       "freq                  381                 4151  "
      ]
     },
     "execution_count": 25,
     "metadata": {},
     "output_type": "execute_result"
    }
   ],
   "source": [
    "bio[['CONTACT_PI_PROJECT_LEADER','DEPARTMENT',\\\n",
    "       'AGENCY','ORGANIZATION_CITY','ORGANIZATION_STATE','ORGANIZATION_COUNTRY']].describe()"
   ]
  },
  {
   "cell_type": "code",
   "execution_count": 26,
   "metadata": {},
   "outputs": [
    {
     "data": {
      "text/html": [
       "<div>\n",
       "<style scoped>\n",
       "    .dataframe tbody tr th:only-of-type {\n",
       "        vertical-align: middle;\n",
       "    }\n",
       "\n",
       "    .dataframe tbody tr th {\n",
       "        vertical-align: top;\n",
       "    }\n",
       "\n",
       "    .dataframe thead th {\n",
       "        text-align: right;\n",
       "    }\n",
       "</style>\n",
       "<table border=\"1\" class=\"dataframe\">\n",
       "  <thead>\n",
       "    <tr style=\"text-align: right;\">\n",
       "      <th></th>\n",
       "      <th>FY_TOTAL_COST</th>\n",
       "    </tr>\n",
       "  </thead>\n",
       "  <tbody>\n",
       "    <tr>\n",
       "      <th>count</th>\n",
       "      <td>3.107000e+03</td>\n",
       "    </tr>\n",
       "    <tr>\n",
       "      <th>mean</th>\n",
       "      <td>5.024806e+05</td>\n",
       "    </tr>\n",
       "    <tr>\n",
       "      <th>std</th>\n",
       "      <td>1.059810e+06</td>\n",
       "    </tr>\n",
       "    <tr>\n",
       "      <th>min</th>\n",
       "      <td>1.000000e+00</td>\n",
       "    </tr>\n",
       "    <tr>\n",
       "      <th>25%</th>\n",
       "      <td>1.371160e+05</td>\n",
       "    </tr>\n",
       "    <tr>\n",
       "      <th>50%</th>\n",
       "      <td>2.997750e+05</td>\n",
       "    </tr>\n",
       "    <tr>\n",
       "      <th>75%</th>\n",
       "      <td>4.994515e+05</td>\n",
       "    </tr>\n",
       "    <tr>\n",
       "      <th>max</th>\n",
       "      <td>2.360000e+07</td>\n",
       "    </tr>\n",
       "  </tbody>\n",
       "</table>\n",
       "</div>"
      ],
      "text/plain": [
       "       FY_TOTAL_COST\n",
       "count   3.107000e+03\n",
       "mean    5.024806e+05\n",
       "std     1.059810e+06\n",
       "min     1.000000e+00\n",
       "25%     1.371160e+05\n",
       "50%     2.997750e+05\n",
       "75%     4.994515e+05\n",
       "max     2.360000e+07"
      ]
     },
     "execution_count": 26,
     "metadata": {},
     "output_type": "execute_result"
    }
   ],
   "source": [
    "bio[['FY_TOTAL_COST']].describe()"
   ]
  },
  {
   "cell_type": "markdown",
   "metadata": {},
   "source": [
    "# geothermal"
   ]
  },
  {
   "cell_type": "code",
   "execution_count": 27,
   "metadata": {},
   "outputs": [
    {
     "data": {
      "text/html": [
       "<div>\n",
       "<style scoped>\n",
       "    .dataframe tbody tr th:only-of-type {\n",
       "        vertical-align: middle;\n",
       "    }\n",
       "\n",
       "    .dataframe tbody tr th {\n",
       "        vertical-align: top;\n",
       "    }\n",
       "\n",
       "    .dataframe thead th {\n",
       "        text-align: right;\n",
       "    }\n",
       "</style>\n",
       "<table border=\"1\" class=\"dataframe\">\n",
       "  <thead>\n",
       "    <tr style=\"text-align: right;\">\n",
       "      <th></th>\n",
       "      <th>CONTACT_PI_PROJECT_LEADER</th>\n",
       "      <th>DEPARTMENT</th>\n",
       "      <th>AGENCY</th>\n",
       "      <th>ORGANIZATION_CITY</th>\n",
       "      <th>ORGANIZATION_STATE</th>\n",
       "      <th>ORGANIZATION_COUNTRY</th>\n",
       "    </tr>\n",
       "  </thead>\n",
       "  <tbody>\n",
       "    <tr>\n",
       "      <th>count</th>\n",
       "      <td>335</td>\n",
       "      <td>335</td>\n",
       "      <td>335</td>\n",
       "      <td>329</td>\n",
       "      <td>327</td>\n",
       "      <td>331</td>\n",
       "    </tr>\n",
       "    <tr>\n",
       "      <th>unique</th>\n",
       "      <td>276</td>\n",
       "      <td>5</td>\n",
       "      <td>5</td>\n",
       "      <td>135</td>\n",
       "      <td>46</td>\n",
       "      <td>3</td>\n",
       "    </tr>\n",
       "    <tr>\n",
       "      <th>top</th>\n",
       "      <td>KERANEN, KATHLEEN M</td>\n",
       "      <td>NSF</td>\n",
       "      <td>NSF</td>\n",
       "      <td>CORVALLIS</td>\n",
       "      <td>CA</td>\n",
       "      <td>UNITED STATES</td>\n",
       "    </tr>\n",
       "    <tr>\n",
       "      <th>freq</th>\n",
       "      <td>4</td>\n",
       "      <td>307</td>\n",
       "      <td>307</td>\n",
       "      <td>12</td>\n",
       "      <td>51</td>\n",
       "      <td>327</td>\n",
       "    </tr>\n",
       "  </tbody>\n",
       "</table>\n",
       "</div>"
      ],
      "text/plain": [
       "       CONTACT_PI_PROJECT_LEADER DEPARTMENT AGENCY ORGANIZATION_CITY  \\\n",
       "count                        335        335    335               329   \n",
       "unique                       276          5      5               135   \n",
       "top          KERANEN, KATHLEEN M        NSF    NSF         CORVALLIS   \n",
       "freq                           4        307    307                12   \n",
       "\n",
       "       ORGANIZATION_STATE ORGANIZATION_COUNTRY  \n",
       "count                 327                  331  \n",
       "unique                 46                    3  \n",
       "top                    CA        UNITED STATES  \n",
       "freq                   51                  327  "
      ]
     },
     "execution_count": 27,
     "metadata": {},
     "output_type": "execute_result"
    }
   ],
   "source": [
    "geo[['CONTACT_PI_PROJECT_LEADER','DEPARTMENT',\\\n",
    "       'AGENCY','ORGANIZATION_CITY','ORGANIZATION_STATE','ORGANIZATION_COUNTRY']].describe()"
   ]
  },
  {
   "cell_type": "code",
   "execution_count": 28,
   "metadata": {},
   "outputs": [
    {
     "data": {
      "text/html": [
       "<div>\n",
       "<style scoped>\n",
       "    .dataframe tbody tr th:only-of-type {\n",
       "        vertical-align: middle;\n",
       "    }\n",
       "\n",
       "    .dataframe tbody tr th {\n",
       "        vertical-align: top;\n",
       "    }\n",
       "\n",
       "    .dataframe thead th {\n",
       "        text-align: right;\n",
       "    }\n",
       "</style>\n",
       "<table border=\"1\" class=\"dataframe\">\n",
       "  <thead>\n",
       "    <tr style=\"text-align: right;\">\n",
       "      <th></th>\n",
       "      <th>FY_TOTAL_COST</th>\n",
       "    </tr>\n",
       "  </thead>\n",
       "  <tbody>\n",
       "    <tr>\n",
       "      <th>count</th>\n",
       "      <td>3.200000e+02</td>\n",
       "    </tr>\n",
       "    <tr>\n",
       "      <th>mean</th>\n",
       "      <td>2.547991e+05</td>\n",
       "    </tr>\n",
       "    <tr>\n",
       "      <th>std</th>\n",
       "      <td>3.754569e+05</td>\n",
       "    </tr>\n",
       "    <tr>\n",
       "      <th>min</th>\n",
       "      <td>4.000000e+02</td>\n",
       "    </tr>\n",
       "    <tr>\n",
       "      <th>25%</th>\n",
       "      <td>6.804650e+04</td>\n",
       "    </tr>\n",
       "    <tr>\n",
       "      <th>50%</th>\n",
       "      <td>1.607930e+05</td>\n",
       "    </tr>\n",
       "    <tr>\n",
       "      <th>75%</th>\n",
       "      <td>3.008998e+05</td>\n",
       "    </tr>\n",
       "    <tr>\n",
       "      <th>max</th>\n",
       "      <td>4.000000e+06</td>\n",
       "    </tr>\n",
       "  </tbody>\n",
       "</table>\n",
       "</div>"
      ],
      "text/plain": [
       "       FY_TOTAL_COST\n",
       "count   3.200000e+02\n",
       "mean    2.547991e+05\n",
       "std     3.754569e+05\n",
       "min     4.000000e+02\n",
       "25%     6.804650e+04\n",
       "50%     1.607930e+05\n",
       "75%     3.008998e+05\n",
       "max     4.000000e+06"
      ]
     },
     "execution_count": 28,
     "metadata": {},
     "output_type": "execute_result"
    }
   ],
   "source": [
    "geo[['FY_TOTAL_COST']].describe()"
   ]
  },
  {
   "cell_type": "markdown",
   "metadata": {},
   "source": [
    "# Patent statistic summary"
   ]
  },
  {
   "cell_type": "code",
   "execution_count": 29,
   "metadata": {},
   "outputs": [],
   "source": [
    "test2=patents_2010_2018.dropna(subset=['patent_abstract'])"
   ]
  },
  {
   "cell_type": "code",
   "execution_count": 30,
   "metadata": {},
   "outputs": [
    {
     "data": {
      "text/plain": [
       "6048"
      ]
     },
     "execution_count": 30,
     "metadata": {},
     "output_type": "execute_result"
    }
   ],
   "source": [
    "REP = test2[test2['patent_abstract'].str.contains('solar | wind power | wind turbine | biomass | biofuel | geothermal')]\n",
    "len(REP)"
   ]
  },
  {
   "cell_type": "code",
   "execution_count": 31,
   "metadata": {},
   "outputs": [
    {
     "data": {
      "text/html": [
       "<div>\n",
       "<style scoped>\n",
       "    .dataframe tbody tr th:only-of-type {\n",
       "        vertical-align: middle;\n",
       "    }\n",
       "\n",
       "    .dataframe tbody tr th {\n",
       "        vertical-align: top;\n",
       "    }\n",
       "\n",
       "    .dataframe thead th {\n",
       "        text-align: right;\n",
       "    }\n",
       "</style>\n",
       "<table border=\"1\" class=\"dataframe\">\n",
       "  <thead>\n",
       "    <tr style=\"text-align: right;\">\n",
       "      <th></th>\n",
       "      <th>patent_firstnamed_assignee_organization</th>\n",
       "      <th>patent_firstnamed_inventor_city</th>\n",
       "      <th>patent_firstnamed_inventor_state</th>\n",
       "    </tr>\n",
       "  </thead>\n",
       "  <tbody>\n",
       "    <tr>\n",
       "      <th>count</th>\n",
       "      <td>5928</td>\n",
       "      <td>6047</td>\n",
       "      <td>6048</td>\n",
       "    </tr>\n",
       "    <tr>\n",
       "      <th>unique</th>\n",
       "      <td>1574</td>\n",
       "      <td>1359</td>\n",
       "      <td>51</td>\n",
       "    </tr>\n",
       "    <tr>\n",
       "      <th>top</th>\n",
       "      <td>General Electric Company</td>\n",
       "      <td>San Jose</td>\n",
       "      <td>CA</td>\n",
       "    </tr>\n",
       "    <tr>\n",
       "      <th>freq</th>\n",
       "      <td>403</td>\n",
       "      <td>164</td>\n",
       "      <td>1968</td>\n",
       "    </tr>\n",
       "  </tbody>\n",
       "</table>\n",
       "</div>"
      ],
      "text/plain": [
       "       patent_firstnamed_assignee_organization  \\\n",
       "count                                     5928   \n",
       "unique                                    1574   \n",
       "top                   General Electric Company   \n",
       "freq                                       403   \n",
       "\n",
       "       patent_firstnamed_inventor_city patent_firstnamed_inventor_state  \n",
       "count                             6047                             6048  \n",
       "unique                            1359                               51  \n",
       "top                           San Jose                               CA  \n",
       "freq                               164                             1968  "
      ]
     },
     "execution_count": 31,
     "metadata": {},
     "output_type": "execute_result"
    }
   ],
   "source": [
    "REP[['patent_firstnamed_assignee_organization','patent_firstnamed_inventor_city',\"patent_firstnamed_inventor_state\"]].describe()"
   ]
  },
  {
   "cell_type": "markdown",
   "metadata": {},
   "source": [
    "# Text selecting of renewable energy"
   ]
  },
  {
   "cell_type": "code",
   "execution_count": 32,
   "metadata": {},
   "outputs": [],
   "source": [
    "geop = test2[test2['patent_abstract'].str.contains('geothermal')]\n",
    "biop = test2[test2['patent_abstract'].str.contains('biomass | biofuel')]\n",
    "windp = test2[test2['patent_abstract'].str.contains('wind power | wind turbine')]\n",
    "solarp = test2[test2['patent_abstract'].str.contains('solar')]"
   ]
  },
  {
   "cell_type": "code",
   "execution_count": 33,
   "metadata": {},
   "outputs": [
    {
     "data": {
      "text/plain": [
       "Index(['patent_number', 'patent_title', 'patent_abstract',\n",
       "       'patent_num_cited_by_us_patents', 'patent_date', 'app_date',\n",
       "       'patent_firstnamed_inventor_name_first',\n",
       "       'patent_firstnamed_inventor_name_last',\n",
       "       'patent_firstnamed_inventor_city', 'patent_firstnamed_inventor_state',\n",
       "       'patent_firstnamed_inventor_latitude',\n",
       "       'patent_firstnamed_inventor_longitude',\n",
       "       'patent_firstnamed_assignee_organization',\n",
       "       'patent_firstnamed_assignee_city', 'patent_firstnamed_assignee_state',\n",
       "       'patent_firstnamed_assignee_latitude',\n",
       "       'patent_firstnamed_assignee_longitude'],\n",
       "      dtype='object')"
      ]
     },
     "execution_count": 33,
     "metadata": {},
     "output_type": "execute_result"
    }
   ],
   "source": [
    "geop.columns"
   ]
  },
  {
   "cell_type": "code",
   "execution_count": 34,
   "metadata": {},
   "outputs": [
    {
     "data": {
      "text/plain": [
       "6450"
      ]
     },
     "execution_count": 34,
     "metadata": {},
     "output_type": "execute_result"
    }
   ],
   "source": [
    "len(geop)+ len(solarp)+ len(biop)+ len(windp)"
   ]
  },
  {
   "cell_type": "markdown",
   "metadata": {},
   "source": [
    "# geothermal"
   ]
  },
  {
   "cell_type": "code",
   "execution_count": 35,
   "metadata": {},
   "outputs": [
    {
     "data": {
      "text/html": [
       "<div>\n",
       "<style scoped>\n",
       "    .dataframe tbody tr th:only-of-type {\n",
       "        vertical-align: middle;\n",
       "    }\n",
       "\n",
       "    .dataframe tbody tr th {\n",
       "        vertical-align: top;\n",
       "    }\n",
       "\n",
       "    .dataframe thead th {\n",
       "        text-align: right;\n",
       "    }\n",
       "</style>\n",
       "<table border=\"1\" class=\"dataframe\">\n",
       "  <thead>\n",
       "    <tr style=\"text-align: right;\">\n",
       "      <th></th>\n",
       "      <th>patent_firstnamed_inventor_state</th>\n",
       "      <th>patent_firstnamed_inventor_city</th>\n",
       "      <th>patent_firstnamed_assignee_organization</th>\n",
       "    </tr>\n",
       "  </thead>\n",
       "  <tbody>\n",
       "    <tr>\n",
       "      <th>count</th>\n",
       "      <td>156</td>\n",
       "      <td>156</td>\n",
       "      <td>149</td>\n",
       "    </tr>\n",
       "    <tr>\n",
       "      <th>unique</th>\n",
       "      <td>31</td>\n",
       "      <td>85</td>\n",
       "      <td>88</td>\n",
       "    </tr>\n",
       "    <tr>\n",
       "      <th>top</th>\n",
       "      <td>TX</td>\n",
       "      <td>Benicia</td>\n",
       "      <td>Simbol, Inc.</td>\n",
       "    </tr>\n",
       "    <tr>\n",
       "      <th>freq</th>\n",
       "      <td>33</td>\n",
       "      <td>14</td>\n",
       "      <td>11</td>\n",
       "    </tr>\n",
       "  </tbody>\n",
       "</table>\n",
       "</div>"
      ],
      "text/plain": [
       "       patent_firstnamed_inventor_state patent_firstnamed_inventor_city  \\\n",
       "count                               156                             156   \n",
       "unique                               31                              85   \n",
       "top                                  TX                         Benicia   \n",
       "freq                                 33                              14   \n",
       "\n",
       "       patent_firstnamed_assignee_organization  \n",
       "count                                      149  \n",
       "unique                                      88  \n",
       "top                               Simbol, Inc.  \n",
       "freq                                        11  "
      ]
     },
     "execution_count": 35,
     "metadata": {},
     "output_type": "execute_result"
    }
   ],
   "source": [
    "geop[['patent_firstnamed_inventor_state','patent_firstnamed_inventor_city',\\\n",
    "      'patent_firstnamed_assignee_organization']].describe()"
   ]
  },
  {
   "cell_type": "code",
   "execution_count": 36,
   "metadata": {},
   "outputs": [
    {
     "data": {
      "text/html": [
       "<div>\n",
       "<style scoped>\n",
       "    .dataframe tbody tr th:only-of-type {\n",
       "        vertical-align: middle;\n",
       "    }\n",
       "\n",
       "    .dataframe tbody tr th {\n",
       "        vertical-align: top;\n",
       "    }\n",
       "\n",
       "    .dataframe thead th {\n",
       "        text-align: right;\n",
       "    }\n",
       "</style>\n",
       "<table border=\"1\" class=\"dataframe\">\n",
       "  <thead>\n",
       "    <tr style=\"text-align: right;\">\n",
       "      <th></th>\n",
       "      <th>patent_num_cited_by_us_patents</th>\n",
       "    </tr>\n",
       "  </thead>\n",
       "  <tbody>\n",
       "    <tr>\n",
       "      <th>count</th>\n",
       "      <td>156.000000</td>\n",
       "    </tr>\n",
       "    <tr>\n",
       "      <th>mean</th>\n",
       "      <td>3.230769</td>\n",
       "    </tr>\n",
       "    <tr>\n",
       "      <th>std</th>\n",
       "      <td>9.498282</td>\n",
       "    </tr>\n",
       "    <tr>\n",
       "      <th>min</th>\n",
       "      <td>0.000000</td>\n",
       "    </tr>\n",
       "    <tr>\n",
       "      <th>25%</th>\n",
       "      <td>0.000000</td>\n",
       "    </tr>\n",
       "    <tr>\n",
       "      <th>50%</th>\n",
       "      <td>1.000000</td>\n",
       "    </tr>\n",
       "    <tr>\n",
       "      <th>75%</th>\n",
       "      <td>3.000000</td>\n",
       "    </tr>\n",
       "    <tr>\n",
       "      <th>max</th>\n",
       "      <td>107.000000</td>\n",
       "    </tr>\n",
       "  </tbody>\n",
       "</table>\n",
       "</div>"
      ],
      "text/plain": [
       "       patent_num_cited_by_us_patents\n",
       "count                      156.000000\n",
       "mean                         3.230769\n",
       "std                          9.498282\n",
       "min                          0.000000\n",
       "25%                          0.000000\n",
       "50%                          1.000000\n",
       "75%                          3.000000\n",
       "max                        107.000000"
      ]
     },
     "execution_count": 36,
     "metadata": {},
     "output_type": "execute_result"
    }
   ],
   "source": [
    "geop[['patent_num_cited_by_us_patents']].describe()"
   ]
  },
  {
   "cell_type": "markdown",
   "metadata": {},
   "source": [
    "# biomass"
   ]
  },
  {
   "cell_type": "code",
   "execution_count": 37,
   "metadata": {},
   "outputs": [
    {
     "data": {
      "text/html": [
       "<div>\n",
       "<style scoped>\n",
       "    .dataframe tbody tr th:only-of-type {\n",
       "        vertical-align: middle;\n",
       "    }\n",
       "\n",
       "    .dataframe tbody tr th {\n",
       "        vertical-align: top;\n",
       "    }\n",
       "\n",
       "    .dataframe thead th {\n",
       "        text-align: right;\n",
       "    }\n",
       "</style>\n",
       "<table border=\"1\" class=\"dataframe\">\n",
       "  <thead>\n",
       "    <tr style=\"text-align: right;\">\n",
       "      <th></th>\n",
       "      <th>patent_firstnamed_inventor_state</th>\n",
       "      <th>patent_firstnamed_inventor_city</th>\n",
       "      <th>patent_firstnamed_assignee_organization</th>\n",
       "    </tr>\n",
       "  </thead>\n",
       "  <tbody>\n",
       "    <tr>\n",
       "      <th>count</th>\n",
       "      <td>1551</td>\n",
       "      <td>1551</td>\n",
       "      <td>1539</td>\n",
       "    </tr>\n",
       "    <tr>\n",
       "      <th>unique</th>\n",
       "      <td>49</td>\n",
       "      <td>500</td>\n",
       "      <td>457</td>\n",
       "    </tr>\n",
       "    <tr>\n",
       "      <th>top</th>\n",
       "      <td>CA</td>\n",
       "      <td>Houston</td>\n",
       "      <td>Shell Oil Company</td>\n",
       "    </tr>\n",
       "    <tr>\n",
       "      <th>freq</th>\n",
       "      <td>271</td>\n",
       "      <td>85</td>\n",
       "      <td>77</td>\n",
       "    </tr>\n",
       "  </tbody>\n",
       "</table>\n",
       "</div>"
      ],
      "text/plain": [
       "       patent_firstnamed_inventor_state patent_firstnamed_inventor_city  \\\n",
       "count                              1551                            1551   \n",
       "unique                               49                             500   \n",
       "top                                  CA                         Houston   \n",
       "freq                                271                              85   \n",
       "\n",
       "       patent_firstnamed_assignee_organization  \n",
       "count                                     1539  \n",
       "unique                                     457  \n",
       "top                          Shell Oil Company  \n",
       "freq                                        77  "
      ]
     },
     "execution_count": 37,
     "metadata": {},
     "output_type": "execute_result"
    }
   ],
   "source": [
    "biop[['patent_firstnamed_inventor_state','patent_firstnamed_inventor_city',\\\n",
    "      'patent_firstnamed_assignee_organization']].describe()"
   ]
  },
  {
   "cell_type": "code",
   "execution_count": 38,
   "metadata": {},
   "outputs": [
    {
     "data": {
      "text/html": [
       "<div>\n",
       "<style scoped>\n",
       "    .dataframe tbody tr th:only-of-type {\n",
       "        vertical-align: middle;\n",
       "    }\n",
       "\n",
       "    .dataframe tbody tr th {\n",
       "        vertical-align: top;\n",
       "    }\n",
       "\n",
       "    .dataframe thead th {\n",
       "        text-align: right;\n",
       "    }\n",
       "</style>\n",
       "<table border=\"1\" class=\"dataframe\">\n",
       "  <thead>\n",
       "    <tr style=\"text-align: right;\">\n",
       "      <th></th>\n",
       "      <th>patent_num_cited_by_us_patents</th>\n",
       "    </tr>\n",
       "  </thead>\n",
       "  <tbody>\n",
       "    <tr>\n",
       "      <th>count</th>\n",
       "      <td>1551.000000</td>\n",
       "    </tr>\n",
       "    <tr>\n",
       "      <th>mean</th>\n",
       "      <td>3.755642</td>\n",
       "    </tr>\n",
       "    <tr>\n",
       "      <th>std</th>\n",
       "      <td>9.773710</td>\n",
       "    </tr>\n",
       "    <tr>\n",
       "      <th>min</th>\n",
       "      <td>0.000000</td>\n",
       "    </tr>\n",
       "    <tr>\n",
       "      <th>25%</th>\n",
       "      <td>0.000000</td>\n",
       "    </tr>\n",
       "    <tr>\n",
       "      <th>50%</th>\n",
       "      <td>0.000000</td>\n",
       "    </tr>\n",
       "    <tr>\n",
       "      <th>75%</th>\n",
       "      <td>3.000000</td>\n",
       "    </tr>\n",
       "    <tr>\n",
       "      <th>max</th>\n",
       "      <td>149.000000</td>\n",
       "    </tr>\n",
       "  </tbody>\n",
       "</table>\n",
       "</div>"
      ],
      "text/plain": [
       "       patent_num_cited_by_us_patents\n",
       "count                     1551.000000\n",
       "mean                         3.755642\n",
       "std                          9.773710\n",
       "min                          0.000000\n",
       "25%                          0.000000\n",
       "50%                          0.000000\n",
       "75%                          3.000000\n",
       "max                        149.000000"
      ]
     },
     "execution_count": 38,
     "metadata": {},
     "output_type": "execute_result"
    }
   ],
   "source": [
    "biop[['patent_num_cited_by_us_patents']].describe()"
   ]
  },
  {
   "cell_type": "markdown",
   "metadata": {},
   "source": [
    "# wind"
   ]
  },
  {
   "cell_type": "code",
   "execution_count": 39,
   "metadata": {},
   "outputs": [
    {
     "data": {
      "text/html": [
       "<div>\n",
       "<style scoped>\n",
       "    .dataframe tbody tr th:only-of-type {\n",
       "        vertical-align: middle;\n",
       "    }\n",
       "\n",
       "    .dataframe tbody tr th {\n",
       "        vertical-align: top;\n",
       "    }\n",
       "\n",
       "    .dataframe thead th {\n",
       "        text-align: right;\n",
       "    }\n",
       "</style>\n",
       "<table border=\"1\" class=\"dataframe\">\n",
       "  <thead>\n",
       "    <tr style=\"text-align: right;\">\n",
       "      <th></th>\n",
       "      <th>patent_firstnamed_inventor_state</th>\n",
       "      <th>patent_firstnamed_inventor_city</th>\n",
       "      <th>patent_firstnamed_assignee_organization</th>\n",
       "    </tr>\n",
       "  </thead>\n",
       "  <tbody>\n",
       "    <tr>\n",
       "      <th>count</th>\n",
       "      <td>890</td>\n",
       "      <td>889</td>\n",
       "      <td>864</td>\n",
       "    </tr>\n",
       "    <tr>\n",
       "      <th>unique</th>\n",
       "      <td>45</td>\n",
       "      <td>305</td>\n",
       "      <td>248</td>\n",
       "    </tr>\n",
       "    <tr>\n",
       "      <th>top</th>\n",
       "      <td>SC</td>\n",
       "      <td>Greenville</td>\n",
       "      <td>General Electric Company</td>\n",
       "    </tr>\n",
       "    <tr>\n",
       "      <th>freq</th>\n",
       "      <td>228</td>\n",
       "      <td>85</td>\n",
       "      <td>406</td>\n",
       "    </tr>\n",
       "  </tbody>\n",
       "</table>\n",
       "</div>"
      ],
      "text/plain": [
       "       patent_firstnamed_inventor_state patent_firstnamed_inventor_city  \\\n",
       "count                               890                             889   \n",
       "unique                               45                             305   \n",
       "top                                  SC                      Greenville   \n",
       "freq                                228                              85   \n",
       "\n",
       "       patent_firstnamed_assignee_organization  \n",
       "count                                      864  \n",
       "unique                                     248  \n",
       "top                   General Electric Company  \n",
       "freq                                       406  "
      ]
     },
     "execution_count": 39,
     "metadata": {},
     "output_type": "execute_result"
    }
   ],
   "source": [
    "windp[['patent_firstnamed_inventor_state','patent_firstnamed_inventor_city',\\\n",
    "      'patent_firstnamed_assignee_organization']].describe()"
   ]
  },
  {
   "cell_type": "code",
   "execution_count": 40,
   "metadata": {},
   "outputs": [
    {
     "data": {
      "text/html": [
       "<div>\n",
       "<style scoped>\n",
       "    .dataframe tbody tr th:only-of-type {\n",
       "        vertical-align: middle;\n",
       "    }\n",
       "\n",
       "    .dataframe tbody tr th {\n",
       "        vertical-align: top;\n",
       "    }\n",
       "\n",
       "    .dataframe thead th {\n",
       "        text-align: right;\n",
       "    }\n",
       "</style>\n",
       "<table border=\"1\" class=\"dataframe\">\n",
       "  <thead>\n",
       "    <tr style=\"text-align: right;\">\n",
       "      <th></th>\n",
       "      <th>patent_num_cited_by_us_patents</th>\n",
       "    </tr>\n",
       "  </thead>\n",
       "  <tbody>\n",
       "    <tr>\n",
       "      <th>count</th>\n",
       "      <td>890.000000</td>\n",
       "    </tr>\n",
       "    <tr>\n",
       "      <th>mean</th>\n",
       "      <td>3.559551</td>\n",
       "    </tr>\n",
       "    <tr>\n",
       "      <th>std</th>\n",
       "      <td>5.667715</td>\n",
       "    </tr>\n",
       "    <tr>\n",
       "      <th>min</th>\n",
       "      <td>0.000000</td>\n",
       "    </tr>\n",
       "    <tr>\n",
       "      <th>25%</th>\n",
       "      <td>0.000000</td>\n",
       "    </tr>\n",
       "    <tr>\n",
       "      <th>50%</th>\n",
       "      <td>2.000000</td>\n",
       "    </tr>\n",
       "    <tr>\n",
       "      <th>75%</th>\n",
       "      <td>4.750000</td>\n",
       "    </tr>\n",
       "    <tr>\n",
       "      <th>max</th>\n",
       "      <td>76.000000</td>\n",
       "    </tr>\n",
       "  </tbody>\n",
       "</table>\n",
       "</div>"
      ],
      "text/plain": [
       "       patent_num_cited_by_us_patents\n",
       "count                      890.000000\n",
       "mean                         3.559551\n",
       "std                          5.667715\n",
       "min                          0.000000\n",
       "25%                          0.000000\n",
       "50%                          2.000000\n",
       "75%                          4.750000\n",
       "max                         76.000000"
      ]
     },
     "execution_count": 40,
     "metadata": {},
     "output_type": "execute_result"
    }
   ],
   "source": [
    "windp[['patent_num_cited_by_us_patents']].describe()"
   ]
  },
  {
   "cell_type": "markdown",
   "metadata": {},
   "source": [
    "# Solar"
   ]
  },
  {
   "cell_type": "code",
   "execution_count": 41,
   "metadata": {},
   "outputs": [
    {
     "data": {
      "text/html": [
       "<div>\n",
       "<style scoped>\n",
       "    .dataframe tbody tr th:only-of-type {\n",
       "        vertical-align: middle;\n",
       "    }\n",
       "\n",
       "    .dataframe tbody tr th {\n",
       "        vertical-align: top;\n",
       "    }\n",
       "\n",
       "    .dataframe thead th {\n",
       "        text-align: right;\n",
       "    }\n",
       "</style>\n",
       "<table border=\"1\" class=\"dataframe\">\n",
       "  <thead>\n",
       "    <tr style=\"text-align: right;\">\n",
       "      <th></th>\n",
       "      <th>patent_firstnamed_inventor_state</th>\n",
       "      <th>patent_firstnamed_inventor_city</th>\n",
       "      <th>patent_firstnamed_assignee_organization</th>\n",
       "    </tr>\n",
       "  </thead>\n",
       "  <tbody>\n",
       "    <tr>\n",
       "      <th>count</th>\n",
       "      <td>3853</td>\n",
       "      <td>3853</td>\n",
       "      <td>3767</td>\n",
       "    </tr>\n",
       "    <tr>\n",
       "      <th>unique</th>\n",
       "      <td>51</td>\n",
       "      <td>982</td>\n",
       "      <td>1061</td>\n",
       "    </tr>\n",
       "    <tr>\n",
       "      <th>top</th>\n",
       "      <td>CA</td>\n",
       "      <td>San Jose</td>\n",
       "      <td>SunPower Corporation</td>\n",
       "    </tr>\n",
       "    <tr>\n",
       "      <th>freq</th>\n",
       "      <td>1649</td>\n",
       "      <td>160</td>\n",
       "      <td>315</td>\n",
       "    </tr>\n",
       "  </tbody>\n",
       "</table>\n",
       "</div>"
      ],
      "text/plain": [
       "       patent_firstnamed_inventor_state patent_firstnamed_inventor_city  \\\n",
       "count                              3853                            3853   \n",
       "unique                               51                             982   \n",
       "top                                  CA                        San Jose   \n",
       "freq                               1649                             160   \n",
       "\n",
       "       patent_firstnamed_assignee_organization  \n",
       "count                                     3767  \n",
       "unique                                    1061  \n",
       "top                       SunPower Corporation  \n",
       "freq                                       315  "
      ]
     },
     "execution_count": 41,
     "metadata": {},
     "output_type": "execute_result"
    }
   ],
   "source": [
    "solarp[['patent_firstnamed_inventor_state','patent_firstnamed_inventor_city',\\\n",
    "      'patent_firstnamed_assignee_organization']].describe()"
   ]
  },
  {
   "cell_type": "code",
   "execution_count": 42,
   "metadata": {},
   "outputs": [
    {
     "data": {
      "text/html": [
       "<div>\n",
       "<style scoped>\n",
       "    .dataframe tbody tr th:only-of-type {\n",
       "        vertical-align: middle;\n",
       "    }\n",
       "\n",
       "    .dataframe tbody tr th {\n",
       "        vertical-align: top;\n",
       "    }\n",
       "\n",
       "    .dataframe thead th {\n",
       "        text-align: right;\n",
       "    }\n",
       "</style>\n",
       "<table border=\"1\" class=\"dataframe\">\n",
       "  <thead>\n",
       "    <tr style=\"text-align: right;\">\n",
       "      <th></th>\n",
       "      <th>patent_num_cited_by_us_patents</th>\n",
       "    </tr>\n",
       "  </thead>\n",
       "  <tbody>\n",
       "    <tr>\n",
       "      <th>count</th>\n",
       "      <td>3853.000000</td>\n",
       "    </tr>\n",
       "    <tr>\n",
       "      <th>mean</th>\n",
       "      <td>4.682325</td>\n",
       "    </tr>\n",
       "    <tr>\n",
       "      <th>std</th>\n",
       "      <td>11.176220</td>\n",
       "    </tr>\n",
       "    <tr>\n",
       "      <th>min</th>\n",
       "      <td>0.000000</td>\n",
       "    </tr>\n",
       "    <tr>\n",
       "      <th>25%</th>\n",
       "      <td>0.000000</td>\n",
       "    </tr>\n",
       "    <tr>\n",
       "      <th>50%</th>\n",
       "      <td>1.000000</td>\n",
       "    </tr>\n",
       "    <tr>\n",
       "      <th>75%</th>\n",
       "      <td>4.000000</td>\n",
       "    </tr>\n",
       "    <tr>\n",
       "      <th>max</th>\n",
       "      <td>180.000000</td>\n",
       "    </tr>\n",
       "  </tbody>\n",
       "</table>\n",
       "</div>"
      ],
      "text/plain": [
       "       patent_num_cited_by_us_patents\n",
       "count                     3853.000000\n",
       "mean                         4.682325\n",
       "std                         11.176220\n",
       "min                          0.000000\n",
       "25%                          0.000000\n",
       "50%                          1.000000\n",
       "75%                          4.000000\n",
       "max                        180.000000"
      ]
     },
     "execution_count": 42,
     "metadata": {},
     "output_type": "execute_result"
    }
   ],
   "source": [
    "solarp[['patent_num_cited_by_us_patents']].describe()"
   ]
  },
  {
   "cell_type": "code",
   "execution_count": null,
   "metadata": {},
   "outputs": [],
   "source": []
  }
 ],
 "metadata": {
  "kernelspec": {
   "display_name": "Python 3 (ipykernel)",
   "language": "python",
   "name": "python3"
  },
  "language_info": {
   "codemirror_mode": {
    "name": "ipython",
    "version": 3
   },
   "file_extension": ".py",
   "mimetype": "text/x-python",
   "name": "python",
   "nbconvert_exporter": "python",
   "pygments_lexer": "ipython3",
   "version": "3.8.12"
  }
 },
 "nbformat": 4,
 "nbformat_minor": 4
}

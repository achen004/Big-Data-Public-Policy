{
 "cells": [
  {
   "cell_type": "code",
   "execution_count": null,
   "metadata": {
    "id": "dotYYpZ76mwg",
    "outputId": "99e83240-5458-420b-cb57-d58522289d25"
   },
   "outputs": [
    {
     "name": "stdout",
     "output_type": "stream",
     "text": [
      "Populating the interactive namespace from numpy and matplotlib\n"
     ]
    }
   ],
   "source": [
    "%pylab inline\n",
    "import os\n",
    "import glob\n",
    "import pandas as pd\n",
    "import time\n",
    "import sklearn\n",
    "import seaborn as sns\n",
    "from sklearn.metrics import precision_recall_curve,roc_curve, auc\n",
    "from sklearn.metrics import accuracy_score, precision_score, recall_score\n",
    "from sklearn.ensemble import (RandomForestClassifier, ExtraTreesClassifier,\n",
    "                              GradientBoostingClassifier,\n",
    "                              AdaBoostClassifier)\n",
    "from sklearn.linear_model import LogisticRegression, SGDClassifier\n",
    "from sklearn.naive_bayes import GaussianNB\n",
    "from sklearn.tree import DecisionTreeClassifier\n",
    "from sklearn import svm\n",
    "from sklearn.model_selection import train_test_split\n",
    "from sklearn import tree\n",
    "from sklearn.cluster import KMeans\n",
    "from sklearn import preprocessing\n",
    "from sklearn.preprocessing import LabelEncoder\n",
    "from sklearn.preprocessing import MinMaxScaler\n",
    "\n",
    "from sklearn.feature_extraction.text import CountVectorizer, TfidfTransformer\n",
    "from sklearn.decomposition import LatentDirichletAllocation\n",
    "from sklearn.linear_model import LogisticRegression\n",
    "from sklearn.metrics import precision_recall_curve, roc_auc_score, auc\n",
    "from sklearn import preprocessing\n",
    "\n",
    "import seaborn as sns\n",
    "import matplotlib.pyplot as plt\n",
    "%matplotlib inline\n",
    "\n",
    "import warnings\n",
    "warnings.filterwarnings('ignore')"
   ]
  },
  {
   "cell_type": "markdown",
   "metadata": {
    "id": "0QNzLXRt6mwj"
   },
   "source": [
    "Given that we already have the grants and abstracts merged from 2009 to 2018"
   ]
  },
  {
   "cell_type": "code",
   "execution_count": null,
   "metadata": {
    "id": "xFYG92pZ6mwk"
   },
   "outputs": [],
   "source": [
    "grants_df=pd.read_csv('grants_w_abs_2009_2018.csv', skipinitialspace=True, low_memory=False)"
   ]
  },
  {
   "cell_type": "code",
   "execution_count": null,
   "metadata": {
    "id": "txKvHKDS6mwl"
   },
   "outputs": [],
   "source": [
    "grants_df['Grant_Year']=pd.to_datetime(grants_df['BUDGET_START_DATE']).dt.year\n",
    "grants_df['ABSTRACT']=grants_df['ABSTRACT'].str.lower()\n",
    "grants_df['PROJECT_TITLE']=grants_df['PROJECT_TITLE'].str.lower()"
   ]
  },
  {
   "cell_type": "code",
   "execution_count": null,
   "metadata": {
    "id": "4FsfsgeH6mwl"
   },
   "outputs": [],
   "source": [
    "#filter out the data based on renewable energy types first\n",
    "RE_type='solar | wind power | wind turbine | biomass | biofuel | geothermal'\n",
    "RE_ppyr1=grants_df[(grants_df['Grant_Year'].between(2009,2018)) & (grants_df['ABSTRACT'].isna()) & (grants_df['PROJECT_TITLE'].str.contains(RE_type))]\n",
    "non_emptyab=grants_df[grants_df['ABSTRACT'].notna()]\n",
    "RE_ppyr2=non_emptyab[(non_emptyab['Grant_Year'].between(2009,2018)) & (non_emptyab['ABSTRACT'].str.contains(RE_type))]\n",
    "combo_df=pd.concat([RE_ppyr1, RE_ppyr2])"
   ]
  },
  {
   "cell_type": "code",
   "execution_count": null,
   "metadata": {
    "id": "YfbEjbff6mwm"
   },
   "outputs": [],
   "source": [
    "#'PROJECT_START_DATE', 'PROJECT_END_DATE'\n",
    "#'BUDGET_START_DATE', 'BUDGET_END_DATE'\n",
    "#'FY_TOTAL_COST'"
   ]
  },
  {
   "cell_type": "code",
   "execution_count": null,
   "metadata": {
    "id": "uS78TTtF6mwm"
   },
   "outputs": [],
   "source": [
    "grants_df=combo_df\n",
    "#Get the difference between project start and end times for project duration\n",
    "grants_df['project_start']=pd.to_datetime(grants_df['PROJECT_START_DATE'])\n",
    "grants_df['project_end']=pd.to_datetime(grants_df['PROJECT_END_DATE'])\n",
    "grants_df['project_days'] = (grants_df['project_end'] - grants_df['project_start']).abs().dt.days\n",
    "grants_df['project_years']=grants_df['project_days']/365"
   ]
  },
  {
   "cell_type": "code",
   "execution_count": null,
   "metadata": {
    "id": "upmqSZHz6mwn"
   },
   "outputs": [],
   "source": [
    "#Get the difference between budget start and end times for budget duration\n",
    "grants_df['budget_start']=pd.to_datetime(grants_df['BUDGET_START_DATE'])\n",
    "grants_df['budget_end']=pd.to_datetime(grants_df['BUDGET_END_DATE'])\n",
    "grants_df['budget_days'] = (grants_df['budget_end'] - grants_df['budget_start']).abs().dt.days\n",
    "grants_df['budget_years']=grants_df['budget_days']/365"
   ]
  },
  {
   "cell_type": "code",
   "execution_count": null,
   "metadata": {
    "id": "fxmyMPe36mwn",
    "outputId": "90de36d1-b670-4f73-f3ee-38d6ce41e59e"
   },
   "outputs": [
    {
     "data": {
      "text/plain": [
       "budget_years       0\n",
       "project_years     61\n",
       "FY_TOTAL_COST    118\n",
       "dtype: int64"
      ]
     },
     "execution_count": 74,
     "metadata": {},
     "output_type": "execute_result"
    }
   ],
   "source": [
    "df_cluster=grants_df[['budget_years', 'project_years', 'FY_TOTAL_COST']]\n",
    "#convert the cost to millions\n",
    "df_cluster['FY_TOTAL_COST']=df_cluster['FY_TOTAL_COST']/1e6\n",
    "df_cluster.isna().sum()"
   ]
  },
  {
   "cell_type": "code",
   "execution_count": null,
   "metadata": {
    "id": "gJDpWxPt6mwo"
   },
   "outputs": [],
   "source": [
    "new_cluster=df_cluster.dropna()"
   ]
  },
  {
   "cell_type": "markdown",
   "metadata": {
    "id": "ZH_X6LnP6mwo"
   },
   "source": [
    "Chose a k=6 because there was little change in the sum of squared distances from the elbow method plot"
   ]
  },
  {
   "cell_type": "code",
   "execution_count": null,
   "metadata": {
    "id": "btl2bxuC6mwp"
   },
   "outputs": [],
   "source": [
    "# Run cluster algorithm\n",
    "kmeans = KMeans(n_clusters=6) #how many clusters we want\n",
    "kmeans.fit(new_cluster)\n",
    "labels = kmeans.predict(new_cluster)"
   ]
  },
  {
   "cell_type": "code",
   "execution_count": null,
   "metadata": {
    "id": "ArI_Lyax6mwp",
    "outputId": "59d16e31-9a1a-4d67-b2bb-cf9aba49fbe7"
   },
   "outputs": [
    {
     "name": "stdout",
     "output_type": "stream",
     "text": [
      "[[ 1.07841184  2.17797964  0.18482941]\n",
      " [ 1.05252716 21.16929617  0.49029241]\n",
      " [ 1.24043292  4.78382523  0.42682508]\n",
      " [ 1.02319635 31.88493151  0.32754053]\n",
      " [ 1.16594912 14.02747554  0.38530534]\n",
      " [ 1.63420955  8.65679378  0.39794143]]\n"
     ]
    }
   ],
   "source": [
    "# Check centroid values the algorithm generated for the final clusters\n",
    "print(kmeans.cluster_centers_) "
   ]
  },
  {
   "cell_type": "code",
   "execution_count": null,
   "metadata": {
    "id": "LQrcjjRz6mwq"
   },
   "outputs": [],
   "source": [
    "# Add back to original data, labels is a np array\n",
    "new_cluster['clusters'] = labels"
   ]
  },
  {
   "cell_type": "code",
   "execution_count": null,
   "metadata": {
    "id": "JIoU_2YS6mwq",
    "outputId": "9d421248-ad9b-4022-8099-2ac7a4d3cb61"
   },
   "outputs": [
    {
     "name": "stdout",
     "output_type": "stream",
     "text": [
      "          budget_years  project_years  FY_TOTAL_COST\n",
      "clusters                                            \n",
      "0             1.078412       2.177980       0.184829\n",
      "1             1.052527      21.169296       0.490292\n",
      "2             1.240433       4.783825       0.426825\n",
      "3             1.023196      31.884932       0.327541\n",
      "4             1.165949      14.027476       0.385305\n",
      "5             1.634210       8.656794       0.397941\n"
     ]
    }
   ],
   "source": [
    "# Let's analyze the clusters\n",
    "print(new_cluster.groupby(['clusters']).mean())"
   ]
  },
  {
   "cell_type": "markdown",
   "metadata": {
    "id": "HwjAIyKdSTxA"
   },
   "source": [
    "The Project Duration vs Funding Amount for Renewable Energy Grants plot was used on slide 12 of our presentation"
   ]
  },
  {
   "cell_type": "code",
   "execution_count": null,
   "metadata": {
    "id": "Nha8P3ve6mwr",
    "outputId": "7a21b03b-07d6-406e-b502-a4264b97c5c4"
   },
   "outputs": [
    {
     "data": {
      "image/png": "[encoded data removed]",
      "text/plain": [
       "<Figure size 407.375x360 with 1 Axes>"
      ]
     },
     "metadata": {
      "needs_background": "light"
     },
     "output_type": "display_data"
    }
   ],
   "source": [
    "# Scatter plot of Number of Terms and Total Cost\n",
    "sns.lmplot('project_years', 'FY_TOTAL_COST', \n",
    "           data=new_cluster, \n",
    "           fit_reg=False, \n",
    "           hue=\"clusters\",  \n",
    "           scatter_kws={\"marker\": \"D\", \n",
    "                        \"s\": 100})\n",
    "plt.title('Project Duration vs Funding Amount for Renewable Energy Grants')\n",
    "plt.xlabel('Number of Years on Project')\n",
    "plt.ylabel('Funding in Millions USD')\n",
    "plt.savefig('RE_kmeans.jpg', bbox_inches='tight')\n",
    "plt.show()"
   ]
  },
  {
   "cell_type": "code",
   "execution_count": null,
   "metadata": {
    "id": "cPemVVZg6mwr",
    "outputId": "55fc7c15-1c5b-40a7-f07e-8134d8b6a611"
   },
   "outputs": [
    {
     "data": {
      "text/html": [
       "<div>\n",
       "<style scoped>\n",
       "    .dataframe tbody tr th:only-of-type {\n",
       "        vertical-align: middle;\n",
       "    }\n",
       "\n",
       "    .dataframe tbody tr th {\n",
       "        vertical-align: top;\n",
       "    }\n",
       "\n",
       "    .dataframe thead th {\n",
       "        text-align: right;\n",
       "    }\n",
       "</style>\n",
       "<table border=\"1\" class=\"dataframe\">\n",
       "  <thead>\n",
       "    <tr style=\"text-align: right;\">\n",
       "      <th></th>\n",
       "      <th>Unnamed: 0</th>\n",
       "      <th>PROJECT_ID</th>\n",
       "      <th>PROJECT_TERMS</th>\n",
       "      <th>PROJECT_TITLE</th>\n",
       "      <th>DEPARTMENT</th>\n",
       "      <th>AGENCY</th>\n",
       "      <th>IC_CENTER</th>\n",
       "      <th>PROJECT_NUMBER</th>\n",
       "      <th>PROJECT_START_DATE</th>\n",
       "      <th>PROJECT_END_DATE</th>\n",
       "      <th>...</th>\n",
       "      <th>FY_TOTAL_COST</th>\n",
       "      <th>FY_TOTAL_COST_SUB_PROJECTS</th>\n",
       "      <th>ABSTRACT</th>\n",
       "      <th>Grant_Year</th>\n",
       "      <th>project_start</th>\n",
       "      <th>project_end</th>\n",
       "      <th>project_days</th>\n",
       "      <th>budget_start</th>\n",
       "      <th>budget_end</th>\n",
       "      <th>budget_days</th>\n",
       "    </tr>\n",
       "  </thead>\n",
       "  <tbody>\n",
       "    <tr>\n",
       "      <th>282374</th>\n",
       "      <td>282374</td>\n",
       "      <td>440000</td>\n",
       "      <td>Atlases; Biological; Biota; Birth; Blood Pres...</td>\n",
       "      <td>chronobiologic markers for lab medicine and th...</td>\n",
       "      <td>HHS</td>\n",
       "      <td>NIH</td>\n",
       "      <td>NIGMS</td>\n",
       "      <td>4K06GM013981-49</td>\n",
       "      <td>7/1/1977</td>\n",
       "      <td>8/31/2016</td>\n",
       "      <td>...</td>\n",
       "      <td>35991.0</td>\n",
       "      <td>NaN</td>\n",
       "      <td>a. specific aimsthe original aims have not bee...</td>\n",
       "      <td>2011.0</td>\n",
       "      <td>1977-07-01</td>\n",
       "      <td>2016-08-31</td>\n",
       "      <td>14306.0</td>\n",
       "      <td>2011-09-01</td>\n",
       "      <td>2012-08-31</td>\n",
       "      <td>365</td>\n",
       "    </tr>\n",
       "  </tbody>\n",
       "</table>\n",
       "<p>1 rows × 33 columns</p>\n",
       "</div>"
      ],
      "text/plain": [
       "        Unnamed: 0  PROJECT_ID  \\\n",
       "282374      282374      440000   \n",
       "\n",
       "                                            PROJECT_TERMS  \\\n",
       "282374   Atlases; Biological; Biota; Birth; Blood Pres...   \n",
       "\n",
       "                                            PROJECT_TITLE DEPARTMENT AGENCY  \\\n",
       "282374  chronobiologic markers for lab medicine and th...        HHS    NIH   \n",
       "\n",
       "       IC_CENTER   PROJECT_NUMBER PROJECT_START_DATE PROJECT_END_DATE  ...  \\\n",
       "282374     NIGMS  4K06GM013981-49           7/1/1977        8/31/2016  ...   \n",
       "\n",
       "       FY_TOTAL_COST FY_TOTAL_COST_SUB_PROJECTS  \\\n",
       "282374       35991.0                        NaN   \n",
       "\n",
       "                                                 ABSTRACT Grant_Year  \\\n",
       "282374  a. specific aimsthe original aims have not bee...     2011.0   \n",
       "\n",
       "       project_start project_end project_days budget_start budget_end  \\\n",
       "282374    1977-07-01  2016-08-31      14306.0   2011-09-01 2012-08-31   \n",
       "\n",
       "       budget_days  \n",
       "282374         365  \n",
       "\n",
       "[1 rows x 33 columns]"
      ]
     },
     "execution_count": 66,
     "metadata": {},
     "output_type": "execute_result"
    }
   ],
   "source": [
    "#Some of these projects started back in 1977!\n",
    "grants_df[grants_df['project_days']>14000]"
   ]
  },
  {
   "cell_type": "code",
   "execution_count": null,
   "metadata": {
    "id": "7PH4qrGc6mwr",
    "outputId": "5ad221c5-ef36-4d5d-fb4c-9aab82842a44"
   },
   "outputs": [
    {
     "name": "stdout",
     "output_type": "stream",
     "text": [
      "114281880.34555224\n"
     ]
    }
   ],
   "source": [
    "print(kmeans.inertia_)"
   ]
  },
  {
   "cell_type": "code",
   "execution_count": null,
   "metadata": {
    "id": "aEsiw3wH6mws"
   },
   "outputs": [],
   "source": [
    "new_cluster.drop(['clusters'], axis=1, inplace=True)"
   ]
  },
  {
   "cell_type": "code",
   "execution_count": null,
   "metadata": {
    "id": "i2tFcjFR6mws"
   },
   "outputs": [],
   "source": [
    "Sum_of_squared_distances = []\n",
    "K = range(1,15)\n",
    "for k in K:\n",
    "    km = KMeans(n_clusters=k)\n",
    "    km = km.fit(new_cluster)\n",
    "    Sum_of_squared_distances.append(km.inertia_)"
   ]
  },
  {
   "cell_type": "markdown",
   "metadata": {
    "id": "cjrylseT6mws"
   },
   "source": [
    "## try to choose a k near inflection where change in sum of squared distances becomes negligible"
   ]
  },
  {
   "cell_type": "code",
   "execution_count": null,
   "metadata": {
    "id": "U8kYmn1C6mwt",
    "outputId": "63d81258-84c1-407a-b4ca-1659cc88001c"
   },
   "outputs": [
    {
     "data": {
      "image/png": "[encoded data removed]",
      "text/plain": [
       "<Figure size 432x288 with 1 Axes>"
      ]
     },
     "metadata": {
      "needs_background": "light"
     },
     "output_type": "display_data"
    }
   ],
   "source": [
    "# Plot the result: Elbow plot\n",
    "plt.plot(K, Sum_of_squared_distances, 'bx-')\n",
    "plt.xlabel('k')\n",
    "plt.ylabel('Sum_of_squared_distances')\n",
    "plt.title('Elbow Method For Optimal k')\n",
    "plt.show()"
   ]
  },
  {
   "cell_type": "code",
   "execution_count": null,
   "metadata": {
    "id": "8HgovTeU6mwt",
    "outputId": "b1f47468-79c1-47b7-ea30-37c0f91c0a90"
   },
   "outputs": [
    {
     "data": {
      "image/png": "[encoded data removed]",
      "text/plain": [
       "<Figure size 407.375x360 with 1 Axes>"
      ]
     },
     "metadata": {
      "needs_background": "light"
     },
     "output_type": "display_data"
    }
   ],
   "source": [
    "sns.lmplot('project_years', 'budget_years', \n",
    "           data=new_cluster, \n",
    "           fit_reg=False, \n",
    "           hue=\"clusters\",  \n",
    "           scatter_kws={\"marker\": \"D\", \n",
    "                        \"s\": 100})\n",
    "plt.title('Project Duration vs Budget Duration for Renewable Energy Grants')\n",
    "plt.xlabel('Number of Years on Project')\n",
    "plt.ylabel('Number of Years of Budget')\n",
    "plt.show()"
   ]
  },
  {
   "cell_type": "code",
   "execution_count": null,
   "metadata": {
    "id": "7gwn4NfA6mwu"
   },
   "outputs": [],
   "source": []
  },
  {
   "cell_type": "code",
   "execution_count": null,
   "metadata": {
    "id": "hhMULrum6mwu",
    "outputId": "45d793f9-5daf-4829-9019-5e22c59fca5d"
   },
   "outputs": [
    {
     "data": {
      "text/html": [
       "<div>\n",
       "<style scoped>\n",
       "    .dataframe tbody tr th:only-of-type {\n",
       "        vertical-align: middle;\n",
       "    }\n",
       "\n",
       "    .dataframe tbody tr th {\n",
       "        vertical-align: top;\n",
       "    }\n",
       "\n",
       "    .dataframe thead th {\n",
       "        text-align: right;\n",
       "    }\n",
       "</style>\n",
       "<table border=\"1\" class=\"dataframe\">\n",
       "  <thead>\n",
       "    <tr style=\"text-align: right;\">\n",
       "      <th></th>\n",
       "      <th>Unnamed: 0</th>\n",
       "      <th>PROJECT_ID</th>\n",
       "      <th>PROJECT_TERMS</th>\n",
       "      <th>PROJECT_TITLE</th>\n",
       "      <th>DEPARTMENT</th>\n",
       "      <th>AGENCY</th>\n",
       "      <th>IC_CENTER</th>\n",
       "      <th>PROJECT_NUMBER</th>\n",
       "      <th>PROJECT_START_DATE</th>\n",
       "      <th>PROJECT_END_DATE</th>\n",
       "      <th>...</th>\n",
       "      <th>ORGANIZATION_COUNTRY</th>\n",
       "      <th>BUDGET_START_DATE</th>\n",
       "      <th>BUDGET_END_DATE</th>\n",
       "      <th>CFDA_CODE</th>\n",
       "      <th>FY</th>\n",
       "      <th>FY_TOTAL_COST</th>\n",
       "      <th>FY_TOTAL_COST_SUB_PROJECTS</th>\n",
       "      <th>ABSTRACT</th>\n",
       "      <th>Grant_Year</th>\n",
       "      <th>project_start</th>\n",
       "    </tr>\n",
       "  </thead>\n",
       "  <tbody>\n",
       "    <tr>\n",
       "      <th>660092</th>\n",
       "      <td>660092</td>\n",
       "      <td>813005</td>\n",
       "      <td>Acute; Affect; American; Animal Model; Area; A...</td>\n",
       "      <td>imaging glucose uptake and metabolism in tbi m...</td>\n",
       "      <td>DOD</td>\n",
       "      <td>CNRM</td>\n",
       "      <td>NaN</td>\n",
       "      <td>C308049-10.01-60855</td>\n",
       "      <td>2/1/2016</td>\n",
       "      <td>6/30/3018</td>\n",
       "      <td>...</td>\n",
       "      <td>\\tUNITED STATES</td>\n",
       "      <td>NaN</td>\n",
       "      <td>NaN</td>\n",
       "      <td>NaN</td>\n",
       "      <td>2015</td>\n",
       "      <td>237691.0</td>\n",
       "      <td>NaN</td>\n",
       "      <td>subject: traumatic brain injury (tbi) is one o...</td>\n",
       "      <td>NaN</td>\n",
       "      <td>2016-02-01</td>\n",
       "    </tr>\n",
       "  </tbody>\n",
       "</table>\n",
       "<p>1 rows × 28 columns</p>\n",
       "</div>"
      ],
      "text/plain": [
       "        Unnamed: 0  PROJECT_ID  \\\n",
       "660092      660092      813005   \n",
       "\n",
       "                                            PROJECT_TERMS  \\\n",
       "660092  Acute; Affect; American; Animal Model; Area; A...   \n",
       "\n",
       "                                            PROJECT_TITLE DEPARTMENT AGENCY  \\\n",
       "660092  imaging glucose uptake and metabolism in tbi m...        DOD   CNRM   \n",
       "\n",
       "       IC_CENTER       PROJECT_NUMBER PROJECT_START_DATE PROJECT_END_DATE  \\\n",
       "660092       NaN  C308049-10.01-60855           2/1/2016        6/30/3018   \n",
       "\n",
       "        ... ORGANIZATION_COUNTRY BUDGET_START_DATE BUDGET_END_DATE CFDA_CODE  \\\n",
       "660092  ...      \\tUNITED STATES               NaN             NaN       NaN   \n",
       "\n",
       "          FY FY_TOTAL_COST FY_TOTAL_COST_SUB_PROJECTS  \\\n",
       "660092  2015      237691.0                        NaN   \n",
       "\n",
       "                                                 ABSTRACT Grant_Year  \\\n",
       "660092  subject: traumatic brain injury (tbi) is one o...        NaN   \n",
       "\n",
       "       project_start  \n",
       "660092    2016-02-01  \n",
       "\n",
       "[1 rows x 28 columns]"
      ]
     },
     "execution_count": 11,
     "metadata": {},
     "output_type": "execute_result"
    }
   ],
   "source": [
    "#seems to be a typo in one of the dates \n",
    "grants_df[(grants_df['PROJECT_START_DATE']=='6/30/3018') | (grants_df['PROJECT_END_DATE']=='6/30/3018')]"
   ]
  }
 ],
 "metadata": {
  "colab": {
   "collapsed_sections": [],
   "name": "Unsupervised_ML_Grants_data.ipynb",
   "provenance": []
  },
  "kernelspec": {
   "display_name": "Python 3 (ipykernel)",
   "language": "python",
   "name": "python3"
  },
  "language_info": {
   "codemirror_mode": {
    "name": "ipython",
    "version": 3
   },
   "file_extension": ".py",
   "mimetype": "text/x-python",
   "name": "python",
   "nbconvert_exporter": "python",
   "pygments_lexer": "ipython3",
   "version": "3.8.12"
  }
 },
 "nbformat": 4,
 "nbformat_minor": 1
}

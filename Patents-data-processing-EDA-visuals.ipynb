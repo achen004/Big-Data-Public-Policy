{
 "cells": [
  {
   "cell_type": "markdown",
   "metadata": {
    "deepnote_cell_height": 321.578125,
    "deepnote_cell_type": "markdown",
    "id": "JffoYt7P6gZn",
    "tags": []
   },
   "source": [
    "Key measure wanted:\n",
    "\n",
    "Total patents for each specific renewable energy type across time periods"
   ]
  },
  {
   "cell_type": "code",
   "execution_count": null,
   "metadata": {
    "deepnote_cell_height": 297,
    "deepnote_cell_type": "code",
    "deepnote_to_be_reexecuted": false,
    "execution_millis": 3276,
    "execution_start": 1647542283901,
    "id": "be-_INW96gZq",
    "source_hash": "c18d2335",
    "tags": []
   },
   "outputs": [],
   "source": [
    "import pandas as pd\n",
    "import numpy as np\n",
    "import os\n",
    "import glob\n",
    "\n",
    "from datetime import datetime\n",
    "import matplotlib as mplib\n",
    "import matplotlib.pyplot as plt # visualization package 1\n",
    "import seaborn as sns           # visualization package 2\n",
    "import matplotlib.ticker as ticker\n",
    "# so images get plotted in the notebook\n",
    "%matplotlib inline\n",
    "\n",
    "import random"
   ]
  },
  {
   "cell_type": "code",
   "execution_count": null,
   "metadata": {
    "deepnote_cell_height": 81,
    "deepnote_cell_type": "code",
    "deepnote_to_be_reexecuted": false,
    "execution_millis": 9,
    "execution_start": 1647541352882,
    "id": "-e8T9JrT6gZs",
    "source_hash": "312d5ee7",
    "tags": []
   },
   "outputs": [],
   "source": [
    "#!ls /datasets/shared-dataset-g7 #run shared dataset (grant abstracts with grant information)"
   ]
  },
  {
   "cell_type": "markdown",
   "metadata": {
    "id": "Vi8ALOWRFG0o"
   },
   "source": [
    "We want patents from 2010 to 2018. Thus we will gather a list of years, then loop through each year, reading in the csv files each time, and then concat the appended list of dataframe version of the patents."
   ]
  },
  {
   "cell_type": "code",
   "execution_count": null,
   "metadata": {
    "id": "HzrHrlfsE_Qx"
   },
   "outputs": [],
   "source": [
    "path = \"C:/Users/achen/\"\n",
    "\n",
    "patent_2010_2018 = []\n",
    "for year in list(range(2012,2019)):\n",
    "    patent = pd.read_csv(path+'Patents/Patents/patents_' + str(year) + '.csv', low_memory=False, skipinitialspace=True) \n",
    "    patent_2010_2018.append(patent)  # append that dataframe to a list\n",
    "\n",
    "# Concatenate all the dataframes together into one dataframe\n",
    "patent_2010_2018_df = pd.concat(patent_2010_2018)\n",
    "patent_2010_2018_df.to_csv('patent_2010_2018_df.csv', encoding='utf8')"
   ]
  },
  {
   "cell_type": "code",
   "execution_count": null,
   "metadata": {
    "deepnote_cell_height": 422.109375,
    "deepnote_cell_type": "code",
    "deepnote_to_be_reexecuted": false,
    "execution_millis": 15692,
    "execution_start": 1647541352936,
    "id": "sBzXB9Dx6gZt",
    "outputId": "ef60159e-9a74-4c9c-b80f-3c8eab6dca71",
    "source_hash": "ef3ff8fd",
    "tags": []
   },
   "outputs": [
    {
     "data": {
      "text/html": [
       "<div>\n",
       "<style scoped>\n",
       "    .dataframe tbody tr th:only-of-type {\n",
       "        vertical-align: middle;\n",
       "    }\n",
       "\n",
       "    .dataframe tbody tr th {\n",
       "        vertical-align: top;\n",
       "    }\n",
       "\n",
       "    .dataframe thead th {\n",
       "        text-align: right;\n",
       "    }\n",
       "</style>\n",
       "<table border=\"1\" class=\"dataframe\">\n",
       "  <thead>\n",
       "    <tr style=\"text-align: right;\">\n",
       "      <th></th>\n",
       "      <th>Unnamed: 0</th>\n",
       "      <th>patent_number</th>\n",
       "      <th>patent_title</th>\n",
       "      <th>patent_abstract</th>\n",
       "      <th>patent_num_cited_by_us_patents</th>\n",
       "      <th>patent_date</th>\n",
       "      <th>app_date</th>\n",
       "      <th>patent_firstnamed_inventor_name_first</th>\n",
       "      <th>patent_firstnamed_inventor_name_last</th>\n",
       "      <th>patent_firstnamed_inventor_city</th>\n",
       "      <th>patent_firstnamed_inventor_state</th>\n",
       "      <th>patent_firstnamed_inventor_latitude</th>\n",
       "      <th>patent_firstnamed_inventor_longitude</th>\n",
       "      <th>patent_firstnamed_assignee_organization</th>\n",
       "      <th>patent_firstnamed_assignee_city</th>\n",
       "      <th>patent_firstnamed_assignee_state</th>\n",
       "      <th>patent_firstnamed_assignee_latitude</th>\n",
       "      <th>patent_firstnamed_assignee_longitude</th>\n",
       "    </tr>\n",
       "  </thead>\n",
       "  <tbody>\n",
       "    <tr>\n",
       "      <th>0</th>\n",
       "      <td>0</td>\n",
       "      <td>7640602</td>\n",
       "      <td>Assembled anti-creep waist-clothing stay devic...</td>\n",
       "      <td>A pre-assembled anti-creep waist-clothing stay...</td>\n",
       "      <td>1</td>\n",
       "      <td>2010-01-05</td>\n",
       "      <td>2005-04-01</td>\n",
       "      <td>Catherine</td>\n",
       "      <td>Chetelat</td>\n",
       "      <td>Baltimore</td>\n",
       "      <td>MD</td>\n",
       "      <td>39.2903</td>\n",
       "      <td>-76.6125</td>\n",
       "      <td>ProductMasters, Inc.</td>\n",
       "      <td>Baltimore</td>\n",
       "      <td>MD</td>\n",
       "      <td>39.2903</td>\n",
       "      <td>-76.6125</td>\n",
       "    </tr>\n",
       "    <tr>\n",
       "      <th>1</th>\n",
       "      <td>1</td>\n",
       "      <td>7640606</td>\n",
       "      <td>Mattress hugging bed rail</td>\n",
       "      <td>A bed rail structured to minimize the gap betw...</td>\n",
       "      <td>15</td>\n",
       "      <td>2010-01-05</td>\n",
       "      <td>2007-10-31</td>\n",
       "      <td>Mark A.</td>\n",
       "      <td>Flannery</td>\n",
       "      <td>Lakeville</td>\n",
       "      <td>MN</td>\n",
       "      <td>44.6497</td>\n",
       "      <td>-93.2425</td>\n",
       "      <td>Regalo International, LLC</td>\n",
       "      <td>Prior Lake</td>\n",
       "      <td>MN</td>\n",
       "      <td>44.7133</td>\n",
       "      <td>-93.4225</td>\n",
       "    </tr>\n",
       "    <tr>\n",
       "      <th>2</th>\n",
       "      <td>2</td>\n",
       "      <td>7712163</td>\n",
       "      <td>Portable child bed</td>\n",
       "      <td>A portable child bed in the nature of a cot. T...</td>\n",
       "      <td>5</td>\n",
       "      <td>2010-05-11</td>\n",
       "      <td>2006-11-30</td>\n",
       "      <td>Mark A.</td>\n",
       "      <td>Flannery</td>\n",
       "      <td>Lakeville</td>\n",
       "      <td>MN</td>\n",
       "      <td>44.6497</td>\n",
       "      <td>-93.2425</td>\n",
       "      <td>Regalo International, LLC</td>\n",
       "      <td>Prior Lake</td>\n",
       "      <td>MN</td>\n",
       "      <td>44.7133</td>\n",
       "      <td>-93.4225</td>\n",
       "    </tr>\n",
       "    <tr>\n",
       "      <th>3</th>\n",
       "      <td>3</td>\n",
       "      <td>7832555</td>\n",
       "      <td>Apparatus for assisting in the changing of dia...</td>\n",
       "      <td>The apparatus includes a first compartment for...</td>\n",
       "      <td>8</td>\n",
       "      <td>2010-11-16</td>\n",
       "      <td>2007-05-27</td>\n",
       "      <td>Mark A.</td>\n",
       "      <td>Flannery</td>\n",
       "      <td>Lakeville</td>\n",
       "      <td>MN</td>\n",
       "      <td>44.6497</td>\n",
       "      <td>-93.2425</td>\n",
       "      <td>Regalo International, LLC</td>\n",
       "      <td>Prior Lake</td>\n",
       "      <td>MN</td>\n",
       "      <td>44.7133</td>\n",
       "      <td>-93.4225</td>\n",
       "    </tr>\n",
       "    <tr>\n",
       "      <th>4</th>\n",
       "      <td>4</td>\n",
       "      <td>7845719</td>\n",
       "      <td>Adjustable height hook on high chair</td>\n",
       "      <td>A hook on high chair that includes a base unit...</td>\n",
       "      <td>5</td>\n",
       "      <td>2010-12-07</td>\n",
       "      <td>2008-03-31</td>\n",
       "      <td>Mark A.</td>\n",
       "      <td>Flannery</td>\n",
       "      <td>Lakeville</td>\n",
       "      <td>MN</td>\n",
       "      <td>44.6497</td>\n",
       "      <td>-93.2425</td>\n",
       "      <td>Regalo International, LLC</td>\n",
       "      <td>Prior Lake</td>\n",
       "      <td>MN</td>\n",
       "      <td>44.7133</td>\n",
       "      <td>-93.4225</td>\n",
       "    </tr>\n",
       "  </tbody>\n",
       "</table>\n",
       "</div>"
      ],
      "text/plain": [
       "   Unnamed: 0 patent_number  \\\n",
       "0           0       7640602   \n",
       "1           1       7640606   \n",
       "2           2       7712163   \n",
       "3           3       7832555   \n",
       "4           4       7845719   \n",
       "\n",
       "                                        patent_title  \\\n",
       "0  Assembled anti-creep waist-clothing stay devic...   \n",
       "1                          Mattress hugging bed rail   \n",
       "2                                 Portable child bed   \n",
       "3  Apparatus for assisting in the changing of dia...   \n",
       "4               Adjustable height hook on high chair   \n",
       "\n",
       "                                     patent_abstract  \\\n",
       "0  A pre-assembled anti-creep waist-clothing stay...   \n",
       "1  A bed rail structured to minimize the gap betw...   \n",
       "2  A portable child bed in the nature of a cot. T...   \n",
       "3  The apparatus includes a first compartment for...   \n",
       "4  A hook on high chair that includes a base unit...   \n",
       "\n",
       "   patent_num_cited_by_us_patents patent_date    app_date  \\\n",
       "0                               1  2010-01-05  2005-04-01   \n",
       "1                              15  2010-01-05  2007-10-31   \n",
       "2                               5  2010-05-11  2006-11-30   \n",
       "3                               8  2010-11-16  2007-05-27   \n",
       "4                               5  2010-12-07  2008-03-31   \n",
       "\n",
       "  patent_firstnamed_inventor_name_first patent_firstnamed_inventor_name_last  \\\n",
       "0                             Catherine                             Chetelat   \n",
       "1                               Mark A.                             Flannery   \n",
       "2                               Mark A.                             Flannery   \n",
       "3                               Mark A.                             Flannery   \n",
       "4                               Mark A.                             Flannery   \n",
       "\n",
       "  patent_firstnamed_inventor_city patent_firstnamed_inventor_state  \\\n",
       "0                       Baltimore                               MD   \n",
       "1                       Lakeville                               MN   \n",
       "2                       Lakeville                               MN   \n",
       "3                       Lakeville                               MN   \n",
       "4                       Lakeville                               MN   \n",
       "\n",
       "   patent_firstnamed_inventor_latitude  patent_firstnamed_inventor_longitude  \\\n",
       "0                              39.2903                              -76.6125   \n",
       "1                              44.6497                              -93.2425   \n",
       "2                              44.6497                              -93.2425   \n",
       "3                              44.6497                              -93.2425   \n",
       "4                              44.6497                              -93.2425   \n",
       "\n",
       "  patent_firstnamed_assignee_organization patent_firstnamed_assignee_city  \\\n",
       "0                    ProductMasters, Inc.                       Baltimore   \n",
       "1               Regalo International, LLC                      Prior Lake   \n",
       "2               Regalo International, LLC                      Prior Lake   \n",
       "3               Regalo International, LLC                      Prior Lake   \n",
       "4               Regalo International, LLC                      Prior Lake   \n",
       "\n",
       "  patent_firstnamed_assignee_state  patent_firstnamed_assignee_latitude  \\\n",
       "0                               MD                              39.2903   \n",
       "1                               MN                              44.7133   \n",
       "2                               MN                              44.7133   \n",
       "3                               MN                              44.7133   \n",
       "4                               MN                              44.7133   \n",
       "\n",
       "   patent_firstnamed_assignee_longitude  \n",
       "0                              -76.6125  \n",
       "1                              -93.4225  \n",
       "2                              -93.4225  \n",
       "3                              -93.4225  \n",
       "4                              -93.4225  "
      ]
     },
     "execution_count": 4,
     "metadata": {},
     "output_type": "execute_result"
    }
   ],
   "source": [
    "patent_df=pd.read_csv('patent_2010_2018_df.csv', skipinitialspace=True)\n",
    "patent_df.head()"
   ]
  },
  {
   "cell_type": "code",
   "execution_count": null,
   "metadata": {
    "id": "v4utwuX86gZu",
    "outputId": "f5451066-a15f-4425-a042-cbaf2215a1c4"
   },
   "outputs": [
    {
     "data": {
      "text/plain": [
       "Index(['Unnamed: 0', 'patent_number', 'patent_title', 'patent_abstract',\n",
       "       'patent_num_cited_by_us_patents', 'patent_date', 'app_date',\n",
       "       'patent_firstnamed_inventor_name_first',\n",
       "       'patent_firstnamed_inventor_name_last',\n",
       "       'patent_firstnamed_inventor_city', 'patent_firstnamed_inventor_state',\n",
       "       'patent_firstnamed_inventor_latitude',\n",
       "       'patent_firstnamed_inventor_longitude',\n",
       "       'patent_firstnamed_assignee_organization',\n",
       "       'patent_firstnamed_assignee_city', 'patent_firstnamed_assignee_state',\n",
       "       'patent_firstnamed_assignee_latitude',\n",
       "       'patent_firstnamed_assignee_longitude'],\n",
       "      dtype='object')"
      ]
     },
     "execution_count": 5,
     "metadata": {},
     "output_type": "execute_result"
    }
   ],
   "source": [
    "patent_df.columns"
   ]
  },
  {
   "cell_type": "code",
   "execution_count": null,
   "metadata": {
    "id": "JI-xf6896gZv",
    "outputId": "fdd753ca-bc24-41f4-a9c4-4114fa3ba4d2"
   },
   "outputs": [
    {
     "data": {
      "text/plain": [
       "0"
      ]
     },
     "execution_count": 6,
     "metadata": {},
     "output_type": "execute_result"
    }
   ],
   "source": [
    "patent_df.patent_number.isna().sum()"
   ]
  },
  {
   "cell_type": "code",
   "execution_count": null,
   "metadata": {
    "deepnote_cell_height": 117,
    "deepnote_cell_type": "code",
    "deepnote_to_be_reexecuted": false,
    "execution_millis": 2998,
    "execution_start": 1647541368720,
    "id": "NhQ48KX_6gZv",
    "source_hash": "7cdaccdc",
    "tags": []
   },
   "outputs": [],
   "source": [
    "patent_df['Patent_Year']=pd.to_datetime(patent_df['patent_date']).dt.year\n",
    "patent_df['patent_abstract']=patent_df['patent_abstract'].str.lower()\n",
    "patent_df['patent_title']=patent_df['patent_title'].str.lower()"
   ]
  },
  {
   "cell_type": "code",
   "execution_count": null,
   "metadata": {
    "deepnote_cell_height": 118.1875,
    "deepnote_cell_type": "code",
    "deepnote_output_heights": [
     21.1875
    ],
    "deepnote_to_be_reexecuted": false,
    "execution_millis": 283,
    "execution_start": 1647541371743,
    "id": "aAcLzSgD6gZw",
    "outputId": "2563d558-19f3-42c7-b626-5ecda39e9037",
    "source_hash": "b623b920",
    "tags": []
   },
   "outputs": [
    {
     "data": {
      "text/plain": [
       "False"
      ]
     },
     "execution_count": 8,
     "metadata": {},
     "output_type": "execute_result"
    }
   ],
   "source": [
    "patent_df.duplicated(subset=['patent_number']).any()"
   ]
  },
  {
   "cell_type": "code",
   "execution_count": null,
   "metadata": {
    "deepnote_cell_height": 117,
    "deepnote_cell_type": "code",
    "deepnote_to_be_reexecuted": false,
    "execution_millis": 312,
    "execution_start": 1647541372035,
    "id": "4Tpf74Zi6gZw",
    "source_hash": "2fa40609",
    "tags": []
   },
   "outputs": [],
   "source": [
    "all_patents=patent_df.groupby('Patent_Year')['patent_number'].nunique().to_frame().reset_index()\n",
    "all_patents.rename(columns={\"patent_number\":\"number of patents\"}, inplace=True)\n",
    "#all_patents"
   ]
  },
  {
   "cell_type": "markdown",
   "metadata": {
    "id": "5o2bpGTYFZmJ"
   },
   "source": [
    "Let's look at the relationship between number of patents across years in a line plot. There seems to be an increase, with spikes at 2013 and 2017. "
   ]
  },
  {
   "cell_type": "code",
   "execution_count": null,
   "metadata": {
    "deepnote_cell_height": 432,
    "deepnote_cell_type": "code",
    "deepnote_output_heights": [
     281
    ],
    "deepnote_to_be_reexecuted": false,
    "execution_millis": 368,
    "execution_start": 1647541372356,
    "id": "VvVD1mdm6gZx",
    "outputId": "79a5f42a-249e-44fe-c3c2-65c15e8372a5",
    "source_hash": "895e62ee",
    "tags": []
   },
   "outputs": [
    {
     "data": {
      "image/png": "[encoded data removed]",
      "text/plain": [
       "<Figure size 432x288 with 1 Axes>"
      ]
     },
     "metadata": {
      "needs_background": "light"
     },
     "output_type": "display_data"
    }
   ],
   "source": [
    "sns.lineplot(x=\"Patent_Year\", y=\"number of patents\", data=all_patents)\n",
    "plt.title(\"Number of Patents per Year\")\n",
    "plt.savefig('Patents_per_yr.jpg', bbox_inches='tight')\n",
    "plt.show()"
   ]
  },
  {
   "cell_type": "markdown",
   "metadata": {
    "id": "9ajJFXHqHduc"
   },
   "source": [
    "Since we know that some of the patents are not included or marked as NaN in the data set, we will look at just the project titles for those to filter them based on the renewable energy types: 'solar | wind power | wind turbine | biomass | biofuel | geothermal'\n",
    "\n",
    "For patents that are not NaN, we would filter directly on the patent abstracts\n",
    "\n",
    "Using the two filtered dataframes, we will concatenate them to form a dataframe with all relevant patents to our topic. \n",
    "\n",
    "Now we want to expand the approach to only renewable patents across all years. We see that it has a spike near 2014 and 2016. This seems a bit strange that the number of renewable patents goes up and dips in fluctuation. "
   ]
  },
  {
   "cell_type": "code",
   "execution_count": null,
   "metadata": {
    "deepnote_cell_height": 432,
    "deepnote_cell_type": "code",
    "deepnote_output_heights": [
     281
    ],
    "deepnote_to_be_reexecuted": false,
    "execution_millis": 289,
    "execution_start": 1647541398559,
    "id": "wQxb2ucr6gZx",
    "outputId": "db2984c5-3c99-4f42-9bd0-e81fa06ac256",
    "source_hash": "14c9532",
    "tags": []
   },
   "outputs": [
    {
     "data": {
      "image/png": "[encoded data removed]",
      "text/plain": [
       "<Figure size 432x288 with 1 Axes>"
      ]
     },
     "metadata": {
      "needs_background": "light"
     },
     "output_type": "display_data"
    }
   ],
   "source": [
    "p_emptyab=patent_df[patent_df['patent_abstract'].isna()]\n",
    "non_emptyab=patent_df[patent_df['patent_abstract'].notna()]\n",
    "RE_ppyr1=p_emptyab[p_emptyab['patent_title'].str.contains('solar | wind power | wind turbine | biomass | biofuel | geothermal')]\n",
    "RE_ppyr2=non_emptyab[non_emptyab['patent_abstract'].str.contains('solar | wind power | wind turbine | biomass | biofuel | geothermal')]\n",
    "RE_ppyr=pd.concat([RE_ppyr1, RE_ppyr2])\n",
    "combo_df=RE_ppyr.groupby('Patent_Year')['patent_number'].nunique().to_frame().reset_index()\n",
    "combo_df=combo_df.rename(columns={'patent_number':\"number of patents\"})\n",
    "sns.lineplot(x=\"Patent_Year\", y=\"number of patents\", data=combo_df)\n",
    "plt.title(\"Number of Renewable Energy Patents per Year\")\n",
    "plt.savefig('RE_Patents_per_yr.jpg', bbox_inches='tight')\n",
    "plt.show()"
   ]
  },
  {
   "cell_type": "code",
   "execution_count": null,
   "metadata": {
    "id": "E2i-Vybm6gZy",
    "outputId": "4e432dd2-0fbe-4e2e-b460-1ffcb53628cc"
   },
   "outputs": [
    {
     "data": {
      "text/plain": [
       "6373"
      ]
     },
     "execution_count": 33,
     "metadata": {},
     "output_type": "execute_result"
    }
   ],
   "source": [
    "p_emptyab=patent_df[patent_df['patent_abstract'].isna()]\n",
    "non_emptyab=patent_df[patent_df['patent_abstract'].notna()]\n",
    "RE_ppyr1=p_emptyab[p_emptyab['patent_title'].str.contains('solar | wind power | wind turbine | biomass | biofuel | geothermal')]\n",
    "RE_ppyr2=non_emptyab[non_emptyab['patent_abstract'].str.contains('solar | wind power | wind turbine | biomass | biofuel | geothermal')]\n",
    "RE_ppyr=pd.concat([RE_ppyr1, RE_ppyr2])\n",
    "len(RE_ppyr)"
   ]
  },
  {
   "cell_type": "markdown",
   "metadata": {
    "id": "UxmeTPvBJoYY"
   },
   "source": [
    "Here we group by inventor first name and last name to see the number of patents each one of them produced."
   ]
  },
  {
   "cell_type": "code",
   "execution_count": null,
   "metadata": {
    "id": "fecq_Iet6gZy",
    "outputId": "83c97741-a2d0-4670-dc9b-c787b60f0e25"
   },
   "outputs": [
    {
     "data": {
      "text/html": [
       "<div>\n",
       "<style scoped>\n",
       "    .dataframe tbody tr th:only-of-type {\n",
       "        vertical-align: middle;\n",
       "    }\n",
       "\n",
       "    .dataframe tbody tr th {\n",
       "        vertical-align: top;\n",
       "    }\n",
       "\n",
       "    .dataframe thead th {\n",
       "        text-align: right;\n",
       "    }\n",
       "</style>\n",
       "<table border=\"1\" class=\"dataframe\">\n",
       "  <thead>\n",
       "    <tr style=\"text-align: right;\">\n",
       "      <th></th>\n",
       "      <th>first_name</th>\n",
       "      <th>last_name</th>\n",
       "      <th>number of patents</th>\n",
       "    </tr>\n",
       "  </thead>\n",
       "  <tbody>\n",
       "    <tr>\n",
       "      <th>0</th>\n",
       "      <td>Joseph Broun</td>\n",
       "      <td>Powell</td>\n",
       "      <td>53</td>\n",
       "    </tr>\n",
       "    <tr>\n",
       "      <th>1</th>\n",
       "      <td>Marshall</td>\n",
       "      <td>Medoff</td>\n",
       "      <td>44</td>\n",
       "    </tr>\n",
       "    <tr>\n",
       "      <th>2</th>\n",
       "      <td>Aniket V.</td>\n",
       "      <td>Kale</td>\n",
       "      <td>34</td>\n",
       "    </tr>\n",
       "    <tr>\n",
       "      <th>3</th>\n",
       "      <td>Roy</td>\n",
       "      <td>McAlister</td>\n",
       "      <td>31</td>\n",
       "    </tr>\n",
       "    <tr>\n",
       "      <th>4</th>\n",
       "      <td>Michael C.</td>\n",
       "      <td>Cheiky</td>\n",
       "      <td>29</td>\n",
       "    </tr>\n",
       "    <tr>\n",
       "      <th>5</th>\n",
       "      <td>Bulent M.</td>\n",
       "      <td>Basol</td>\n",
       "      <td>26</td>\n",
       "    </tr>\n",
       "    <tr>\n",
       "      <th>6</th>\n",
       "      <td>Mehrdad M.</td>\n",
       "      <td>Moslehi</td>\n",
       "      <td>24</td>\n",
       "    </tr>\n",
       "    <tr>\n",
       "      <th>7</th>\n",
       "      <td>Sarah</td>\n",
       "      <td>Akin</td>\n",
       "      <td>22</td>\n",
       "    </tr>\n",
       "    <tr>\n",
       "      <th>8</th>\n",
       "      <td>Steven J.</td>\n",
       "      <td>Conger</td>\n",
       "      <td>22</td>\n",
       "    </tr>\n",
       "    <tr>\n",
       "      <th>9</th>\n",
       "      <td>Kyle L.</td>\n",
       "      <td>Fujdala</td>\n",
       "      <td>21</td>\n",
       "    </tr>\n",
       "  </tbody>\n",
       "</table>\n",
       "</div>"
      ],
      "text/plain": [
       "     first_name  last_name  number of patents\n",
       "0  Joseph Broun     Powell                 53\n",
       "1      Marshall     Medoff                 44\n",
       "2     Aniket V.       Kale                 34\n",
       "3           Roy  McAlister                 31\n",
       "4    Michael C.     Cheiky                 29\n",
       "5     Bulent M.      Basol                 26\n",
       "6    Mehrdad M.    Moslehi                 24\n",
       "7         Sarah       Akin                 22\n",
       "8     Steven J.     Conger                 22\n",
       "9       Kyle L.    Fujdala                 21"
      ]
     },
     "execution_count": 47,
     "metadata": {},
     "output_type": "execute_result"
    }
   ],
   "source": [
    "RE_types=['solar', 'wind power | wind turbine','biomass | biofuel','geothermal']\n",
    "PI_patents=RE_ppyr.groupby(['patent_firstnamed_inventor_name_first','patent_firstnamed_inventor_name_last'])['patent_number'].nunique()\n",
    "PI_df=PI_patents.to_frame().reset_index()\n",
    "PI_df=PI_df.rename(columns={'patent_firstnamed_inventor_name_first':'first_name','patent_firstnamed_inventor_name_last':'last_name','patent_number':'number of patents'})\n",
    "top_10_PIs=PI_df.sort_values(by='number of patents', ascending=False).head(10)\n",
    "top_10_PIs.reset_index(drop=True)"
   ]
  },
  {
   "cell_type": "markdown",
   "metadata": {
    "id": "n-orTpHjLXGO"
   },
   "source": [
    "The following was just an attempt to compare the segmentation of renewable patents vs all the other patents"
   ]
  },
  {
   "cell_type": "code",
   "execution_count": null,
   "metadata": {
    "deepnote_cell_height": 830,
    "deepnote_cell_type": "code",
    "deepnote_output_heights": [
     607
    ],
    "deepnote_to_be_reexecuted": false,
    "execution_millis": 396,
    "execution_start": 1647541398944,
    "id": "NJDPlM4w6gZz",
    "outputId": "744e8af5-ba8d-4e50-e838-47b5f92d783e",
    "source_hash": "d3665e15",
    "tags": []
   },
   "outputs": [
    {
     "data": {
      "image/png": "[encoded data removed]",
      "text/plain": [
       "<Figure size 720x720 with 1 Axes>"
      ]
     },
     "metadata": {
      "needs_background": "light"
     },
     "output_type": "display_data"
    }
   ],
   "source": [
    "#RE_patents_fil2['Percentage of RE Patents']=RE_patents_fil2['number of patents']/all_patents['number of patents']\n",
    "plt.figure(figsize=(10,10))\n",
    "sns.barplot(x='Patent_Year', y='number of patents', data=all_patents, color='lightgreen', label='Other')\n",
    "sns.barplot(x='Patent_Year', y='number of patents', data=combo_df, color=\"green\", label='Renewable Energy')\n",
    "plt.title(\"Renewable Energy Patents Don't Make Up a Large Portion of All Patents\")\n",
    "plt.legend(loc='upper left')\n",
    "plt.savefig('Segmentation_RE.jpg', bbox_inches='tight')\n",
    "plt.show()"
   ]
  },
  {
   "cell_type": "code",
   "execution_count": null,
   "metadata": {
    "id": "FrlHnnWZ6gZ0",
    "outputId": "e6271aae-14f8-4f16-c1d3-37fdc3785fd1"
   },
   "outputs": [
    {
     "name": "stdout",
     "output_type": "stream",
     "text": [
      "matplotlib: 3.5.1\n"
     ]
    }
   ],
   "source": [
    "print('matplotlib: {}'.format(mplib.__version__))"
   ]
  },
  {
   "cell_type": "markdown",
   "metadata": {
    "id": "RkMdyiu36gZ0"
   },
   "source": [
    "## ARRA (2009-2013), there is a 3 year lag time for patent applications to be approved, thus we will look at patent data with the 'Patent_Year' from 2012-2016.\n",
    "\n",
    "The following is the plot of the number of patents across renewable energy types from 2012-2016 to account for the time lag since grant funding.\n",
    "\n"
   ]
  },
  {
   "cell_type": "code",
   "execution_count": null,
   "metadata": {
    "deepnote_cell_height": 1452,
    "deepnote_cell_type": "code",
    "deepnote_output_heights": [
     265,
     269,
     265,
     265
    ],
    "deepnote_to_be_reexecuted": false,
    "execution_millis": 32641,
    "execution_start": 1647541399344,
    "id": "jkcleLt66gZ1",
    "outputId": "70d6b1fe-8cda-4b3d-b207-416c4191381e",
    "source_hash": "5ec41f6f",
    "tags": []
   },
   "outputs": [
    {
     "data": {
      "image/png": "[encoded data removed]",
      "text/plain": [
       "<Figure size 864x432 with 4 Axes>"
      ]
     },
     "metadata": {
      "needs_background": "light"
     },
     "output_type": "display_data"
    }
   ],
   "source": [
    "patents=patent_df.copy()\n",
    "\n",
    "fig, axs = plt.subplots(nrows=2, ncols=2, figsize=(12,6))\n",
    "plt.subplots_adjust(hspace=0.5)\n",
    "fig.suptitle(\"Number of Patents Across Renewable Energy Types After Initial ARRA Period\", fontsize=18, y=1)\n",
    "\n",
    "colors=['skyblue','dodgerblue', 'olivedrab','coral']\n",
    "RE_types=['solar', 'wind power | wind turbine','biomass | biofuel','geothermal']\n",
    "for n, RE_type in enumerate(RE_types):\n",
    "    #iterative subplots\n",
    "    ax=plt.subplot(2,2,n+1)\n",
    "    #now filter by each topic's total fiscal year cost throughout the years \n",
    "    RE_ppyr1=patents[patents['patent_abstract'].isna() & patents['patent_title'].str.contains(RE_type)]\n",
    "    non_emptyab=patents[patents['patent_abstract'].notna()]\n",
    "    RE_ppyr2=non_emptyab[non_emptyab['patent_abstract'].str.contains(RE_type)]\n",
    "    combo_df=pd.concat([RE_ppyr1, RE_ppyr2]) #combined data sets \n",
    "    #separate by period \n",
    "    yf_df=combo_df[combo_df['Patent_Year'].between(2012,2016)]\n",
    "    new_df=yf_df.groupby('Patent_Year')['patent_number'].nunique().to_frame()\n",
    "    new_df=new_df.rename(columns={'patent_number':\"number of \"+str(RE_type)+\" patents\"})\n",
    "    new_df[\"number of \"+str(RE_type)+\" patents\"].plot(kind='bar', ax=ax, color=colors[n % len(colors)])\n",
    "    #format the y-axis values & limit\n",
    "    ax.set_title(str(RE_type))\n",
    "    ax.set_ylim(0,600)\n",
    "    plt.xticks(rotation=65, ha='right')\n",
    "plt.savefig('ARRA_patent_multiplot.jpg', bbox_inches='tight')\n",
    "plt.show()"
   ]
  },
  {
   "cell_type": "markdown",
   "metadata": {
    "id": "18Z1wJ_l6gZ1"
   },
   "source": [
    "## Post ARRA (2014-2018), accounting for patent lag time, we will look at patent data with the 'Patent_Year'  from 2017-2018 due to lack of patent data after 2018"
   ]
  },
  {
   "cell_type": "code",
   "execution_count": null,
   "metadata": {
    "id": "G0jkbqd36gZ2",
    "outputId": "342451b8-d18d-46c7-f112-ebfd892bb329"
   },
   "outputs": [
    {
     "data": {
      "image/png": "[encoded data removed]",
      "text/plain": [
       "<Figure size 864x432 with 4 Axes>"
      ]
     },
     "metadata": {
      "needs_background": "light"
     },
     "output_type": "display_data"
    }
   ],
   "source": [
    "patents=patent_df.copy()\n",
    "\n",
    "fig, axs = plt.subplots(nrows=2, ncols=2, figsize=(12,6))\n",
    "plt.subplots_adjust(hspace=0.5)\n",
    "fig.suptitle(\"Number of Patents Across Renewable Energy Types After Post-ARRA Period\", fontsize=18, y=1)\n",
    "\n",
    "colors=['skyblue','dodgerblue', 'olivedrab','coral']\n",
    "RE_types=['solar', 'wind power | wind turbine','biomass | biofuel','geothermal']\n",
    "for n, RE_type in enumerate(RE_types):\n",
    "    #iterative subplots\n",
    "    ax=plt.subplot(2,2,n+1)\n",
    "    #now filter by each topic's total fiscal year cost throughout the years \n",
    "    RE_ppyr1=patents[patents['patent_abstract'].isna() & patents['patent_title'].str.contains(RE_type)]\n",
    "    non_emptyab=patents[patents['patent_abstract'].notna()]\n",
    "    RE_ppyr2=non_emptyab[non_emptyab['patent_abstract'].str.contains(RE_type)]\n",
    "    combo_df=pd.concat([RE_ppyr1, RE_ppyr2]) #combined data sets \n",
    "    #separate by period \n",
    "    yf_df=combo_df[combo_df['Patent_Year'].between(2017,2018)]\n",
    "    new_df=yf_df.groupby('Patent_Year')['patent_number'].nunique().to_frame()\n",
    "    new_df=new_df.rename(columns={'patent_number':\"number of \"+str(RE_type)+\" patents\"})\n",
    "    new_df[\"number of \"+str(RE_type)+\" patents\"].plot(kind='bar', ax=ax, color=colors[n % len(colors)])\n",
    "    #format the y-axis values & limit\n",
    "    ax.set_title(str(RE_type))\n",
    "    ax.set_ylim(0,600)\n",
    "    plt.xticks(rotation=65, ha='right')\n",
    "plt.savefig('PostARRA_patent_multiplot.jpg', bbox_inches='tight')\n",
    "plt.show()"
   ]
  },
  {
   "cell_type": "markdown",
   "metadata": {
    "id": "-DA9JD8-Ot8-"
   },
   "source": [
    "The following is the stacked bar chart of all renewable energy types across all years. \n",
    "\n",
    "This image was used on slide 14 to show that renewable energy patents have increased 2.5x since 2010."
   ]
  },
  {
   "cell_type": "code",
   "execution_count": null,
   "metadata": {
    "id": "tR8shOfk6gaA",
    "outputId": "24db213c-8e95-4004-a7d9-6ccb7110185a"
   },
   "outputs": [
    {
     "data": {
      "image/png": "[encoded data removed]",
      "text/plain": [
       "<Figure size 864x432 with 1 Axes>"
      ]
     },
     "metadata": {
      "needs_background": "light"
     },
     "output_type": "display_data"
    }
   ],
   "source": [
    "import matplotlib.pyplot as plt\n",
    "%matplotlib inline  \n",
    "\n",
    "joined_types=patents.set_index('Patent_Year')\n",
    "\n",
    "ax=joined_types.plot(kind='bar', stacked=True, figsize=(12,6), color=['skyblue','dodgerblue', 'olivedrab','coral'])\n",
    "\n",
    "ax.legend(loc='center left', bbox_to_anchor=(1, 0.5))\n",
    "\n",
    "plt.title(\"Segmentation of Renewable Energy Patents 2010-2018\", )\n",
    "plt.xticks(rotation=65, ha='right')\n",
    "plt.savefig('RE_Segmentation_bars.jpg', bbox_inches='tight')\n",
    "plt.show()"
   ]
  },
  {
   "cell_type": "markdown",
   "metadata": {
    "id": "K_6SH2_lPqZI"
   },
   "source": [
    "Lets inspect the time needed to approve a patent:"
   ]
  },
  {
   "cell_type": "code",
   "execution_count": 1,
   "metadata": {
    "deepnote_cell_height": 81,
    "deepnote_cell_type": "code",
    "deepnote_to_be_reexecuted": false,
    "executionInfo": {
     "elapsed": 4,
     "status": "ok",
     "timestamp": 1652224492995,
     "user": {
      "displayName": "Anthony Chen",
      "userId": "09230866796586366218"
     },
     "user_tz": 240
    },
    "execution_millis": 9,
    "execution_start": 1647541431997,
    "id": "l77ybvHv6gZ2",
    "source_hash": "b623e53d",
    "tags": []
   },
   "outputs": [],
   "source": [
    "#helper function to calculate the days needed\n",
    "def days_between(d1, d2):\n",
    "    d1 = datetime.strptime(d1, \"%Y-%m-%d\")\n",
    "    d2 = datetime.strptime(d2, \"%Y-%m-%d\")\n",
    "    return abs((d2 - d1).days)"
   ]
  },
  {
   "cell_type": "code",
   "execution_count": null,
   "metadata": {
    "deepnote_cell_height": 81,
    "deepnote_cell_type": "code",
    "deepnote_to_be_reexecuted": false,
    "execution_millis": 7,
    "execution_start": 1647541432010,
    "id": "PEu2dnjV6gZ3",
    "source_hash": "b623e53d",
    "tags": []
   },
   "outputs": [],
   "source": [
    "patent_df['start']=pd.to_datetime(patent_df['app_date'])\n",
    "patent_df['end']=pd.to_datetime(patent_df['patent_date'])\n",
    "patent_df['days'] = (patent_df['end'] - patent_df['start']).abs().dt.days"
   ]
  },
  {
   "cell_type": "code",
   "execution_count": null,
   "metadata": {
    "deepnote_cell_height": 81,
    "deepnote_cell_type": "code",
    "deepnote_to_be_reexecuted": false,
    "execution_millis": 17,
    "execution_start": 1647541432034,
    "id": "m_VTTgFE6gZ3",
    "outputId": "1e277bcb-07d3-4242-8ca4-cfccc8d990ee",
    "source_hash": "b623e53d",
    "tags": []
   },
   "outputs": [
    {
     "data": {
      "text/html": [
       "<div>\n",
       "<style scoped>\n",
       "    .dataframe tbody tr th:only-of-type {\n",
       "        vertical-align: middle;\n",
       "    }\n",
       "\n",
       "    .dataframe tbody tr th {\n",
       "        vertical-align: top;\n",
       "    }\n",
       "\n",
       "    .dataframe thead th {\n",
       "        text-align: right;\n",
       "    }\n",
       "</style>\n",
       "<table border=\"1\" class=\"dataframe\">\n",
       "  <thead>\n",
       "    <tr style=\"text-align: right;\">\n",
       "      <th></th>\n",
       "      <th>start</th>\n",
       "      <th>end</th>\n",
       "      <th>days</th>\n",
       "    </tr>\n",
       "  </thead>\n",
       "  <tbody>\n",
       "    <tr>\n",
       "      <th>0</th>\n",
       "      <td>2005-04-01</td>\n",
       "      <td>2010-01-05</td>\n",
       "      <td>1740</td>\n",
       "    </tr>\n",
       "    <tr>\n",
       "      <th>1</th>\n",
       "      <td>2007-10-31</td>\n",
       "      <td>2010-01-05</td>\n",
       "      <td>797</td>\n",
       "    </tr>\n",
       "  </tbody>\n",
       "</table>\n",
       "</div>"
      ],
      "text/plain": [
       "       start        end  days\n",
       "0 2005-04-01 2010-01-05  1740\n",
       "1 2007-10-31 2010-01-05   797"
      ]
     },
     "execution_count": 17,
     "metadata": {},
     "output_type": "execute_result"
    }
   ],
   "source": [
    "#leap years in 2012 and 2016\n",
    "patent_df[['start', 'end', 'days']].head(2)"
   ]
  },
  {
   "cell_type": "code",
   "execution_count": null,
   "metadata": {
    "deepnote_cell_height": 66,
    "deepnote_cell_type": "code",
    "id": "f0ck3xrl6gZ3",
    "outputId": "1d0efb49-572a-4b83-f375-9ede70380340",
    "tags": []
   },
   "outputs": [
    {
     "data": {
      "text/plain": [
       "3.087339099832664"
      ]
     },
     "execution_count": 18,
     "metadata": {},
     "output_type": "execute_result"
    }
   ],
   "source": [
    "patent_df['days'].mean()/365\n",
    "#Approximately a little over 3 years per patent "
   ]
  },
  {
   "cell_type": "code",
   "execution_count": null,
   "metadata": {
    "id": "VpKawJiK6gZ4",
    "outputId": "a693c778-81b9-49cb-b1b7-9a34ac21db92"
   },
   "outputs": [
    {
     "data": {
      "text/plain": [
       "2.9757147555289976"
      ]
     },
     "execution_count": 19,
     "metadata": {},
     "output_type": "execute_result"
    }
   ],
   "source": [
    "RE_types='solar | wind power | wind turbine | biomass | biofuel | geothermal'\n",
    "p_emptyab=patent_df[patent_df['patent_abstract'].isna()]\n",
    "non_emptyab=patent_df[patent_df['patent_abstract'].notna()]\n",
    "RE_ppyr1=p_emptyab[p_emptyab['patent_title'].str.contains(RE_types)]\n",
    "RE_ppyr2=non_emptyab[non_emptyab['patent_abstract'].str.contains(RE_types)]\n",
    "RE_ppyr=pd.concat([RE_ppyr1, RE_ppyr2])\n",
    "RE_ppyr['days'].mean()/365"
   ]
  },
  {
   "cell_type": "markdown",
   "metadata": {
    "id": "dQMwZPcAQVK3"
   },
   "source": [
    "We can see that it takes approximately almost 3 years to obtain a patent. Now let's see if it fluctuates across each renewable energy type. They all take approximately about the same number of years (3). However, geothermal seems to take the longest to get approved, and wind takes the least amount of time. "
   ]
  },
  {
   "cell_type": "code",
   "execution_count": null,
   "metadata": {
    "id": "mkprvbch6gZ_",
    "outputId": "28ee4c22-bf7c-490a-c163-915dd423460b"
   },
   "outputs": [
    {
     "name": "stdout",
     "output_type": "stream",
     "text": [
      "RE type: solar takes 2.9524095058696673 years to receive patent\n",
      "RE type: wind power | wind turbine takes 2.8405540334855406 years to receive patent\n",
      "RE type: biomass | biofuel takes 2.9779507112276176 years to receive patent\n",
      "RE type: geothermal takes 3.373318209580316 years to receive patent\n"
     ]
    }
   ],
   "source": [
    "RE_types=['solar', 'wind power | wind turbine','biomass | biofuel','geothermal']\n",
    "for r in RE_types:\n",
    "    p_emptyab=patent_df[patent_df['patent_abstract'].isna()] #some abstracts are empty so we would look at the title\n",
    "    non_emptyab=patent_df[patent_df['patent_abstract'].notna()] #for nonempty abstracts we would look directly at the abstracts\n",
    "    RE_ppyr1=p_emptyab[p_emptyab['patent_title'].str.contains(r)]\n",
    "    RE_ppyr2=non_emptyab[non_emptyab['patent_abstract'].str.contains(r)]\n",
    "    RE_ppyr=pd.concat([RE_ppyr1, RE_ppyr2])\n",
    "    print('RE type:', r, 'takes', RE_ppyr['days'].mean()/365, 'years to receive patent')"
   ]
  },
  {
   "cell_type": "markdown",
   "metadata": {
    "id": "oWnTK_CmQdq2"
   },
   "source": [
    "The following is just another visualization of patents across years in table form"
   ]
  },
  {
   "cell_type": "code",
   "execution_count": null,
   "metadata": {
    "id": "kjr2S0__6gZ_",
    "outputId": "8abe93d2-ac19-4ba5-822d-56033196ea73",
    "scrolled": true
   },
   "outputs": [
    {
     "data": {
      "text/html": [
       "<div>\n",
       "<style scoped>\n",
       "    .dataframe tbody tr th:only-of-type {\n",
       "        vertical-align: middle;\n",
       "    }\n",
       "\n",
       "    .dataframe tbody tr th {\n",
       "        vertical-align: top;\n",
       "    }\n",
       "\n",
       "    .dataframe thead th {\n",
       "        text-align: right;\n",
       "    }\n",
       "</style>\n",
       "<table border=\"1\" class=\"dataframe\">\n",
       "  <thead>\n",
       "    <tr style=\"text-align: right;\">\n",
       "      <th></th>\n",
       "      <th>Patent_Year</th>\n",
       "      <th>Number of solar Patents</th>\n",
       "      <th>Number of wind power | wind turbine Patents</th>\n",
       "      <th>Number of biomass | biofuel Patents</th>\n",
       "      <th>Number of geothermal Patents</th>\n",
       "    </tr>\n",
       "  </thead>\n",
       "  <tbody>\n",
       "    <tr>\n",
       "      <th>0</th>\n",
       "      <td>2010</td>\n",
       "      <td>242</td>\n",
       "      <td>47</td>\n",
       "      <td>52</td>\n",
       "      <td>8</td>\n",
       "    </tr>\n",
       "    <tr>\n",
       "      <th>1</th>\n",
       "      <td>2011</td>\n",
       "      <td>298</td>\n",
       "      <td>114</td>\n",
       "      <td>97</td>\n",
       "      <td>12</td>\n",
       "    </tr>\n",
       "    <tr>\n",
       "      <th>2</th>\n",
       "      <td>2012</td>\n",
       "      <td>459</td>\n",
       "      <td>142</td>\n",
       "      <td>192</td>\n",
       "      <td>15</td>\n",
       "    </tr>\n",
       "    <tr>\n",
       "      <th>3</th>\n",
       "      <td>2013</td>\n",
       "      <td>507</td>\n",
       "      <td>102</td>\n",
       "      <td>217</td>\n",
       "      <td>24</td>\n",
       "    </tr>\n",
       "    <tr>\n",
       "      <th>4</th>\n",
       "      <td>2014</td>\n",
       "      <td>574</td>\n",
       "      <td>98</td>\n",
       "      <td>254</td>\n",
       "      <td>21</td>\n",
       "    </tr>\n",
       "    <tr>\n",
       "      <th>5</th>\n",
       "      <td>2015</td>\n",
       "      <td>516</td>\n",
       "      <td>74</td>\n",
       "      <td>217</td>\n",
       "      <td>21</td>\n",
       "    </tr>\n",
       "    <tr>\n",
       "      <th>6</th>\n",
       "      <td>2016</td>\n",
       "      <td>559</td>\n",
       "      <td>92</td>\n",
       "      <td>266</td>\n",
       "      <td>25</td>\n",
       "    </tr>\n",
       "    <tr>\n",
       "      <th>7</th>\n",
       "      <td>2017</td>\n",
       "      <td>489</td>\n",
       "      <td>114</td>\n",
       "      <td>207</td>\n",
       "      <td>21</td>\n",
       "    </tr>\n",
       "    <tr>\n",
       "      <th>8</th>\n",
       "      <td>2018</td>\n",
       "      <td>523</td>\n",
       "      <td>117</td>\n",
       "      <td>165</td>\n",
       "      <td>10</td>\n",
       "    </tr>\n",
       "  </tbody>\n",
       "</table>\n",
       "</div>"
      ],
      "text/plain": [
       "   Patent_Year  Number of solar Patents  \\\n",
       "0         2010                      242   \n",
       "1         2011                      298   \n",
       "2         2012                      459   \n",
       "3         2013                      507   \n",
       "4         2014                      574   \n",
       "5         2015                      516   \n",
       "6         2016                      559   \n",
       "7         2017                      489   \n",
       "8         2018                      523   \n",
       "\n",
       "   Number of wind power | wind turbine Patents  \\\n",
       "0                                           47   \n",
       "1                                          114   \n",
       "2                                          142   \n",
       "3                                          102   \n",
       "4                                           98   \n",
       "5                                           74   \n",
       "6                                           92   \n",
       "7                                          114   \n",
       "8                                          117   \n",
       "\n",
       "   Number of biomass | biofuel Patents  Number of geothermal Patents  \n",
       "0                                   52                             8  \n",
       "1                                   97                            12  \n",
       "2                                  192                            15  \n",
       "3                                  217                            24  \n",
       "4                                  254                            21  \n",
       "5                                  217                            21  \n",
       "6                                  266                            25  \n",
       "7                                  207                            21  \n",
       "8                                  165                            10  "
      ]
     },
     "execution_count": 21,
     "metadata": {},
     "output_type": "execute_result"
    }
   ],
   "source": [
    "#Make a dataframe of year indices and renewable types across columns\n",
    "RE_types=['solar', 'wind power | wind turbine','biomass | biofuel','geothermal']\n",
    "t_type_list=[]\n",
    "for t in RE_types:\n",
    "    p_emptyab=patent_df[patent_df['patent_abstract'].isna()]\n",
    "    non_emptyab=patent_df[patent_df['patent_abstract'].notna()]\n",
    "    RE_ppyr1=p_emptyab[p_emptyab['patent_title'].str.contains(t)]\n",
    "    RE_ppyr2=non_emptyab[non_emptyab['patent_abstract'].str.contains(t)]\n",
    "    RE_ppyr=pd.concat([RE_ppyr1, RE_ppyr2])\n",
    "    t_type=RE_ppyr.groupby('Patent_Year')['patent_number'].nunique().to_frame().reset_index()\n",
    "    t_type.rename(columns={'patent_number':'Number of {} Patents'.format(t)} , inplace=True)\n",
    "    t_type_list.append(t_type)\n",
    "RE_df=t_type_list[0].copy()\n",
    "RE_df=RE_df.drop(RE_df.columns[1], axis=1)\n",
    "for n in list(range(len(t_type_list))):\n",
    "    RE_df=RE_df.merge(t_type_list[n], on='Patent_Year', how = 'left')\n",
    "RE_df"
   ]
  },
  {
   "cell_type": "code",
   "execution_count": null,
   "metadata": {
    "id": "J0DuUtWl6gZ_",
    "outputId": "e7aebd33-7428-4de7-f1ff-a397da4ed924"
   },
   "outputs": [
    {
     "data": {
      "text/plain": [
       "Index(['Patent_Year', 'Number of solar Patents',\n",
       "       'Number of wind power | wind turbine Patents',\n",
       "       'Number of biomass | biofuel Patents', 'Number of geothermal Patents'],\n",
       "      dtype='object')"
      ]
     },
     "execution_count": 22,
     "metadata": {},
     "output_type": "execute_result"
    }
   ],
   "source": [
    "patents.columns"
   ]
  },
  {
   "cell_type": "markdown",
   "metadata": {
    "created_in_deepnote_cell": true,
    "deepnote_cell_type": "markdown",
    "id": "i0O8PNF66gaA",
    "tags": []
   },
   "source": [
    "<a style='text-decoration:none;line-height:16px;display:flex;color:#5B5B62;padding:10px;justify-content:end;' href='https://deepnote.com?utm_source=created-in-deepnote-cell&projectId=345d379f-4fce-49a9-b9b3-b7fe9df52817' target=\"_blank\">\n",
    "<img alt='Created in deepnote.com' style='display:inline;max-height:16px;margin:0px;margin-right:7.5px;' src='data:image/svg+xml;base64,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' > </img>\n",
    "Created in <span style='font-weight:600;margin-left:4px;'>Deepnote</span></a>"
   ]
  }
 ],
 "metadata": {
  "colab": {
   "collapsed_sections": [],
   "name": "Patents-data-processing-EDA-visuals.ipynb",
   "provenance": []
  },
  "deepnote": {
   "is_reactive": false
  },
  "deepnote_execution_queue": [],
  "deepnote_notebook_id": "20520f6b-1b58-4a5d-86cd-3f2c2634501b",
  "kernelspec": {
   "display_name": "Python 3 (ipykernel)",
   "language": "python",
   "name": "python3"
  },
  "language_info": {
   "codemirror_mode": {
    "name": "ipython",
    "version": 3
   },
   "file_extension": ".py",
   "mimetype": "text/x-python",
   "name": "python",
   "nbconvert_exporter": "python",
   "pygments_lexer": "ipython3",
   "version": "3.8.12"
  }
 },
 "nbformat": 4,
 "nbformat_minor": 1
}
